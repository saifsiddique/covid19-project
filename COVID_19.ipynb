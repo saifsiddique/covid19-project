{
  "nbformat": 4,
  "nbformat_minor": 0,
  "metadata": {
    "kernelspec": {
      "display_name": "Python 3",
      "language": "python",
      "name": "python3"
    },
    "language_info": {
      "codemirror_mode": {
        "name": "ipython",
        "version": 3
      },
      "file_extension": ".py",
      "mimetype": "text/x-python",
      "name": "python",
      "nbconvert_exporter": "python",
      "pygments_lexer": "ipython3",
      "version": "3.6.6"
    },
    "colab": {
      "name": "India_vs_World_COVID_19.ipynb",
      "provenance": [],
      "collapsed_sections": [
        "RkCHpmwkFOtU",
        "oTiw0LbXCmeW",
        "KW3k0TQcFEO4",
        "dFhorHIrdhCq",
        "0q44og8xdhE1",
        "7auHzQ1edhFV",
        "PfZbFocZdhFh",
        "QvCUF8AQdhFv",
        "AQ73T8PrdhGB",
        "mCQ7l2xJM5Ke"
      ],
      "toc_visible": true
    }
  },
  "cells": [
    {
      "cell_type": "code",
      "metadata": {
        "_kg_hide-input": true,
        "_kg_hide-output": true,
        "id": "BRQ9saONdhCQ"
      },
      "source": [
        "# importing libraries\n",
        "import pandas as pd\n",
        "import matplotlib.pyplot as plt\n",
        "%matplotlib inline\n",
        "import seaborn as sns\n",
        "import plotly.express as px\n",
        "import plotly.graph_objects as go\n",
        "import folium \n",
        "from folium import plugins"
      ],
      "execution_count": 1,
      "outputs": []
    },
    {
      "cell_type": "code",
      "metadata": {
        "id": "4bT9YynpWYQ0"
      },
      "source": [
        "plt.rcParams['figure.figsize'] = 10, 12"
      ],
      "execution_count": 2,
      "outputs": []
    },
    {
      "cell_type": "code",
      "metadata": {
        "id": "FQuLQGVeWbuG"
      },
      "source": [
        "# Disable warnings \n",
        "import warnings\n",
        "warnings.filterwarnings('ignore')"
      ],
      "execution_count": 3,
      "outputs": []
    },
    {
      "cell_type": "markdown",
      "metadata": {
        "id": "QLaxaOyJJvU7"
      },
      "source": [
        "## Reading the Datasets"
      ]
    },
    {
      "cell_type": "code",
      "metadata": {
        "_kg_hide-input": true,
        "_kg_hide-output": true,
        "id": "GT-J_-YQdhCy",
        "outputId": "88ca457f-9fdb-429a-96fe-1954895df08c",
        "colab": {
          "base_uri": "https://localhost:8080/",
          "height": 411
        }
      },
      "source": [
        "# Reading the datasets\n",
        "df= pd.read_csv('state_level_latest.csv')\n",
        "df_india = df.copy()\n",
        "df.head()"
      ],
      "execution_count": 20,
      "outputs": [
        {
          "output_type": "execute_result",
          "data": {
            "text/html": [
              "<div>\n",
              "<style scoped>\n",
              "    .dataframe tbody tr th:only-of-type {\n",
              "        vertical-align: middle;\n",
              "    }\n",
              "\n",
              "    .dataframe tbody tr th {\n",
              "        vertical-align: top;\n",
              "    }\n",
              "\n",
              "    .dataframe thead th {\n",
              "        text-align: right;\n",
              "    }\n",
              "</style>\n",
              "<table border=\"1\" class=\"dataframe\">\n",
              "  <thead>\n",
              "    <tr style=\"text-align: right;\">\n",
              "      <th></th>\n",
              "      <th>State</th>\n",
              "      <th>Confirmed</th>\n",
              "      <th>Recovered</th>\n",
              "      <th>Deaths</th>\n",
              "      <th>Active</th>\n",
              "      <th>Last_Updated_Time</th>\n",
              "      <th>Migrated_Other</th>\n",
              "      <th>State_code</th>\n",
              "      <th>Delta_Confirmed</th>\n",
              "      <th>Delta_Recovered</th>\n",
              "      <th>Delta_Deaths</th>\n",
              "      <th>State_Notes</th>\n",
              "    </tr>\n",
              "  </thead>\n",
              "  <tbody>\n",
              "    <tr>\n",
              "      <th>0</th>\n",
              "      <td>Total</td>\n",
              "      <td>2025409</td>\n",
              "      <td>1377384</td>\n",
              "      <td>41638</td>\n",
              "      <td>605933</td>\n",
              "      <td>06-08-20 23:46</td>\n",
              "      <td>454</td>\n",
              "      <td>TT</td>\n",
              "      <td>0</td>\n",
              "      <td>0</td>\n",
              "      <td>0</td>\n",
              "      <td>NaN</td>\n",
              "    </tr>\n",
              "    <tr>\n",
              "      <th>1</th>\n",
              "      <td>Maharashtra</td>\n",
              "      <td>479779</td>\n",
              "      <td>316375</td>\n",
              "      <td>16792</td>\n",
              "      <td>146305</td>\n",
              "      <td>06-08-20 20:42</td>\n",
              "      <td>307</td>\n",
              "      <td>MH</td>\n",
              "      <td>0</td>\n",
              "      <td>0</td>\n",
              "      <td>0</td>\n",
              "      <td>307 cases are marked as non-covid deaths in MH...</td>\n",
              "    </tr>\n",
              "    <tr>\n",
              "      <th>2</th>\n",
              "      <td>Tamil Nadu</td>\n",
              "      <td>279144</td>\n",
              "      <td>221087</td>\n",
              "      <td>4571</td>\n",
              "      <td>53486</td>\n",
              "      <td>06-08-20 19:44</td>\n",
              "      <td>0</td>\n",
              "      <td>TN</td>\n",
              "      <td>0</td>\n",
              "      <td>0</td>\n",
              "      <td>0</td>\n",
              "      <td>[July 22]: 444 backdated deceased entries adde...</td>\n",
              "    </tr>\n",
              "    <tr>\n",
              "      <th>3</th>\n",
              "      <td>Delhi</td>\n",
              "      <td>141531</td>\n",
              "      <td>127124</td>\n",
              "      <td>4059</td>\n",
              "      <td>10348</td>\n",
              "      <td>06-08-20 18:39</td>\n",
              "      <td>0</td>\n",
              "      <td>DL</td>\n",
              "      <td>0</td>\n",
              "      <td>0</td>\n",
              "      <td>0</td>\n",
              "      <td>[July 14]: Value for the total tests conducted...</td>\n",
              "    </tr>\n",
              "    <tr>\n",
              "      <th>4</th>\n",
              "      <td>Karnataka</td>\n",
              "      <td>158254</td>\n",
              "      <td>80281</td>\n",
              "      <td>2897</td>\n",
              "      <td>75067</td>\n",
              "      <td>06-08-20 21:19</td>\n",
              "      <td>9</td>\n",
              "      <td>KA</td>\n",
              "      <td>0</td>\n",
              "      <td>0</td>\n",
              "      <td>0</td>\n",
              "      <td>NaN</td>\n",
              "    </tr>\n",
              "  </tbody>\n",
              "</table>\n",
              "</div>"
            ],
            "text/plain": [
              "         State  ...                                        State_Notes\n",
              "0        Total  ...                                                NaN\n",
              "1  Maharashtra  ...  307 cases are marked as non-covid deaths in MH...\n",
              "2   Tamil Nadu  ...  [July 22]: 444 backdated deceased entries adde...\n",
              "3        Delhi  ...  [July 14]: Value for the total tests conducted...\n",
              "4    Karnataka  ...                                                NaN\n",
              "\n",
              "[5 rows x 12 columns]"
            ]
          },
          "metadata": {
            "tags": []
          },
          "execution_count": 20
        }
      ]
    },
    {
      "cell_type": "code",
      "metadata": {
        "id": "pn4GpG2CjX2C",
        "outputId": "0a272161-7e62-4953-97a3-250d1a79325c",
        "colab": {
          "base_uri": "https://localhost:8080/",
          "height": 204
        }
      },
      "source": [
        "# Coordinates of India States and Union Territories\n",
        "India_coord = pd.read_csv('State Coordinates.csv')\n",
        "India_coord.head()"
      ],
      "execution_count": 35,
      "outputs": [
        {
          "output_type": "execute_result",
          "data": {
            "text/html": [
              "<div>\n",
              "<style scoped>\n",
              "    .dataframe tbody tr th:only-of-type {\n",
              "        vertical-align: middle;\n",
              "    }\n",
              "\n",
              "    .dataframe tbody tr th {\n",
              "        vertical-align: top;\n",
              "    }\n",
              "\n",
              "    .dataframe thead th {\n",
              "        text-align: right;\n",
              "    }\n",
              "</style>\n",
              "<table border=\"1\" class=\"dataframe\">\n",
              "  <thead>\n",
              "    <tr style=\"text-align: right;\">\n",
              "      <th></th>\n",
              "      <th>Name of State / UT</th>\n",
              "      <th>Latitude</th>\n",
              "      <th>Longitude</th>\n",
              "      <th>Unnamed: 3</th>\n",
              "    </tr>\n",
              "  </thead>\n",
              "  <tbody>\n",
              "    <tr>\n",
              "      <th>0</th>\n",
              "      <td>Andaman and Nicobar Islands</td>\n",
              "      <td>11.667026</td>\n",
              "      <td>92.735983</td>\n",
              "      <td>NaN</td>\n",
              "    </tr>\n",
              "    <tr>\n",
              "      <th>1</th>\n",
              "      <td>Andhra Pradesh</td>\n",
              "      <td>14.750429</td>\n",
              "      <td>78.570026</td>\n",
              "      <td>NaN</td>\n",
              "    </tr>\n",
              "    <tr>\n",
              "      <th>2</th>\n",
              "      <td>Arunachal Pradesh</td>\n",
              "      <td>27.100399</td>\n",
              "      <td>93.616601</td>\n",
              "      <td>NaN</td>\n",
              "    </tr>\n",
              "    <tr>\n",
              "      <th>3</th>\n",
              "      <td>Assam</td>\n",
              "      <td>26.749981</td>\n",
              "      <td>94.216667</td>\n",
              "      <td>NaN</td>\n",
              "    </tr>\n",
              "    <tr>\n",
              "      <th>4</th>\n",
              "      <td>Bihar</td>\n",
              "      <td>25.785414</td>\n",
              "      <td>87.479973</td>\n",
              "      <td>NaN</td>\n",
              "    </tr>\n",
              "  </tbody>\n",
              "</table>\n",
              "</div>"
            ],
            "text/plain": [
              "            Name of State / UT   Latitude  Longitude  Unnamed: 3\n",
              "0  Andaman and Nicobar Islands  11.667026  92.735983         NaN\n",
              "1               Andhra Pradesh  14.750429  78.570026         NaN\n",
              "2            Arunachal Pradesh  27.100399  93.616601         NaN\n",
              "3                        Assam  26.749981  94.216667         NaN\n",
              "4                        Bihar  25.785414  87.479973         NaN"
            ]
          },
          "metadata": {
            "tags": []
          },
          "execution_count": 35
        }
      ]
    },
    {
      "cell_type": "code",
      "metadata": {
        "id": "QiAVz8G-c-i_",
        "outputId": "2779bbf1-4931-4ffb-9f43-4d055ae51521",
        "colab": {
          "base_uri": "https://localhost:8080/",
          "height": 204
        }
      },
      "source": [
        "India_coord.rename(columns={'Name of State / UT': 'State'}, inplace=True)\n",
        "India_coord.drop(['Unnamed: 3'], axis=1, inplace=True)\n",
        "India_coord.head()"
      ],
      "execution_count": 36,
      "outputs": [
        {
          "output_type": "execute_result",
          "data": {
            "text/html": [
              "<div>\n",
              "<style scoped>\n",
              "    .dataframe tbody tr th:only-of-type {\n",
              "        vertical-align: middle;\n",
              "    }\n",
              "\n",
              "    .dataframe tbody tr th {\n",
              "        vertical-align: top;\n",
              "    }\n",
              "\n",
              "    .dataframe thead th {\n",
              "        text-align: right;\n",
              "    }\n",
              "</style>\n",
              "<table border=\"1\" class=\"dataframe\">\n",
              "  <thead>\n",
              "    <tr style=\"text-align: right;\">\n",
              "      <th></th>\n",
              "      <th>State</th>\n",
              "      <th>Latitude</th>\n",
              "      <th>Longitude</th>\n",
              "    </tr>\n",
              "  </thead>\n",
              "  <tbody>\n",
              "    <tr>\n",
              "      <th>0</th>\n",
              "      <td>Andaman and Nicobar Islands</td>\n",
              "      <td>11.667026</td>\n",
              "      <td>92.735983</td>\n",
              "    </tr>\n",
              "    <tr>\n",
              "      <th>1</th>\n",
              "      <td>Andhra Pradesh</td>\n",
              "      <td>14.750429</td>\n",
              "      <td>78.570026</td>\n",
              "    </tr>\n",
              "    <tr>\n",
              "      <th>2</th>\n",
              "      <td>Arunachal Pradesh</td>\n",
              "      <td>27.100399</td>\n",
              "      <td>93.616601</td>\n",
              "    </tr>\n",
              "    <tr>\n",
              "      <th>3</th>\n",
              "      <td>Assam</td>\n",
              "      <td>26.749981</td>\n",
              "      <td>94.216667</td>\n",
              "    </tr>\n",
              "    <tr>\n",
              "      <th>4</th>\n",
              "      <td>Bihar</td>\n",
              "      <td>25.785414</td>\n",
              "      <td>87.479973</td>\n",
              "    </tr>\n",
              "  </tbody>\n",
              "</table>\n",
              "</div>"
            ],
            "text/plain": [
              "                         State   Latitude  Longitude\n",
              "0  Andaman and Nicobar Islands  11.667026  92.735983\n",
              "1               Andhra Pradesh  14.750429  78.570026\n",
              "2            Arunachal Pradesh  27.100399  93.616601\n",
              "3                        Assam  26.749981  94.216667\n",
              "4                        Bihar  25.785414  87.479973"
            ]
          },
          "metadata": {
            "tags": []
          },
          "execution_count": 36
        }
      ]
    },
    {
      "cell_type": "code",
      "metadata": {
        "id": "VU3nT29rZ7YY"
      },
      "source": [
        "dbd_India = pd.read_csv('per_day_cases.csv')"
      ],
      "execution_count": 14,
      "outputs": []
    },
    {
      "cell_type": "markdown",
      "metadata": {
        "id": "2B1zwo4gdhDd"
      },
      "source": [
        "## Analyzing COVID19 Cases in India"
      ]
    },
    {
      "cell_type": "code",
      "metadata": {
        "_kg_hide-input": true,
        "id": "5x5FEOVEdhDF",
        "outputId": "837120d6-edf4-4792-d944-6a49383d381e",
        "colab": {
          "base_uri": "https://localhost:8080/",
          "height": 204
        }
      },
      "source": [
        "#cleaning dataseet\n",
        "df.drop(['Last_Updated_Time',\t'Migrated_Other',\t'State_code',\t'Delta_Confirmed',\t'Delta_Recovered',\t'Delta_Deaths',\t'State_Notes'], axis=1, inplace=True)\n",
        "df.head()"
      ],
      "execution_count": 21,
      "outputs": [
        {
          "output_type": "execute_result",
          "data": {
            "text/html": [
              "<div>\n",
              "<style scoped>\n",
              "    .dataframe tbody tr th:only-of-type {\n",
              "        vertical-align: middle;\n",
              "    }\n",
              "\n",
              "    .dataframe tbody tr th {\n",
              "        vertical-align: top;\n",
              "    }\n",
              "\n",
              "    .dataframe thead th {\n",
              "        text-align: right;\n",
              "    }\n",
              "</style>\n",
              "<table border=\"1\" class=\"dataframe\">\n",
              "  <thead>\n",
              "    <tr style=\"text-align: right;\">\n",
              "      <th></th>\n",
              "      <th>State</th>\n",
              "      <th>Confirmed</th>\n",
              "      <th>Recovered</th>\n",
              "      <th>Deaths</th>\n",
              "      <th>Active</th>\n",
              "    </tr>\n",
              "  </thead>\n",
              "  <tbody>\n",
              "    <tr>\n",
              "      <th>0</th>\n",
              "      <td>Total</td>\n",
              "      <td>2025409</td>\n",
              "      <td>1377384</td>\n",
              "      <td>41638</td>\n",
              "      <td>605933</td>\n",
              "    </tr>\n",
              "    <tr>\n",
              "      <th>1</th>\n",
              "      <td>Maharashtra</td>\n",
              "      <td>479779</td>\n",
              "      <td>316375</td>\n",
              "      <td>16792</td>\n",
              "      <td>146305</td>\n",
              "    </tr>\n",
              "    <tr>\n",
              "      <th>2</th>\n",
              "      <td>Tamil Nadu</td>\n",
              "      <td>279144</td>\n",
              "      <td>221087</td>\n",
              "      <td>4571</td>\n",
              "      <td>53486</td>\n",
              "    </tr>\n",
              "    <tr>\n",
              "      <th>3</th>\n",
              "      <td>Delhi</td>\n",
              "      <td>141531</td>\n",
              "      <td>127124</td>\n",
              "      <td>4059</td>\n",
              "      <td>10348</td>\n",
              "    </tr>\n",
              "    <tr>\n",
              "      <th>4</th>\n",
              "      <td>Karnataka</td>\n",
              "      <td>158254</td>\n",
              "      <td>80281</td>\n",
              "      <td>2897</td>\n",
              "      <td>75067</td>\n",
              "    </tr>\n",
              "  </tbody>\n",
              "</table>\n",
              "</div>"
            ],
            "text/plain": [
              "         State  Confirmed  Recovered  Deaths  Active\n",
              "0        Total    2025409    1377384   41638  605933\n",
              "1  Maharashtra     479779     316375   16792  146305\n",
              "2   Tamil Nadu     279144     221087    4571   53486\n",
              "3        Delhi     141531     127124    4059   10348\n",
              "4    Karnataka     158254      80281    2897   75067"
            ]
          },
          "metadata": {
            "tags": []
          },
          "execution_count": 21
        }
      ]
    },
    {
      "cell_type": "code",
      "metadata": {
        "id": "gUdcE-ugbi45",
        "outputId": "3d628693-b99f-43c9-dc29-f4b7b102daa6",
        "colab": {
          "base_uri": "https://localhost:8080/",
          "height": 34
        }
      },
      "source": [
        "total_cases = df['Confirmed'].sum()\n",
        "print('Total number of confirmed COVID 2019 cases across India till date (6th August, 2020):', total_cases)"
      ],
      "execution_count": 22,
      "outputs": [
        {
          "output_type": "stream",
          "text": [
            "Total number of confirmed COVID 2019 cases across India till date (6th August, 2020): 4050818\n"
          ],
          "name": "stdout"
        }
      ]
    },
    {
      "cell_type": "code",
      "metadata": {
        "_kg_hide-input": true,
        "_kg_hide-output": false,
        "id": "jIQzgI5YdhDh",
        "outputId": "8e03b56d-04f1-41fa-ea1d-dadf839437fd",
        "colab": {
          "base_uri": "https://localhost:8080/",
          "height": 838
        }
      },
      "source": [
        "#Learn how to highlight your dataframe\n",
        "df.style.background_gradient(cmap='Reds')"
      ],
      "execution_count": 17,
      "outputs": [
        {
          "output_type": "execute_result",
          "data": {
            "text/html": [
              "<style  type=\"text/css\" >\n",
              "#T_77b2d4ce_11cf_11eb_9ba9_0242ac1c0002row0_col1,#T_77b2d4ce_11cf_11eb_9ba9_0242ac1c0002row0_col2,#T_77b2d4ce_11cf_11eb_9ba9_0242ac1c0002row0_col3,#T_77b2d4ce_11cf_11eb_9ba9_0242ac1c0002row0_col4{\n",
              "            background-color:  #67000d;\n",
              "            color:  #f1f1f1;\n",
              "        }#T_77b2d4ce_11cf_11eb_9ba9_0242ac1c0002row1_col1{\n",
              "            background-color:  #fcbfa7;\n",
              "            color:  #000000;\n",
              "        }#T_77b2d4ce_11cf_11eb_9ba9_0242ac1c0002row1_col2{\n",
              "            background-color:  #fcc2aa;\n",
              "            color:  #000000;\n",
              "        }#T_77b2d4ce_11cf_11eb_9ba9_0242ac1c0002row1_col3{\n",
              "            background-color:  #fc8969;\n",
              "            color:  #000000;\n",
              "        }#T_77b2d4ce_11cf_11eb_9ba9_0242ac1c0002row1_col4{\n",
              "            background-color:  #fcbea5;\n",
              "            color:  #000000;\n",
              "        }#T_77b2d4ce_11cf_11eb_9ba9_0242ac1c0002row2_col1{\n",
              "            background-color:  #fedccd;\n",
              "            color:  #000000;\n",
              "        }#T_77b2d4ce_11cf_11eb_9ba9_0242ac1c0002row2_col2{\n",
              "            background-color:  #fdd5c4;\n",
              "            color:  #000000;\n",
              "        }#T_77b2d4ce_11cf_11eb_9ba9_0242ac1c0002row2_col3{\n",
              "            background-color:  #fee3d6;\n",
              "            color:  #000000;\n",
              "        }#T_77b2d4ce_11cf_11eb_9ba9_0242ac1c0002row2_col4{\n",
              "            background-color:  #fee7db;\n",
              "            color:  #000000;\n",
              "        }#T_77b2d4ce_11cf_11eb_9ba9_0242ac1c0002row3_col1,#T_77b2d4ce_11cf_11eb_9ba9_0242ac1c0002row4_col3{\n",
              "            background-color:  #feeae0;\n",
              "            color:  #000000;\n",
              "        }#T_77b2d4ce_11cf_11eb_9ba9_0242ac1c0002row3_col2{\n",
              "            background-color:  #fee6da;\n",
              "            color:  #000000;\n",
              "        }#T_77b2d4ce_11cf_11eb_9ba9_0242ac1c0002row3_col3,#T_77b2d4ce_11cf_11eb_9ba9_0242ac1c0002row5_col1{\n",
              "            background-color:  #fee5d9;\n",
              "            color:  #000000;\n",
              "        }#T_77b2d4ce_11cf_11eb_9ba9_0242ac1c0002row3_col4,#T_77b2d4ce_11cf_11eb_9ba9_0242ac1c0002row10_col3,#T_77b2d4ce_11cf_11eb_9ba9_0242ac1c0002row12_col1,#T_77b2d4ce_11cf_11eb_9ba9_0242ac1c0002row14_col1,#T_77b2d4ce_11cf_11eb_9ba9_0242ac1c0002row14_col2,#T_77b2d4ce_11cf_11eb_9ba9_0242ac1c0002row15_col2{\n",
              "            background-color:  #fff2ec;\n",
              "            color:  #000000;\n",
              "        }#T_77b2d4ce_11cf_11eb_9ba9_0242ac1c0002row4_col1,#T_77b2d4ce_11cf_11eb_9ba9_0242ac1c0002row5_col2{\n",
              "            background-color:  #fee8dd;\n",
              "            color:  #000000;\n",
              "        }#T_77b2d4ce_11cf_11eb_9ba9_0242ac1c0002row4_col2{\n",
              "            background-color:  #ffece3;\n",
              "            color:  #000000;\n",
              "        }#T_77b2d4ce_11cf_11eb_9ba9_0242ac1c0002row4_col4{\n",
              "            background-color:  #fee1d3;\n",
              "            color:  #000000;\n",
              "        }#T_77b2d4ce_11cf_11eb_9ba9_0242ac1c0002row5_col3,#T_77b2d4ce_11cf_11eb_9ba9_0242ac1c0002row8_col1,#T_77b2d4ce_11cf_11eb_9ba9_0242ac1c0002row8_col4,#T_77b2d4ce_11cf_11eb_9ba9_0242ac1c0002row11_col4{\n",
              "            background-color:  #ffeee7;\n",
              "            color:  #000000;\n",
              "        }#T_77b2d4ce_11cf_11eb_9ba9_0242ac1c0002row5_col4{\n",
              "            background-color:  #fedecf;\n",
              "            color:  #000000;\n",
              "        }#T_77b2d4ce_11cf_11eb_9ba9_0242ac1c0002row6_col1{\n",
              "            background-color:  #ffece4;\n",
              "            color:  #000000;\n",
              "        }#T_77b2d4ce_11cf_11eb_9ba9_0242ac1c0002row6_col2,#T_77b2d4ce_11cf_11eb_9ba9_0242ac1c0002row6_col3,#T_77b2d4ce_11cf_11eb_9ba9_0242ac1c0002row8_col2,#T_77b2d4ce_11cf_11eb_9ba9_0242ac1c0002row8_col3{\n",
              "            background-color:  #ffeee6;\n",
              "            color:  #000000;\n",
              "        }#T_77b2d4ce_11cf_11eb_9ba9_0242ac1c0002row6_col4{\n",
              "            background-color:  #fee9df;\n",
              "            color:  #000000;\n",
              "        }#T_77b2d4ce_11cf_11eb_9ba9_0242ac1c0002row7_col1,#T_77b2d4ce_11cf_11eb_9ba9_0242ac1c0002row9_col4,#T_77b2d4ce_11cf_11eb_9ba9_0242ac1c0002row11_col1,#T_77b2d4ce_11cf_11eb_9ba9_0242ac1c0002row11_col2{\n",
              "            background-color:  #fff0e8;\n",
              "            color:  #000000;\n",
              "        }#T_77b2d4ce_11cf_11eb_9ba9_0242ac1c0002row7_col2,#T_77b2d4ce_11cf_11eb_9ba9_0242ac1c0002row9_col1,#T_77b2d4ce_11cf_11eb_9ba9_0242ac1c0002row9_col2{\n",
              "            background-color:  #ffefe8;\n",
              "            color:  #000000;\n",
              "        }#T_77b2d4ce_11cf_11eb_9ba9_0242ac1c0002row7_col3{\n",
              "            background-color:  #ffebe2;\n",
              "            color:  #000000;\n",
              "        }#T_77b2d4ce_11cf_11eb_9ba9_0242ac1c0002row7_col4,#T_77b2d4ce_11cf_11eb_9ba9_0242ac1c0002row10_col1,#T_77b2d4ce_11cf_11eb_9ba9_0242ac1c0002row10_col2,#T_77b2d4ce_11cf_11eb_9ba9_0242ac1c0002row12_col2,#T_77b2d4ce_11cf_11eb_9ba9_0242ac1c0002row13_col1,#T_77b2d4ce_11cf_11eb_9ba9_0242ac1c0002row13_col2,#T_77b2d4ce_11cf_11eb_9ba9_0242ac1c0002row13_col4{\n",
              "            background-color:  #fff1ea;\n",
              "            color:  #000000;\n",
              "        }#T_77b2d4ce_11cf_11eb_9ba9_0242ac1c0002row9_col3,#T_77b2d4ce_11cf_11eb_9ba9_0242ac1c0002row14_col4,#T_77b2d4ce_11cf_11eb_9ba9_0242ac1c0002row16_col4,#T_77b2d4ce_11cf_11eb_9ba9_0242ac1c0002row17_col1,#T_77b2d4ce_11cf_11eb_9ba9_0242ac1c0002row17_col2,#T_77b2d4ce_11cf_11eb_9ba9_0242ac1c0002row18_col3,#T_77b2d4ce_11cf_11eb_9ba9_0242ac1c0002row19_col4{\n",
              "            background-color:  #fff3ed;\n",
              "            color:  #000000;\n",
              "        }#T_77b2d4ce_11cf_11eb_9ba9_0242ac1c0002row10_col4,#T_77b2d4ce_11cf_11eb_9ba9_0242ac1c0002row14_col3,#T_77b2d4ce_11cf_11eb_9ba9_0242ac1c0002row15_col1,#T_77b2d4ce_11cf_11eb_9ba9_0242ac1c0002row15_col4,#T_77b2d4ce_11cf_11eb_9ba9_0242ac1c0002row17_col4{\n",
              "            background-color:  #fff2eb;\n",
              "            color:  #000000;\n",
              "        }#T_77b2d4ce_11cf_11eb_9ba9_0242ac1c0002row11_col3,#T_77b2d4ce_11cf_11eb_9ba9_0242ac1c0002row12_col3,#T_77b2d4ce_11cf_11eb_9ba9_0242ac1c0002row12_col4,#T_77b2d4ce_11cf_11eb_9ba9_0242ac1c0002row16_col1,#T_77b2d4ce_11cf_11eb_9ba9_0242ac1c0002row16_col2,#T_77b2d4ce_11cf_11eb_9ba9_0242ac1c0002row16_col3,#T_77b2d4ce_11cf_11eb_9ba9_0242ac1c0002row18_col1,#T_77b2d4ce_11cf_11eb_9ba9_0242ac1c0002row18_col2,#T_77b2d4ce_11cf_11eb_9ba9_0242ac1c0002row18_col4{\n",
              "            background-color:  #fff4ee;\n",
              "            color:  #000000;\n",
              "        }#T_77b2d4ce_11cf_11eb_9ba9_0242ac1c0002row13_col3,#T_77b2d4ce_11cf_11eb_9ba9_0242ac1c0002row17_col3,#T_77b2d4ce_11cf_11eb_9ba9_0242ac1c0002row19_col3,#T_77b2d4ce_11cf_11eb_9ba9_0242ac1c0002row20_col3,#T_77b2d4ce_11cf_11eb_9ba9_0242ac1c0002row21_col3,#T_77b2d4ce_11cf_11eb_9ba9_0242ac1c0002row22_col1,#T_77b2d4ce_11cf_11eb_9ba9_0242ac1c0002row22_col3,#T_77b2d4ce_11cf_11eb_9ba9_0242ac1c0002row22_col4,#T_77b2d4ce_11cf_11eb_9ba9_0242ac1c0002row23_col1,#T_77b2d4ce_11cf_11eb_9ba9_0242ac1c0002row23_col2,#T_77b2d4ce_11cf_11eb_9ba9_0242ac1c0002row23_col3,#T_77b2d4ce_11cf_11eb_9ba9_0242ac1c0002row23_col4,#T_77b2d4ce_11cf_11eb_9ba9_0242ac1c0002row24_col1,#T_77b2d4ce_11cf_11eb_9ba9_0242ac1c0002row24_col2,#T_77b2d4ce_11cf_11eb_9ba9_0242ac1c0002row24_col3,#T_77b2d4ce_11cf_11eb_9ba9_0242ac1c0002row24_col4,#T_77b2d4ce_11cf_11eb_9ba9_0242ac1c0002row25_col1,#T_77b2d4ce_11cf_11eb_9ba9_0242ac1c0002row25_col2,#T_77b2d4ce_11cf_11eb_9ba9_0242ac1c0002row25_col3,#T_77b2d4ce_11cf_11eb_9ba9_0242ac1c0002row25_col4,#T_77b2d4ce_11cf_11eb_9ba9_0242ac1c0002row26_col1,#T_77b2d4ce_11cf_11eb_9ba9_0242ac1c0002row26_col2,#T_77b2d4ce_11cf_11eb_9ba9_0242ac1c0002row26_col3,#T_77b2d4ce_11cf_11eb_9ba9_0242ac1c0002row26_col4,#T_77b2d4ce_11cf_11eb_9ba9_0242ac1c0002row27_col1,#T_77b2d4ce_11cf_11eb_9ba9_0242ac1c0002row27_col2,#T_77b2d4ce_11cf_11eb_9ba9_0242ac1c0002row27_col3,#T_77b2d4ce_11cf_11eb_9ba9_0242ac1c0002row27_col4,#T_77b2d4ce_11cf_11eb_9ba9_0242ac1c0002row28_col1,#T_77b2d4ce_11cf_11eb_9ba9_0242ac1c0002row28_col2,#T_77b2d4ce_11cf_11eb_9ba9_0242ac1c0002row28_col3,#T_77b2d4ce_11cf_11eb_9ba9_0242ac1c0002row28_col4,#T_77b2d4ce_11cf_11eb_9ba9_0242ac1c0002row29_col1,#T_77b2d4ce_11cf_11eb_9ba9_0242ac1c0002row29_col2,#T_77b2d4ce_11cf_11eb_9ba9_0242ac1c0002row29_col3,#T_77b2d4ce_11cf_11eb_9ba9_0242ac1c0002row29_col4,#T_77b2d4ce_11cf_11eb_9ba9_0242ac1c0002row30_col1,#T_77b2d4ce_11cf_11eb_9ba9_0242ac1c0002row30_col2,#T_77b2d4ce_11cf_11eb_9ba9_0242ac1c0002row30_col3,#T_77b2d4ce_11cf_11eb_9ba9_0242ac1c0002row30_col4,#T_77b2d4ce_11cf_11eb_9ba9_0242ac1c0002row31_col1,#T_77b2d4ce_11cf_11eb_9ba9_0242ac1c0002row31_col2,#T_77b2d4ce_11cf_11eb_9ba9_0242ac1c0002row31_col3,#T_77b2d4ce_11cf_11eb_9ba9_0242ac1c0002row31_col4,#T_77b2d4ce_11cf_11eb_9ba9_0242ac1c0002row32_col1,#T_77b2d4ce_11cf_11eb_9ba9_0242ac1c0002row32_col2,#T_77b2d4ce_11cf_11eb_9ba9_0242ac1c0002row32_col3,#T_77b2d4ce_11cf_11eb_9ba9_0242ac1c0002row32_col4,#T_77b2d4ce_11cf_11eb_9ba9_0242ac1c0002row33_col1,#T_77b2d4ce_11cf_11eb_9ba9_0242ac1c0002row33_col2,#T_77b2d4ce_11cf_11eb_9ba9_0242ac1c0002row33_col3,#T_77b2d4ce_11cf_11eb_9ba9_0242ac1c0002row33_col4,#T_77b2d4ce_11cf_11eb_9ba9_0242ac1c0002row34_col1,#T_77b2d4ce_11cf_11eb_9ba9_0242ac1c0002row34_col2,#T_77b2d4ce_11cf_11eb_9ba9_0242ac1c0002row34_col3,#T_77b2d4ce_11cf_11eb_9ba9_0242ac1c0002row34_col4,#T_77b2d4ce_11cf_11eb_9ba9_0242ac1c0002row35_col1,#T_77b2d4ce_11cf_11eb_9ba9_0242ac1c0002row35_col2,#T_77b2d4ce_11cf_11eb_9ba9_0242ac1c0002row35_col3,#T_77b2d4ce_11cf_11eb_9ba9_0242ac1c0002row35_col4,#T_77b2d4ce_11cf_11eb_9ba9_0242ac1c0002row36_col1,#T_77b2d4ce_11cf_11eb_9ba9_0242ac1c0002row36_col2,#T_77b2d4ce_11cf_11eb_9ba9_0242ac1c0002row36_col3,#T_77b2d4ce_11cf_11eb_9ba9_0242ac1c0002row36_col4,#T_77b2d4ce_11cf_11eb_9ba9_0242ac1c0002row37_col1,#T_77b2d4ce_11cf_11eb_9ba9_0242ac1c0002row37_col2,#T_77b2d4ce_11cf_11eb_9ba9_0242ac1c0002row37_col3,#T_77b2d4ce_11cf_11eb_9ba9_0242ac1c0002row37_col4{\n",
              "            background-color:  #fff5f0;\n",
              "            color:  #000000;\n",
              "        }#T_77b2d4ce_11cf_11eb_9ba9_0242ac1c0002row15_col3,#T_77b2d4ce_11cf_11eb_9ba9_0242ac1c0002row19_col1,#T_77b2d4ce_11cf_11eb_9ba9_0242ac1c0002row19_col2,#T_77b2d4ce_11cf_11eb_9ba9_0242ac1c0002row20_col1,#T_77b2d4ce_11cf_11eb_9ba9_0242ac1c0002row20_col2,#T_77b2d4ce_11cf_11eb_9ba9_0242ac1c0002row20_col4,#T_77b2d4ce_11cf_11eb_9ba9_0242ac1c0002row21_col1,#T_77b2d4ce_11cf_11eb_9ba9_0242ac1c0002row21_col2,#T_77b2d4ce_11cf_11eb_9ba9_0242ac1c0002row21_col4,#T_77b2d4ce_11cf_11eb_9ba9_0242ac1c0002row22_col2{\n",
              "            background-color:  #fff4ef;\n",
              "            color:  #000000;\n",
              "        }</style><table id=\"T_77b2d4ce_11cf_11eb_9ba9_0242ac1c0002\" ><thead>    <tr>        <th class=\"blank level0\" ></th>        <th class=\"col_heading level0 col0\" >State</th>        <th class=\"col_heading level0 col1\" >Confirmed</th>        <th class=\"col_heading level0 col2\" >Recovered</th>        <th class=\"col_heading level0 col3\" >Deaths</th>        <th class=\"col_heading level0 col4\" >Active</th>    </tr></thead><tbody>\n",
              "                <tr>\n",
              "                        <th id=\"T_77b2d4ce_11cf_11eb_9ba9_0242ac1c0002level0_row0\" class=\"row_heading level0 row0\" >0</th>\n",
              "                        <td id=\"T_77b2d4ce_11cf_11eb_9ba9_0242ac1c0002row0_col0\" class=\"data row0 col0\" >Total</td>\n",
              "                        <td id=\"T_77b2d4ce_11cf_11eb_9ba9_0242ac1c0002row0_col1\" class=\"data row0 col1\" >2025409</td>\n",
              "                        <td id=\"T_77b2d4ce_11cf_11eb_9ba9_0242ac1c0002row0_col2\" class=\"data row0 col2\" >1377384</td>\n",
              "                        <td id=\"T_77b2d4ce_11cf_11eb_9ba9_0242ac1c0002row0_col3\" class=\"data row0 col3\" >41638</td>\n",
              "                        <td id=\"T_77b2d4ce_11cf_11eb_9ba9_0242ac1c0002row0_col4\" class=\"data row0 col4\" >605933</td>\n",
              "            </tr>\n",
              "            <tr>\n",
              "                        <th id=\"T_77b2d4ce_11cf_11eb_9ba9_0242ac1c0002level0_row1\" class=\"row_heading level0 row1\" >1</th>\n",
              "                        <td id=\"T_77b2d4ce_11cf_11eb_9ba9_0242ac1c0002row1_col0\" class=\"data row1 col0\" >Maharashtra</td>\n",
              "                        <td id=\"T_77b2d4ce_11cf_11eb_9ba9_0242ac1c0002row1_col1\" class=\"data row1 col1\" >479779</td>\n",
              "                        <td id=\"T_77b2d4ce_11cf_11eb_9ba9_0242ac1c0002row1_col2\" class=\"data row1 col2\" >316375</td>\n",
              "                        <td id=\"T_77b2d4ce_11cf_11eb_9ba9_0242ac1c0002row1_col3\" class=\"data row1 col3\" >16792</td>\n",
              "                        <td id=\"T_77b2d4ce_11cf_11eb_9ba9_0242ac1c0002row1_col4\" class=\"data row1 col4\" >146305</td>\n",
              "            </tr>\n",
              "            <tr>\n",
              "                        <th id=\"T_77b2d4ce_11cf_11eb_9ba9_0242ac1c0002level0_row2\" class=\"row_heading level0 row2\" >2</th>\n",
              "                        <td id=\"T_77b2d4ce_11cf_11eb_9ba9_0242ac1c0002row2_col0\" class=\"data row2 col0\" >Tamil Nadu</td>\n",
              "                        <td id=\"T_77b2d4ce_11cf_11eb_9ba9_0242ac1c0002row2_col1\" class=\"data row2 col1\" >279144</td>\n",
              "                        <td id=\"T_77b2d4ce_11cf_11eb_9ba9_0242ac1c0002row2_col2\" class=\"data row2 col2\" >221087</td>\n",
              "                        <td id=\"T_77b2d4ce_11cf_11eb_9ba9_0242ac1c0002row2_col3\" class=\"data row2 col3\" >4571</td>\n",
              "                        <td id=\"T_77b2d4ce_11cf_11eb_9ba9_0242ac1c0002row2_col4\" class=\"data row2 col4\" >53486</td>\n",
              "            </tr>\n",
              "            <tr>\n",
              "                        <th id=\"T_77b2d4ce_11cf_11eb_9ba9_0242ac1c0002level0_row3\" class=\"row_heading level0 row3\" >3</th>\n",
              "                        <td id=\"T_77b2d4ce_11cf_11eb_9ba9_0242ac1c0002row3_col0\" class=\"data row3 col0\" >Delhi</td>\n",
              "                        <td id=\"T_77b2d4ce_11cf_11eb_9ba9_0242ac1c0002row3_col1\" class=\"data row3 col1\" >141531</td>\n",
              "                        <td id=\"T_77b2d4ce_11cf_11eb_9ba9_0242ac1c0002row3_col2\" class=\"data row3 col2\" >127124</td>\n",
              "                        <td id=\"T_77b2d4ce_11cf_11eb_9ba9_0242ac1c0002row3_col3\" class=\"data row3 col3\" >4059</td>\n",
              "                        <td id=\"T_77b2d4ce_11cf_11eb_9ba9_0242ac1c0002row3_col4\" class=\"data row3 col4\" >10348</td>\n",
              "            </tr>\n",
              "            <tr>\n",
              "                        <th id=\"T_77b2d4ce_11cf_11eb_9ba9_0242ac1c0002level0_row4\" class=\"row_heading level0 row4\" >4</th>\n",
              "                        <td id=\"T_77b2d4ce_11cf_11eb_9ba9_0242ac1c0002row4_col0\" class=\"data row4 col0\" >Karnataka</td>\n",
              "                        <td id=\"T_77b2d4ce_11cf_11eb_9ba9_0242ac1c0002row4_col1\" class=\"data row4 col1\" >158254</td>\n",
              "                        <td id=\"T_77b2d4ce_11cf_11eb_9ba9_0242ac1c0002row4_col2\" class=\"data row4 col2\" >80281</td>\n",
              "                        <td id=\"T_77b2d4ce_11cf_11eb_9ba9_0242ac1c0002row4_col3\" class=\"data row4 col3\" >2897</td>\n",
              "                        <td id=\"T_77b2d4ce_11cf_11eb_9ba9_0242ac1c0002row4_col4\" class=\"data row4 col4\" >75067</td>\n",
              "            </tr>\n",
              "            <tr>\n",
              "                        <th id=\"T_77b2d4ce_11cf_11eb_9ba9_0242ac1c0002level0_row5\" class=\"row_heading level0 row5\" >5</th>\n",
              "                        <td id=\"T_77b2d4ce_11cf_11eb_9ba9_0242ac1c0002row5_col0\" class=\"data row5 col0\" >Andhra Pradesh</td>\n",
              "                        <td id=\"T_77b2d4ce_11cf_11eb_9ba9_0242ac1c0002row5_col1\" class=\"data row5 col1\" >196789</td>\n",
              "                        <td id=\"T_77b2d4ce_11cf_11eb_9ba9_0242ac1c0002row5_col2\" class=\"data row5 col2\" >112870</td>\n",
              "                        <td id=\"T_77b2d4ce_11cf_11eb_9ba9_0242ac1c0002row5_col3\" class=\"data row5 col3\" >1753</td>\n",
              "                        <td id=\"T_77b2d4ce_11cf_11eb_9ba9_0242ac1c0002row5_col4\" class=\"data row5 col4\" >82166</td>\n",
              "            </tr>\n",
              "            <tr>\n",
              "                        <th id=\"T_77b2d4ce_11cf_11eb_9ba9_0242ac1c0002level0_row6\" class=\"row_heading level0 row6\" >6</th>\n",
              "                        <td id=\"T_77b2d4ce_11cf_11eb_9ba9_0242ac1c0002row6_col0\" class=\"data row6 col0\" >Uttar Pradesh</td>\n",
              "                        <td id=\"T_77b2d4ce_11cf_11eb_9ba9_0242ac1c0002row6_col1\" class=\"data row6 col1\" >108974</td>\n",
              "                        <td id=\"T_77b2d4ce_11cf_11eb_9ba9_0242ac1c0002row6_col2\" class=\"data row6 col2\" >63402</td>\n",
              "                        <td id=\"T_77b2d4ce_11cf_11eb_9ba9_0242ac1c0002row6_col3\" class=\"data row6 col3\" >1918</td>\n",
              "                        <td id=\"T_77b2d4ce_11cf_11eb_9ba9_0242ac1c0002row6_col4\" class=\"data row6 col4\" >43654</td>\n",
              "            </tr>\n",
              "            <tr>\n",
              "                        <th id=\"T_77b2d4ce_11cf_11eb_9ba9_0242ac1c0002level0_row7\" class=\"row_heading level0 row7\" >7</th>\n",
              "                        <td id=\"T_77b2d4ce_11cf_11eb_9ba9_0242ac1c0002row7_col0\" class=\"data row7 col0\" >Gujarat</td>\n",
              "                        <td id=\"T_77b2d4ce_11cf_11eb_9ba9_0242ac1c0002row7_col1\" class=\"data row7 col1\" >67811</td>\n",
              "                        <td id=\"T_77b2d4ce_11cf_11eb_9ba9_0242ac1c0002row7_col2\" class=\"data row7 col2\" >50524</td>\n",
              "                        <td id=\"T_77b2d4ce_11cf_11eb_9ba9_0242ac1c0002row7_col3\" class=\"data row7 col3\" >2579</td>\n",
              "                        <td id=\"T_77b2d4ce_11cf_11eb_9ba9_0242ac1c0002row7_col4\" class=\"data row7 col4\" >14708</td>\n",
              "            </tr>\n",
              "            <tr>\n",
              "                        <th id=\"T_77b2d4ce_11cf_11eb_9ba9_0242ac1c0002level0_row8\" class=\"row_heading level0 row8\" >8</th>\n",
              "                        <td id=\"T_77b2d4ce_11cf_11eb_9ba9_0242ac1c0002row8_col0\" class=\"data row8 col0\" >West Bengal</td>\n",
              "                        <td id=\"T_77b2d4ce_11cf_11eb_9ba9_0242ac1c0002row8_col1\" class=\"data row8 col1\" >86754</td>\n",
              "                        <td id=\"T_77b2d4ce_11cf_11eb_9ba9_0242ac1c0002row8_col2\" class=\"data row8 col2\" >61023</td>\n",
              "                        <td id=\"T_77b2d4ce_11cf_11eb_9ba9_0242ac1c0002row8_col3\" class=\"data row8 col3\" >1902</td>\n",
              "                        <td id=\"T_77b2d4ce_11cf_11eb_9ba9_0242ac1c0002row8_col4\" class=\"data row8 col4\" >23829</td>\n",
              "            </tr>\n",
              "            <tr>\n",
              "                        <th id=\"T_77b2d4ce_11cf_11eb_9ba9_0242ac1c0002level0_row9\" class=\"row_heading level0 row9\" >9</th>\n",
              "                        <td id=\"T_77b2d4ce_11cf_11eb_9ba9_0242ac1c0002row9_col0\" class=\"data row9 col0\" >Telangana</td>\n",
              "                        <td id=\"T_77b2d4ce_11cf_11eb_9ba9_0242ac1c0002row9_col1\" class=\"data row9 col1\" >73050</td>\n",
              "                        <td id=\"T_77b2d4ce_11cf_11eb_9ba9_0242ac1c0002row9_col2\" class=\"data row9 col2\" >52103</td>\n",
              "                        <td id=\"T_77b2d4ce_11cf_11eb_9ba9_0242ac1c0002row9_col3\" class=\"data row9 col3\" >589</td>\n",
              "                        <td id=\"T_77b2d4ce_11cf_11eb_9ba9_0242ac1c0002row9_col4\" class=\"data row9 col4\" >20358</td>\n",
              "            </tr>\n",
              "            <tr>\n",
              "                        <th id=\"T_77b2d4ce_11cf_11eb_9ba9_0242ac1c0002level0_row10\" class=\"row_heading level0 row10\" >10</th>\n",
              "                        <td id=\"T_77b2d4ce_11cf_11eb_9ba9_0242ac1c0002row10_col0\" class=\"data row10 col0\" >Rajasthan</td>\n",
              "                        <td id=\"T_77b2d4ce_11cf_11eb_9ba9_0242ac1c0002row10_col1\" class=\"data row10 col1\" >48996</td>\n",
              "                        <td id=\"T_77b2d4ce_11cf_11eb_9ba9_0242ac1c0002row10_col2\" class=\"data row10 col2\" >35131</td>\n",
              "                        <td id=\"T_77b2d4ce_11cf_11eb_9ba9_0242ac1c0002row10_col3\" class=\"data row10 col3\" >757</td>\n",
              "                        <td id=\"T_77b2d4ce_11cf_11eb_9ba9_0242ac1c0002row10_col4\" class=\"data row10 col4\" >13108</td>\n",
              "            </tr>\n",
              "            <tr>\n",
              "                        <th id=\"T_77b2d4ce_11cf_11eb_9ba9_0242ac1c0002level0_row11\" class=\"row_heading level0 row11\" >11</th>\n",
              "                        <td id=\"T_77b2d4ce_11cf_11eb_9ba9_0242ac1c0002row11_col0\" class=\"data row11 col0\" >Bihar</td>\n",
              "                        <td id=\"T_77b2d4ce_11cf_11eb_9ba9_0242ac1c0002row11_col1\" class=\"data row11 col1\" >68148</td>\n",
              "                        <td id=\"T_77b2d4ce_11cf_11eb_9ba9_0242ac1c0002row11_col2\" class=\"data row11 col2\" >43820</td>\n",
              "                        <td id=\"T_77b2d4ce_11cf_11eb_9ba9_0242ac1c0002row11_col3\" class=\"data row11 col3\" >388</td>\n",
              "                        <td id=\"T_77b2d4ce_11cf_11eb_9ba9_0242ac1c0002row11_col4\" class=\"data row11 col4\" >23939</td>\n",
              "            </tr>\n",
              "            <tr>\n",
              "                        <th id=\"T_77b2d4ce_11cf_11eb_9ba9_0242ac1c0002level0_row12\" class=\"row_heading level0 row12\" >12</th>\n",
              "                        <td id=\"T_77b2d4ce_11cf_11eb_9ba9_0242ac1c0002row12_col0\" class=\"data row12 col0\" >Haryana</td>\n",
              "                        <td id=\"T_77b2d4ce_11cf_11eb_9ba9_0242ac1c0002row12_col1\" class=\"data row12 col1\" >39303</td>\n",
              "                        <td id=\"T_77b2d4ce_11cf_11eb_9ba9_0242ac1c0002row12_col2\" class=\"data row12 col2\" >32640</td>\n",
              "                        <td id=\"T_77b2d4ce_11cf_11eb_9ba9_0242ac1c0002row12_col3\" class=\"data row12 col3\" >458</td>\n",
              "                        <td id=\"T_77b2d4ce_11cf_11eb_9ba9_0242ac1c0002row12_col4\" class=\"data row12 col4\" >6205</td>\n",
              "            </tr>\n",
              "            <tr>\n",
              "                        <th id=\"T_77b2d4ce_11cf_11eb_9ba9_0242ac1c0002level0_row13\" class=\"row_heading level0 row13\" >13</th>\n",
              "                        <td id=\"T_77b2d4ce_11cf_11eb_9ba9_0242ac1c0002row13_col0\" class=\"data row13 col0\" >Assam</td>\n",
              "                        <td id=\"T_77b2d4ce_11cf_11eb_9ba9_0242ac1c0002row13_col1\" class=\"data row13 col1\" >52818</td>\n",
              "                        <td id=\"T_77b2d4ce_11cf_11eb_9ba9_0242ac1c0002row13_col2\" class=\"data row13 col2\" >37225</td>\n",
              "                        <td id=\"T_77b2d4ce_11cf_11eb_9ba9_0242ac1c0002row13_col3\" class=\"data row13 col3\" >126</td>\n",
              "                        <td id=\"T_77b2d4ce_11cf_11eb_9ba9_0242ac1c0002row13_col4\" class=\"data row13 col4\" >15464</td>\n",
              "            </tr>\n",
              "            <tr>\n",
              "                        <th id=\"T_77b2d4ce_11cf_11eb_9ba9_0242ac1c0002level0_row14\" class=\"row_heading level0 row14\" >14</th>\n",
              "                        <td id=\"T_77b2d4ce_11cf_11eb_9ba9_0242ac1c0002row14_col0\" class=\"data row14 col0\" >Madhya Pradesh</td>\n",
              "                        <td id=\"T_77b2d4ce_11cf_11eb_9ba9_0242ac1c0002row14_col1\" class=\"data row14 col1\" >36564</td>\n",
              "                        <td id=\"T_77b2d4ce_11cf_11eb_9ba9_0242ac1c0002row14_col2\" class=\"data row14 col2\" >26902</td>\n",
              "                        <td id=\"T_77b2d4ce_11cf_11eb_9ba9_0242ac1c0002row14_col3\" class=\"data row14 col3\" >946</td>\n",
              "                        <td id=\"T_77b2d4ce_11cf_11eb_9ba9_0242ac1c0002row14_col4\" class=\"data row14 col4\" >8716</td>\n",
              "            </tr>\n",
              "            <tr>\n",
              "                        <th id=\"T_77b2d4ce_11cf_11eb_9ba9_0242ac1c0002level0_row15\" class=\"row_heading level0 row15\" >15</th>\n",
              "                        <td id=\"T_77b2d4ce_11cf_11eb_9ba9_0242ac1c0002row15_col0\" class=\"data row15 col0\" >Odisha</td>\n",
              "                        <td id=\"T_77b2d4ce_11cf_11eb_9ba9_0242ac1c0002row15_col1\" class=\"data row15 col1\" >40717</td>\n",
              "                        <td id=\"T_77b2d4ce_11cf_11eb_9ba9_0242ac1c0002row15_col2\" class=\"data row15 col2\" >26888</td>\n",
              "                        <td id=\"T_77b2d4ce_11cf_11eb_9ba9_0242ac1c0002row15_col3\" class=\"data row15 col3\" >280</td>\n",
              "                        <td id=\"T_77b2d4ce_11cf_11eb_9ba9_0242ac1c0002row15_col4\" class=\"data row15 col4\" >13549</td>\n",
              "            </tr>\n",
              "            <tr>\n",
              "                        <th id=\"T_77b2d4ce_11cf_11eb_9ba9_0242ac1c0002level0_row16\" class=\"row_heading level0 row16\" >16</th>\n",
              "                        <td id=\"T_77b2d4ce_11cf_11eb_9ba9_0242ac1c0002row16_col0\" class=\"data row16 col0\" >Jammu and Kashmir</td>\n",
              "                        <td id=\"T_77b2d4ce_11cf_11eb_9ba9_0242ac1c0002row16_col1\" class=\"data row16 col1\" >23454</td>\n",
              "                        <td id=\"T_77b2d4ce_11cf_11eb_9ba9_0242ac1c0002row16_col2\" class=\"data row16 col2\" >15708</td>\n",
              "                        <td id=\"T_77b2d4ce_11cf_11eb_9ba9_0242ac1c0002row16_col3\" class=\"data row16 col3\" >436</td>\n",
              "                        <td id=\"T_77b2d4ce_11cf_11eb_9ba9_0242ac1c0002row16_col4\" class=\"data row16 col4\" >7310</td>\n",
              "            </tr>\n",
              "            <tr>\n",
              "                        <th id=\"T_77b2d4ce_11cf_11eb_9ba9_0242ac1c0002level0_row17\" class=\"row_heading level0 row17\" >17</th>\n",
              "                        <td id=\"T_77b2d4ce_11cf_11eb_9ba9_0242ac1c0002row17_col0\" class=\"data row17 col0\" >Kerala</td>\n",
              "                        <td id=\"T_77b2d4ce_11cf_11eb_9ba9_0242ac1c0002row17_col1\" class=\"data row17 col1\" >30449</td>\n",
              "                        <td id=\"T_77b2d4ce_11cf_11eb_9ba9_0242ac1c0002row17_col2\" class=\"data row17 col2\" >18333</td>\n",
              "                        <td id=\"T_77b2d4ce_11cf_11eb_9ba9_0242ac1c0002row17_col3\" class=\"data row17 col3\" >98</td>\n",
              "                        <td id=\"T_77b2d4ce_11cf_11eb_9ba9_0242ac1c0002row17_col4\" class=\"data row17 col4\" >11983</td>\n",
              "            </tr>\n",
              "            <tr>\n",
              "                        <th id=\"T_77b2d4ce_11cf_11eb_9ba9_0242ac1c0002level0_row18\" class=\"row_heading level0 row18\" >18</th>\n",
              "                        <td id=\"T_77b2d4ce_11cf_11eb_9ba9_0242ac1c0002row18_col0\" class=\"data row18 col0\" >Punjab</td>\n",
              "                        <td id=\"T_77b2d4ce_11cf_11eb_9ba9_0242ac1c0002row18_col1\" class=\"data row18 col1\" >20891</td>\n",
              "                        <td id=\"T_77b2d4ce_11cf_11eb_9ba9_0242ac1c0002row18_col2\" class=\"data row18 col2\" >13659</td>\n",
              "                        <td id=\"T_77b2d4ce_11cf_11eb_9ba9_0242ac1c0002row18_col3\" class=\"data row18 col3\" >517</td>\n",
              "                        <td id=\"T_77b2d4ce_11cf_11eb_9ba9_0242ac1c0002row18_col4\" class=\"data row18 col4\" >6715</td>\n",
              "            </tr>\n",
              "            <tr>\n",
              "                        <th id=\"T_77b2d4ce_11cf_11eb_9ba9_0242ac1c0002level0_row19\" class=\"row_heading level0 row19\" >19</th>\n",
              "                        <td id=\"T_77b2d4ce_11cf_11eb_9ba9_0242ac1c0002row19_col0\" class=\"data row19 col0\" >Jharkhand</td>\n",
              "                        <td id=\"T_77b2d4ce_11cf_11eb_9ba9_0242ac1c0002row19_col1\" class=\"data row19 col1\" >15756</td>\n",
              "                        <td id=\"T_77b2d4ce_11cf_11eb_9ba9_0242ac1c0002row19_col2\" class=\"data row19 col2\" >6594</td>\n",
              "                        <td id=\"T_77b2d4ce_11cf_11eb_9ba9_0242ac1c0002row19_col3\" class=\"data row19 col3\" >145</td>\n",
              "                        <td id=\"T_77b2d4ce_11cf_11eb_9ba9_0242ac1c0002row19_col4\" class=\"data row19 col4\" >9017</td>\n",
              "            </tr>\n",
              "            <tr>\n",
              "                        <th id=\"T_77b2d4ce_11cf_11eb_9ba9_0242ac1c0002level0_row20\" class=\"row_heading level0 row20\" >20</th>\n",
              "                        <td id=\"T_77b2d4ce_11cf_11eb_9ba9_0242ac1c0002row20_col0\" class=\"data row20 col0\" >Chhattisgarh</td>\n",
              "                        <td id=\"T_77b2d4ce_11cf_11eb_9ba9_0242ac1c0002row20_col1\" class=\"data row20 col1\" >11020</td>\n",
              "                        <td id=\"T_77b2d4ce_11cf_11eb_9ba9_0242ac1c0002row20_col2\" class=\"data row20 col2\" >8088</td>\n",
              "                        <td id=\"T_77b2d4ce_11cf_11eb_9ba9_0242ac1c0002row20_col3\" class=\"data row20 col3\" >77</td>\n",
              "                        <td id=\"T_77b2d4ce_11cf_11eb_9ba9_0242ac1c0002row20_col4\" class=\"data row20 col4\" >2855</td>\n",
              "            </tr>\n",
              "            <tr>\n",
              "                        <th id=\"T_77b2d4ce_11cf_11eb_9ba9_0242ac1c0002level0_row21\" class=\"row_heading level0 row21\" >21</th>\n",
              "                        <td id=\"T_77b2d4ce_11cf_11eb_9ba9_0242ac1c0002row21_col0\" class=\"data row21 col0\" >Uttarakhand</td>\n",
              "                        <td id=\"T_77b2d4ce_11cf_11eb_9ba9_0242ac1c0002row21_col1\" class=\"data row21 col1\" >8623</td>\n",
              "                        <td id=\"T_77b2d4ce_11cf_11eb_9ba9_0242ac1c0002row21_col2\" class=\"data row21 col2\" >5427</td>\n",
              "                        <td id=\"T_77b2d4ce_11cf_11eb_9ba9_0242ac1c0002row21_col3\" class=\"data row21 col3\" >102</td>\n",
              "                        <td id=\"T_77b2d4ce_11cf_11eb_9ba9_0242ac1c0002row21_col4\" class=\"data row21 col4\" >3056</td>\n",
              "            </tr>\n",
              "            <tr>\n",
              "                        <th id=\"T_77b2d4ce_11cf_11eb_9ba9_0242ac1c0002level0_row22\" class=\"row_heading level0 row22\" >22</th>\n",
              "                        <td id=\"T_77b2d4ce_11cf_11eb_9ba9_0242ac1c0002row22_col0\" class=\"data row22 col0\" >Goa</td>\n",
              "                        <td id=\"T_77b2d4ce_11cf_11eb_9ba9_0242ac1c0002row22_col1\" class=\"data row22 col1\" >7614</td>\n",
              "                        <td id=\"T_77b2d4ce_11cf_11eb_9ba9_0242ac1c0002row22_col2\" class=\"data row22 col2\" >5453</td>\n",
              "                        <td id=\"T_77b2d4ce_11cf_11eb_9ba9_0242ac1c0002row22_col3\" class=\"data row22 col3\" >66</td>\n",
              "                        <td id=\"T_77b2d4ce_11cf_11eb_9ba9_0242ac1c0002row22_col4\" class=\"data row22 col4\" >2095</td>\n",
              "            </tr>\n",
              "            <tr>\n",
              "                        <th id=\"T_77b2d4ce_11cf_11eb_9ba9_0242ac1c0002level0_row23\" class=\"row_heading level0 row23\" >23</th>\n",
              "                        <td id=\"T_77b2d4ce_11cf_11eb_9ba9_0242ac1c0002row23_col0\" class=\"data row23 col0\" >Tripura</td>\n",
              "                        <td id=\"T_77b2d4ce_11cf_11eb_9ba9_0242ac1c0002row23_col1\" class=\"data row23 col1\" >5740</td>\n",
              "                        <td id=\"T_77b2d4ce_11cf_11eb_9ba9_0242ac1c0002row23_col2\" class=\"data row23 col2\" >3793</td>\n",
              "                        <td id=\"T_77b2d4ce_11cf_11eb_9ba9_0242ac1c0002row23_col3\" class=\"data row23 col3\" >31</td>\n",
              "                        <td id=\"T_77b2d4ce_11cf_11eb_9ba9_0242ac1c0002row23_col4\" class=\"data row23 col4\" >1898</td>\n",
              "            </tr>\n",
              "            <tr>\n",
              "                        <th id=\"T_77b2d4ce_11cf_11eb_9ba9_0242ac1c0002level0_row24\" class=\"row_heading level0 row24\" >24</th>\n",
              "                        <td id=\"T_77b2d4ce_11cf_11eb_9ba9_0242ac1c0002row24_col0\" class=\"data row24 col0\" >Puducherry</td>\n",
              "                        <td id=\"T_77b2d4ce_11cf_11eb_9ba9_0242ac1c0002row24_col1\" class=\"data row24 col1\" >4621</td>\n",
              "                        <td id=\"T_77b2d4ce_11cf_11eb_9ba9_0242ac1c0002row24_col2\" class=\"data row24 col2\" >2808</td>\n",
              "                        <td id=\"T_77b2d4ce_11cf_11eb_9ba9_0242ac1c0002row24_col3\" class=\"data row24 col3\" >70</td>\n",
              "                        <td id=\"T_77b2d4ce_11cf_11eb_9ba9_0242ac1c0002row24_col4\" class=\"data row24 col4\" >1743</td>\n",
              "            </tr>\n",
              "            <tr>\n",
              "                        <th id=\"T_77b2d4ce_11cf_11eb_9ba9_0242ac1c0002level0_row25\" class=\"row_heading level0 row25\" >25</th>\n",
              "                        <td id=\"T_77b2d4ce_11cf_11eb_9ba9_0242ac1c0002row25_col0\" class=\"data row25 col0\" >Manipur</td>\n",
              "                        <td id=\"T_77b2d4ce_11cf_11eb_9ba9_0242ac1c0002row25_col1\" class=\"data row25 col1\" >3217</td>\n",
              "                        <td id=\"T_77b2d4ce_11cf_11eb_9ba9_0242ac1c0002row25_col2\" class=\"data row25 col2\" >1905</td>\n",
              "                        <td id=\"T_77b2d4ce_11cf_11eb_9ba9_0242ac1c0002row25_col3\" class=\"data row25 col3\" >8</td>\n",
              "                        <td id=\"T_77b2d4ce_11cf_11eb_9ba9_0242ac1c0002row25_col4\" class=\"data row25 col4\" >1304</td>\n",
              "            </tr>\n",
              "            <tr>\n",
              "                        <th id=\"T_77b2d4ce_11cf_11eb_9ba9_0242ac1c0002level0_row26\" class=\"row_heading level0 row26\" >26</th>\n",
              "                        <td id=\"T_77b2d4ce_11cf_11eb_9ba9_0242ac1c0002row26_col0\" class=\"data row26 col0\" >Himachal Pradesh</td>\n",
              "                        <td id=\"T_77b2d4ce_11cf_11eb_9ba9_0242ac1c0002row26_col1\" class=\"data row26 col1\" >3047</td>\n",
              "                        <td id=\"T_77b2d4ce_11cf_11eb_9ba9_0242ac1c0002row26_col2\" class=\"data row26 col2\" >1865</td>\n",
              "                        <td id=\"T_77b2d4ce_11cf_11eb_9ba9_0242ac1c0002row26_col3\" class=\"data row26 col3\" >13</td>\n",
              "                        <td id=\"T_77b2d4ce_11cf_11eb_9ba9_0242ac1c0002row26_col4\" class=\"data row26 col4\" >1141</td>\n",
              "            </tr>\n",
              "            <tr>\n",
              "                        <th id=\"T_77b2d4ce_11cf_11eb_9ba9_0242ac1c0002level0_row27\" class=\"row_heading level0 row27\" >27</th>\n",
              "                        <td id=\"T_77b2d4ce_11cf_11eb_9ba9_0242ac1c0002row27_col0\" class=\"data row27 col0\" >Ladakh</td>\n",
              "                        <td id=\"T_77b2d4ce_11cf_11eb_9ba9_0242ac1c0002row27_col1\" class=\"data row27 col1\" >1595</td>\n",
              "                        <td id=\"T_77b2d4ce_11cf_11eb_9ba9_0242ac1c0002row27_col2\" class=\"data row27 col2\" >1177</td>\n",
              "                        <td id=\"T_77b2d4ce_11cf_11eb_9ba9_0242ac1c0002row27_col3\" class=\"data row27 col3\" >7</td>\n",
              "                        <td id=\"T_77b2d4ce_11cf_11eb_9ba9_0242ac1c0002row27_col4\" class=\"data row27 col4\" >411</td>\n",
              "            </tr>\n",
              "            <tr>\n",
              "                        <th id=\"T_77b2d4ce_11cf_11eb_9ba9_0242ac1c0002level0_row28\" class=\"row_heading level0 row28\" >28</th>\n",
              "                        <td id=\"T_77b2d4ce_11cf_11eb_9ba9_0242ac1c0002row28_col0\" class=\"data row28 col0\" >Nagaland</td>\n",
              "                        <td id=\"T_77b2d4ce_11cf_11eb_9ba9_0242ac1c0002row28_col1\" class=\"data row28 col1\" >2580</td>\n",
              "                        <td id=\"T_77b2d4ce_11cf_11eb_9ba9_0242ac1c0002row28_col2\" class=\"data row28 col2\" >819</td>\n",
              "                        <td id=\"T_77b2d4ce_11cf_11eb_9ba9_0242ac1c0002row28_col3\" class=\"data row28 col3\" >6</td>\n",
              "                        <td id=\"T_77b2d4ce_11cf_11eb_9ba9_0242ac1c0002row28_col4\" class=\"data row28 col4\" >1752</td>\n",
              "            </tr>\n",
              "            <tr>\n",
              "                        <th id=\"T_77b2d4ce_11cf_11eb_9ba9_0242ac1c0002level0_row29\" class=\"row_heading level0 row29\" >29</th>\n",
              "                        <td id=\"T_77b2d4ce_11cf_11eb_9ba9_0242ac1c0002row29_col0\" class=\"data row29 col0\" >Arunachal Pradesh</td>\n",
              "                        <td id=\"T_77b2d4ce_11cf_11eb_9ba9_0242ac1c0002row29_col1\" class=\"data row29 col1\" >1948</td>\n",
              "                        <td id=\"T_77b2d4ce_11cf_11eb_9ba9_0242ac1c0002row29_col2\" class=\"data row29 col2\" >1245</td>\n",
              "                        <td id=\"T_77b2d4ce_11cf_11eb_9ba9_0242ac1c0002row29_col3\" class=\"data row29 col3\" >3</td>\n",
              "                        <td id=\"T_77b2d4ce_11cf_11eb_9ba9_0242ac1c0002row29_col4\" class=\"data row29 col4\" >700</td>\n",
              "            </tr>\n",
              "            <tr>\n",
              "                        <th id=\"T_77b2d4ce_11cf_11eb_9ba9_0242ac1c0002level0_row30\" class=\"row_heading level0 row30\" >30</th>\n",
              "                        <td id=\"T_77b2d4ce_11cf_11eb_9ba9_0242ac1c0002row30_col0\" class=\"data row30 col0\" >Chandigarh</td>\n",
              "                        <td id=\"T_77b2d4ce_11cf_11eb_9ba9_0242ac1c0002row30_col1\" class=\"data row30 col1\" >1327</td>\n",
              "                        <td id=\"T_77b2d4ce_11cf_11eb_9ba9_0242ac1c0002row30_col2\" class=\"data row30 col2\" >777</td>\n",
              "                        <td id=\"T_77b2d4ce_11cf_11eb_9ba9_0242ac1c0002row30_col3\" class=\"data row30 col3\" >20</td>\n",
              "                        <td id=\"T_77b2d4ce_11cf_11eb_9ba9_0242ac1c0002row30_col4\" class=\"data row30 col4\" >529</td>\n",
              "            </tr>\n",
              "            <tr>\n",
              "                        <th id=\"T_77b2d4ce_11cf_11eb_9ba9_0242ac1c0002level0_row31\" class=\"row_heading level0 row31\" >31</th>\n",
              "                        <td id=\"T_77b2d4ce_11cf_11eb_9ba9_0242ac1c0002row31_col0\" class=\"data row31 col0\" >Dadra and Nagar Haveli and Daman and Diu</td>\n",
              "                        <td id=\"T_77b2d4ce_11cf_11eb_9ba9_0242ac1c0002row31_col1\" class=\"data row31 col1\" >1415</td>\n",
              "                        <td id=\"T_77b2d4ce_11cf_11eb_9ba9_0242ac1c0002row31_col2\" class=\"data row31 col2\" >997</td>\n",
              "                        <td id=\"T_77b2d4ce_11cf_11eb_9ba9_0242ac1c0002row31_col3\" class=\"data row31 col3\" >2</td>\n",
              "                        <td id=\"T_77b2d4ce_11cf_11eb_9ba9_0242ac1c0002row31_col4\" class=\"data row31 col4\" >406</td>\n",
              "            </tr>\n",
              "            <tr>\n",
              "                        <th id=\"T_77b2d4ce_11cf_11eb_9ba9_0242ac1c0002level0_row32\" class=\"row_heading level0 row32\" >32</th>\n",
              "                        <td id=\"T_77b2d4ce_11cf_11eb_9ba9_0242ac1c0002row32_col0\" class=\"data row32 col0\" >Meghalaya</td>\n",
              "                        <td id=\"T_77b2d4ce_11cf_11eb_9ba9_0242ac1c0002row32_col1\" class=\"data row32 col1\" >990</td>\n",
              "                        <td id=\"T_77b2d4ce_11cf_11eb_9ba9_0242ac1c0002row32_col2\" class=\"data row32 col2\" >345</td>\n",
              "                        <td id=\"T_77b2d4ce_11cf_11eb_9ba9_0242ac1c0002row32_col3\" class=\"data row32 col3\" >5</td>\n",
              "                        <td id=\"T_77b2d4ce_11cf_11eb_9ba9_0242ac1c0002row32_col4\" class=\"data row32 col4\" >640</td>\n",
              "            </tr>\n",
              "            <tr>\n",
              "                        <th id=\"T_77b2d4ce_11cf_11eb_9ba9_0242ac1c0002level0_row33\" class=\"row_heading level0 row33\" >33</th>\n",
              "                        <td id=\"T_77b2d4ce_11cf_11eb_9ba9_0242ac1c0002row33_col0\" class=\"data row33 col0\" >Sikkim</td>\n",
              "                        <td id=\"T_77b2d4ce_11cf_11eb_9ba9_0242ac1c0002row33_col1\" class=\"data row33 col1\" >829</td>\n",
              "                        <td id=\"T_77b2d4ce_11cf_11eb_9ba9_0242ac1c0002row33_col2\" class=\"data row33 col2\" >353</td>\n",
              "                        <td id=\"T_77b2d4ce_11cf_11eb_9ba9_0242ac1c0002row33_col3\" class=\"data row33 col3\" >1</td>\n",
              "                        <td id=\"T_77b2d4ce_11cf_11eb_9ba9_0242ac1c0002row33_col4\" class=\"data row33 col4\" >475</td>\n",
              "            </tr>\n",
              "            <tr>\n",
              "                        <th id=\"T_77b2d4ce_11cf_11eb_9ba9_0242ac1c0002level0_row34\" class=\"row_heading level0 row34\" >34</th>\n",
              "                        <td id=\"T_77b2d4ce_11cf_11eb_9ba9_0242ac1c0002row34_col0\" class=\"data row34 col0\" >Mizoram</td>\n",
              "                        <td id=\"T_77b2d4ce_11cf_11eb_9ba9_0242ac1c0002row34_col1\" class=\"data row34 col1\" >538</td>\n",
              "                        <td id=\"T_77b2d4ce_11cf_11eb_9ba9_0242ac1c0002row34_col2\" class=\"data row34 col2\" >288</td>\n",
              "                        <td id=\"T_77b2d4ce_11cf_11eb_9ba9_0242ac1c0002row34_col3\" class=\"data row34 col3\" >0</td>\n",
              "                        <td id=\"T_77b2d4ce_11cf_11eb_9ba9_0242ac1c0002row34_col4\" class=\"data row34 col4\" >249</td>\n",
              "            </tr>\n",
              "            <tr>\n",
              "                        <th id=\"T_77b2d4ce_11cf_11eb_9ba9_0242ac1c0002level0_row35\" class=\"row_heading level0 row35\" >35</th>\n",
              "                        <td id=\"T_77b2d4ce_11cf_11eb_9ba9_0242ac1c0002row35_col0\" class=\"data row35 col0\" >Andaman and Nicobar Islands</td>\n",
              "                        <td id=\"T_77b2d4ce_11cf_11eb_9ba9_0242ac1c0002row35_col1\" class=\"data row35 col1\" >1123</td>\n",
              "                        <td id=\"T_77b2d4ce_11cf_11eb_9ba9_0242ac1c0002row35_col2\" class=\"data row35 col2\" >355</td>\n",
              "                        <td id=\"T_77b2d4ce_11cf_11eb_9ba9_0242ac1c0002row35_col3\" class=\"data row35 col3\" >16</td>\n",
              "                        <td id=\"T_77b2d4ce_11cf_11eb_9ba9_0242ac1c0002row35_col4\" class=\"data row35 col4\" >752</td>\n",
              "            </tr>\n",
              "            <tr>\n",
              "                        <th id=\"T_77b2d4ce_11cf_11eb_9ba9_0242ac1c0002level0_row36\" class=\"row_heading level0 row36\" >36</th>\n",
              "                        <td id=\"T_77b2d4ce_11cf_11eb_9ba9_0242ac1c0002row36_col0\" class=\"data row36 col0\" >State Unassigned</td>\n",
              "                        <td id=\"T_77b2d4ce_11cf_11eb_9ba9_0242ac1c0002row36_col1\" class=\"data row36 col1\" >0</td>\n",
              "                        <td id=\"T_77b2d4ce_11cf_11eb_9ba9_0242ac1c0002row36_col2\" class=\"data row36 col2\" >0</td>\n",
              "                        <td id=\"T_77b2d4ce_11cf_11eb_9ba9_0242ac1c0002row36_col3\" class=\"data row36 col3\" >0</td>\n",
              "                        <td id=\"T_77b2d4ce_11cf_11eb_9ba9_0242ac1c0002row36_col4\" class=\"data row36 col4\" >0</td>\n",
              "            </tr>\n",
              "            <tr>\n",
              "                        <th id=\"T_77b2d4ce_11cf_11eb_9ba9_0242ac1c0002level0_row37\" class=\"row_heading level0 row37\" >37</th>\n",
              "                        <td id=\"T_77b2d4ce_11cf_11eb_9ba9_0242ac1c0002row37_col0\" class=\"data row37 col0\" >Lakshadweep</td>\n",
              "                        <td id=\"T_77b2d4ce_11cf_11eb_9ba9_0242ac1c0002row37_col1\" class=\"data row37 col1\" >0</td>\n",
              "                        <td id=\"T_77b2d4ce_11cf_11eb_9ba9_0242ac1c0002row37_col2\" class=\"data row37 col2\" >0</td>\n",
              "                        <td id=\"T_77b2d4ce_11cf_11eb_9ba9_0242ac1c0002row37_col3\" class=\"data row37 col3\" >0</td>\n",
              "                        <td id=\"T_77b2d4ce_11cf_11eb_9ba9_0242ac1c0002row37_col4\" class=\"data row37 col4\" >0</td>\n",
              "            </tr>\n",
              "    </tbody></table>"
            ],
            "text/plain": [
              "<pandas.io.formats.style.Styler at 0x7f044af1e3c8>"
            ]
          },
          "metadata": {
            "tags": []
          },
          "execution_count": 17
        }
      ]
    },
    {
      "cell_type": "code",
      "metadata": {
        "_kg_hide-input": true,
        "_kg_hide-output": false,
        "id": "GPBIP4-mdhD6",
        "outputId": "634f243d-47b3-40f8-c60f-8276bc3c659e",
        "colab": {
          "base_uri": "https://localhost:8080/",
          "height": 34
        }
      },
      "source": [
        "# number of active cases in india - statewise\n",
        "total_active = df['Active'].sum()\n",
        "print('Total number of active COVID 2019 cases across India:', total_active)"
      ],
      "execution_count": 23,
      "outputs": [
        {
          "output_type": "stream",
          "text": [
            "Total number of active COVID 2019 cases across India: 1211866\n"
          ],
          "name": "stdout"
        }
      ]
    },
    {
      "cell_type": "code",
      "metadata": {
        "id": "d5yACDpQb2JN",
        "outputId": "8d102cf4-6e86-42a0-bd9f-32b3313084c1",
        "colab": {
          "base_uri": "https://localhost:8080/",
          "height": 859
        }
      },
      "source": [
        "Tot_Cases = df.groupby('State')['Active'].sum().sort_values(ascending = False).to_frame()\n",
        "Tot_Cases.style.background_gradient(cmap='Reds')"
      ],
      "execution_count": 27,
      "outputs": [
        {
          "output_type": "execute_result",
          "data": {
            "text/html": [
              "<style  type=\"text/css\" >\n",
              "#T_304b036c_11d0_11eb_9ba9_0242ac1c0002row0_col0{\n",
              "            background-color:  #67000d;\n",
              "            color:  #f1f1f1;\n",
              "        }#T_304b036c_11d0_11eb_9ba9_0242ac1c0002row1_col0{\n",
              "            background-color:  #fcbea5;\n",
              "            color:  #000000;\n",
              "        }#T_304b036c_11d0_11eb_9ba9_0242ac1c0002row2_col0{\n",
              "            background-color:  #fedecf;\n",
              "            color:  #000000;\n",
              "        }#T_304b036c_11d0_11eb_9ba9_0242ac1c0002row3_col0{\n",
              "            background-color:  #fee1d3;\n",
              "            color:  #000000;\n",
              "        }#T_304b036c_11d0_11eb_9ba9_0242ac1c0002row4_col0{\n",
              "            background-color:  #fee7db;\n",
              "            color:  #000000;\n",
              "        }#T_304b036c_11d0_11eb_9ba9_0242ac1c0002row5_col0{\n",
              "            background-color:  #fee9df;\n",
              "            color:  #000000;\n",
              "        }#T_304b036c_11d0_11eb_9ba9_0242ac1c0002row6_col0,#T_304b036c_11d0_11eb_9ba9_0242ac1c0002row7_col0{\n",
              "            background-color:  #ffeee7;\n",
              "            color:  #000000;\n",
              "        }#T_304b036c_11d0_11eb_9ba9_0242ac1c0002row8_col0{\n",
              "            background-color:  #fff0e8;\n",
              "            color:  #000000;\n",
              "        }#T_304b036c_11d0_11eb_9ba9_0242ac1c0002row9_col0,#T_304b036c_11d0_11eb_9ba9_0242ac1c0002row10_col0{\n",
              "            background-color:  #fff1ea;\n",
              "            color:  #000000;\n",
              "        }#T_304b036c_11d0_11eb_9ba9_0242ac1c0002row11_col0,#T_304b036c_11d0_11eb_9ba9_0242ac1c0002row12_col0,#T_304b036c_11d0_11eb_9ba9_0242ac1c0002row13_col0{\n",
              "            background-color:  #fff2eb;\n",
              "            color:  #000000;\n",
              "        }#T_304b036c_11d0_11eb_9ba9_0242ac1c0002row14_col0{\n",
              "            background-color:  #fff2ec;\n",
              "            color:  #000000;\n",
              "        }#T_304b036c_11d0_11eb_9ba9_0242ac1c0002row15_col0,#T_304b036c_11d0_11eb_9ba9_0242ac1c0002row16_col0,#T_304b036c_11d0_11eb_9ba9_0242ac1c0002row17_col0{\n",
              "            background-color:  #fff3ed;\n",
              "            color:  #000000;\n",
              "        }#T_304b036c_11d0_11eb_9ba9_0242ac1c0002row18_col0,#T_304b036c_11d0_11eb_9ba9_0242ac1c0002row19_col0{\n",
              "            background-color:  #fff4ee;\n",
              "            color:  #000000;\n",
              "        }#T_304b036c_11d0_11eb_9ba9_0242ac1c0002row20_col0,#T_304b036c_11d0_11eb_9ba9_0242ac1c0002row21_col0{\n",
              "            background-color:  #fff4ef;\n",
              "            color:  #000000;\n",
              "        }#T_304b036c_11d0_11eb_9ba9_0242ac1c0002row22_col0,#T_304b036c_11d0_11eb_9ba9_0242ac1c0002row23_col0,#T_304b036c_11d0_11eb_9ba9_0242ac1c0002row24_col0,#T_304b036c_11d0_11eb_9ba9_0242ac1c0002row25_col0,#T_304b036c_11d0_11eb_9ba9_0242ac1c0002row26_col0,#T_304b036c_11d0_11eb_9ba9_0242ac1c0002row27_col0,#T_304b036c_11d0_11eb_9ba9_0242ac1c0002row28_col0,#T_304b036c_11d0_11eb_9ba9_0242ac1c0002row29_col0,#T_304b036c_11d0_11eb_9ba9_0242ac1c0002row30_col0,#T_304b036c_11d0_11eb_9ba9_0242ac1c0002row31_col0,#T_304b036c_11d0_11eb_9ba9_0242ac1c0002row32_col0,#T_304b036c_11d0_11eb_9ba9_0242ac1c0002row33_col0,#T_304b036c_11d0_11eb_9ba9_0242ac1c0002row34_col0,#T_304b036c_11d0_11eb_9ba9_0242ac1c0002row35_col0,#T_304b036c_11d0_11eb_9ba9_0242ac1c0002row36_col0,#T_304b036c_11d0_11eb_9ba9_0242ac1c0002row37_col0{\n",
              "            background-color:  #fff5f0;\n",
              "            color:  #000000;\n",
              "        }</style><table id=\"T_304b036c_11d0_11eb_9ba9_0242ac1c0002\" ><thead>    <tr>        <th class=\"blank level0\" ></th>        <th class=\"col_heading level0 col0\" >Active</th>    </tr>    <tr>        <th class=\"index_name level0\" >State</th>        <th class=\"blank\" ></th>    </tr></thead><tbody>\n",
              "                <tr>\n",
              "                        <th id=\"T_304b036c_11d0_11eb_9ba9_0242ac1c0002level0_row0\" class=\"row_heading level0 row0\" >Total</th>\n",
              "                        <td id=\"T_304b036c_11d0_11eb_9ba9_0242ac1c0002row0_col0\" class=\"data row0 col0\" >605933</td>\n",
              "            </tr>\n",
              "            <tr>\n",
              "                        <th id=\"T_304b036c_11d0_11eb_9ba9_0242ac1c0002level0_row1\" class=\"row_heading level0 row1\" >Maharashtra</th>\n",
              "                        <td id=\"T_304b036c_11d0_11eb_9ba9_0242ac1c0002row1_col0\" class=\"data row1 col0\" >146305</td>\n",
              "            </tr>\n",
              "            <tr>\n",
              "                        <th id=\"T_304b036c_11d0_11eb_9ba9_0242ac1c0002level0_row2\" class=\"row_heading level0 row2\" >Andhra Pradesh</th>\n",
              "                        <td id=\"T_304b036c_11d0_11eb_9ba9_0242ac1c0002row2_col0\" class=\"data row2 col0\" >82166</td>\n",
              "            </tr>\n",
              "            <tr>\n",
              "                        <th id=\"T_304b036c_11d0_11eb_9ba9_0242ac1c0002level0_row3\" class=\"row_heading level0 row3\" >Karnataka</th>\n",
              "                        <td id=\"T_304b036c_11d0_11eb_9ba9_0242ac1c0002row3_col0\" class=\"data row3 col0\" >75067</td>\n",
              "            </tr>\n",
              "            <tr>\n",
              "                        <th id=\"T_304b036c_11d0_11eb_9ba9_0242ac1c0002level0_row4\" class=\"row_heading level0 row4\" >Tamil Nadu</th>\n",
              "                        <td id=\"T_304b036c_11d0_11eb_9ba9_0242ac1c0002row4_col0\" class=\"data row4 col0\" >53486</td>\n",
              "            </tr>\n",
              "            <tr>\n",
              "                        <th id=\"T_304b036c_11d0_11eb_9ba9_0242ac1c0002level0_row5\" class=\"row_heading level0 row5\" >Uttar Pradesh</th>\n",
              "                        <td id=\"T_304b036c_11d0_11eb_9ba9_0242ac1c0002row5_col0\" class=\"data row5 col0\" >43654</td>\n",
              "            </tr>\n",
              "            <tr>\n",
              "                        <th id=\"T_304b036c_11d0_11eb_9ba9_0242ac1c0002level0_row6\" class=\"row_heading level0 row6\" >Bihar</th>\n",
              "                        <td id=\"T_304b036c_11d0_11eb_9ba9_0242ac1c0002row6_col0\" class=\"data row6 col0\" >23939</td>\n",
              "            </tr>\n",
              "            <tr>\n",
              "                        <th id=\"T_304b036c_11d0_11eb_9ba9_0242ac1c0002level0_row7\" class=\"row_heading level0 row7\" >West Bengal</th>\n",
              "                        <td id=\"T_304b036c_11d0_11eb_9ba9_0242ac1c0002row7_col0\" class=\"data row7 col0\" >23829</td>\n",
              "            </tr>\n",
              "            <tr>\n",
              "                        <th id=\"T_304b036c_11d0_11eb_9ba9_0242ac1c0002level0_row8\" class=\"row_heading level0 row8\" >Telangana</th>\n",
              "                        <td id=\"T_304b036c_11d0_11eb_9ba9_0242ac1c0002row8_col0\" class=\"data row8 col0\" >20358</td>\n",
              "            </tr>\n",
              "            <tr>\n",
              "                        <th id=\"T_304b036c_11d0_11eb_9ba9_0242ac1c0002level0_row9\" class=\"row_heading level0 row9\" >Assam</th>\n",
              "                        <td id=\"T_304b036c_11d0_11eb_9ba9_0242ac1c0002row9_col0\" class=\"data row9 col0\" >15464</td>\n",
              "            </tr>\n",
              "            <tr>\n",
              "                        <th id=\"T_304b036c_11d0_11eb_9ba9_0242ac1c0002level0_row10\" class=\"row_heading level0 row10\" >Gujarat</th>\n",
              "                        <td id=\"T_304b036c_11d0_11eb_9ba9_0242ac1c0002row10_col0\" class=\"data row10 col0\" >14708</td>\n",
              "            </tr>\n",
              "            <tr>\n",
              "                        <th id=\"T_304b036c_11d0_11eb_9ba9_0242ac1c0002level0_row11\" class=\"row_heading level0 row11\" >Odisha</th>\n",
              "                        <td id=\"T_304b036c_11d0_11eb_9ba9_0242ac1c0002row11_col0\" class=\"data row11 col0\" >13549</td>\n",
              "            </tr>\n",
              "            <tr>\n",
              "                        <th id=\"T_304b036c_11d0_11eb_9ba9_0242ac1c0002level0_row12\" class=\"row_heading level0 row12\" >Rajasthan</th>\n",
              "                        <td id=\"T_304b036c_11d0_11eb_9ba9_0242ac1c0002row12_col0\" class=\"data row12 col0\" >13108</td>\n",
              "            </tr>\n",
              "            <tr>\n",
              "                        <th id=\"T_304b036c_11d0_11eb_9ba9_0242ac1c0002level0_row13\" class=\"row_heading level0 row13\" >Kerala</th>\n",
              "                        <td id=\"T_304b036c_11d0_11eb_9ba9_0242ac1c0002row13_col0\" class=\"data row13 col0\" >11983</td>\n",
              "            </tr>\n",
              "            <tr>\n",
              "                        <th id=\"T_304b036c_11d0_11eb_9ba9_0242ac1c0002level0_row14\" class=\"row_heading level0 row14\" >Delhi</th>\n",
              "                        <td id=\"T_304b036c_11d0_11eb_9ba9_0242ac1c0002row14_col0\" class=\"data row14 col0\" >10348</td>\n",
              "            </tr>\n",
              "            <tr>\n",
              "                        <th id=\"T_304b036c_11d0_11eb_9ba9_0242ac1c0002level0_row15\" class=\"row_heading level0 row15\" >Jharkhand</th>\n",
              "                        <td id=\"T_304b036c_11d0_11eb_9ba9_0242ac1c0002row15_col0\" class=\"data row15 col0\" >9017</td>\n",
              "            </tr>\n",
              "            <tr>\n",
              "                        <th id=\"T_304b036c_11d0_11eb_9ba9_0242ac1c0002level0_row16\" class=\"row_heading level0 row16\" >Madhya Pradesh</th>\n",
              "                        <td id=\"T_304b036c_11d0_11eb_9ba9_0242ac1c0002row16_col0\" class=\"data row16 col0\" >8716</td>\n",
              "            </tr>\n",
              "            <tr>\n",
              "                        <th id=\"T_304b036c_11d0_11eb_9ba9_0242ac1c0002level0_row17\" class=\"row_heading level0 row17\" >Jammu and Kashmir</th>\n",
              "                        <td id=\"T_304b036c_11d0_11eb_9ba9_0242ac1c0002row17_col0\" class=\"data row17 col0\" >7310</td>\n",
              "            </tr>\n",
              "            <tr>\n",
              "                        <th id=\"T_304b036c_11d0_11eb_9ba9_0242ac1c0002level0_row18\" class=\"row_heading level0 row18\" >Punjab</th>\n",
              "                        <td id=\"T_304b036c_11d0_11eb_9ba9_0242ac1c0002row18_col0\" class=\"data row18 col0\" >6715</td>\n",
              "            </tr>\n",
              "            <tr>\n",
              "                        <th id=\"T_304b036c_11d0_11eb_9ba9_0242ac1c0002level0_row19\" class=\"row_heading level0 row19\" >Haryana</th>\n",
              "                        <td id=\"T_304b036c_11d0_11eb_9ba9_0242ac1c0002row19_col0\" class=\"data row19 col0\" >6205</td>\n",
              "            </tr>\n",
              "            <tr>\n",
              "                        <th id=\"T_304b036c_11d0_11eb_9ba9_0242ac1c0002level0_row20\" class=\"row_heading level0 row20\" >Uttarakhand</th>\n",
              "                        <td id=\"T_304b036c_11d0_11eb_9ba9_0242ac1c0002row20_col0\" class=\"data row20 col0\" >3056</td>\n",
              "            </tr>\n",
              "            <tr>\n",
              "                        <th id=\"T_304b036c_11d0_11eb_9ba9_0242ac1c0002level0_row21\" class=\"row_heading level0 row21\" >Chhattisgarh</th>\n",
              "                        <td id=\"T_304b036c_11d0_11eb_9ba9_0242ac1c0002row21_col0\" class=\"data row21 col0\" >2855</td>\n",
              "            </tr>\n",
              "            <tr>\n",
              "                        <th id=\"T_304b036c_11d0_11eb_9ba9_0242ac1c0002level0_row22\" class=\"row_heading level0 row22\" >Goa</th>\n",
              "                        <td id=\"T_304b036c_11d0_11eb_9ba9_0242ac1c0002row22_col0\" class=\"data row22 col0\" >2095</td>\n",
              "            </tr>\n",
              "            <tr>\n",
              "                        <th id=\"T_304b036c_11d0_11eb_9ba9_0242ac1c0002level0_row23\" class=\"row_heading level0 row23\" >Tripura</th>\n",
              "                        <td id=\"T_304b036c_11d0_11eb_9ba9_0242ac1c0002row23_col0\" class=\"data row23 col0\" >1898</td>\n",
              "            </tr>\n",
              "            <tr>\n",
              "                        <th id=\"T_304b036c_11d0_11eb_9ba9_0242ac1c0002level0_row24\" class=\"row_heading level0 row24\" >Nagaland</th>\n",
              "                        <td id=\"T_304b036c_11d0_11eb_9ba9_0242ac1c0002row24_col0\" class=\"data row24 col0\" >1752</td>\n",
              "            </tr>\n",
              "            <tr>\n",
              "                        <th id=\"T_304b036c_11d0_11eb_9ba9_0242ac1c0002level0_row25\" class=\"row_heading level0 row25\" >Puducherry</th>\n",
              "                        <td id=\"T_304b036c_11d0_11eb_9ba9_0242ac1c0002row25_col0\" class=\"data row25 col0\" >1743</td>\n",
              "            </tr>\n",
              "            <tr>\n",
              "                        <th id=\"T_304b036c_11d0_11eb_9ba9_0242ac1c0002level0_row26\" class=\"row_heading level0 row26\" >Manipur</th>\n",
              "                        <td id=\"T_304b036c_11d0_11eb_9ba9_0242ac1c0002row26_col0\" class=\"data row26 col0\" >1304</td>\n",
              "            </tr>\n",
              "            <tr>\n",
              "                        <th id=\"T_304b036c_11d0_11eb_9ba9_0242ac1c0002level0_row27\" class=\"row_heading level0 row27\" >Himachal Pradesh</th>\n",
              "                        <td id=\"T_304b036c_11d0_11eb_9ba9_0242ac1c0002row27_col0\" class=\"data row27 col0\" >1141</td>\n",
              "            </tr>\n",
              "            <tr>\n",
              "                        <th id=\"T_304b036c_11d0_11eb_9ba9_0242ac1c0002level0_row28\" class=\"row_heading level0 row28\" >Andaman and Nicobar Islands</th>\n",
              "                        <td id=\"T_304b036c_11d0_11eb_9ba9_0242ac1c0002row28_col0\" class=\"data row28 col0\" >752</td>\n",
              "            </tr>\n",
              "            <tr>\n",
              "                        <th id=\"T_304b036c_11d0_11eb_9ba9_0242ac1c0002level0_row29\" class=\"row_heading level0 row29\" >Arunachal Pradesh</th>\n",
              "                        <td id=\"T_304b036c_11d0_11eb_9ba9_0242ac1c0002row29_col0\" class=\"data row29 col0\" >700</td>\n",
              "            </tr>\n",
              "            <tr>\n",
              "                        <th id=\"T_304b036c_11d0_11eb_9ba9_0242ac1c0002level0_row30\" class=\"row_heading level0 row30\" >Meghalaya</th>\n",
              "                        <td id=\"T_304b036c_11d0_11eb_9ba9_0242ac1c0002row30_col0\" class=\"data row30 col0\" >640</td>\n",
              "            </tr>\n",
              "            <tr>\n",
              "                        <th id=\"T_304b036c_11d0_11eb_9ba9_0242ac1c0002level0_row31\" class=\"row_heading level0 row31\" >Chandigarh</th>\n",
              "                        <td id=\"T_304b036c_11d0_11eb_9ba9_0242ac1c0002row31_col0\" class=\"data row31 col0\" >529</td>\n",
              "            </tr>\n",
              "            <tr>\n",
              "                        <th id=\"T_304b036c_11d0_11eb_9ba9_0242ac1c0002level0_row32\" class=\"row_heading level0 row32\" >Sikkim</th>\n",
              "                        <td id=\"T_304b036c_11d0_11eb_9ba9_0242ac1c0002row32_col0\" class=\"data row32 col0\" >475</td>\n",
              "            </tr>\n",
              "            <tr>\n",
              "                        <th id=\"T_304b036c_11d0_11eb_9ba9_0242ac1c0002level0_row33\" class=\"row_heading level0 row33\" >Ladakh</th>\n",
              "                        <td id=\"T_304b036c_11d0_11eb_9ba9_0242ac1c0002row33_col0\" class=\"data row33 col0\" >411</td>\n",
              "            </tr>\n",
              "            <tr>\n",
              "                        <th id=\"T_304b036c_11d0_11eb_9ba9_0242ac1c0002level0_row34\" class=\"row_heading level0 row34\" >Dadra and Nagar Haveli and Daman and Diu</th>\n",
              "                        <td id=\"T_304b036c_11d0_11eb_9ba9_0242ac1c0002row34_col0\" class=\"data row34 col0\" >406</td>\n",
              "            </tr>\n",
              "            <tr>\n",
              "                        <th id=\"T_304b036c_11d0_11eb_9ba9_0242ac1c0002level0_row35\" class=\"row_heading level0 row35\" >Mizoram</th>\n",
              "                        <td id=\"T_304b036c_11d0_11eb_9ba9_0242ac1c0002row35_col0\" class=\"data row35 col0\" >249</td>\n",
              "            </tr>\n",
              "            <tr>\n",
              "                        <th id=\"T_304b036c_11d0_11eb_9ba9_0242ac1c0002level0_row36\" class=\"row_heading level0 row36\" >State Unassigned</th>\n",
              "                        <td id=\"T_304b036c_11d0_11eb_9ba9_0242ac1c0002row36_col0\" class=\"data row36 col0\" >0</td>\n",
              "            </tr>\n",
              "            <tr>\n",
              "                        <th id=\"T_304b036c_11d0_11eb_9ba9_0242ac1c0002level0_row37\" class=\"row_heading level0 row37\" >Lakshadweep</th>\n",
              "                        <td id=\"T_304b036c_11d0_11eb_9ba9_0242ac1c0002row37_col0\" class=\"data row37 col0\" >0</td>\n",
              "            </tr>\n",
              "    </tbody></table>"
            ],
            "text/plain": [
              "<pandas.io.formats.style.Styler at 0x7f044ae41860>"
            ]
          },
          "metadata": {
            "tags": []
          },
          "execution_count": 27
        }
      ]
    },
    {
      "cell_type": "markdown",
      "metadata": {
        "id": "0q44og8xdhE1"
      },
      "source": [
        "## Visualizing the spread geographically"
      ]
    },
    {
      "cell_type": "code",
      "metadata": {
        "_kg_hide-input": true,
        "_kg_hide-output": false,
        "id": "d6_6oRNadhE5",
        "outputId": "920114ce-8ff8-4a46-b191-8ef2a9daf7ef",
        "colab": {
          "base_uri": "https://localhost:8080/",
          "height": 583
        }
      },
      "source": [
        "# Learn how to use folium to create a zoomable map\n",
        "df_full = pd.merge(India_coord, df, on = 'State')\n",
        "map = folium.Map(location = [20, 70], zoom_start = 5, tiles = 'Stamenterrain')\n",
        "\n",
        "for lat, lon, value, name in zip(df_full['Latitude'], df_full['Longitude'], df_full['Confirmed'], df_full['State']):\n",
        "    folium.CircleMarker([lat, lon], radius = value*0.0001, popup = ('<strong>State</strong>: ' + str(name).capitalize() + '<br>''<strong>Total Cases</strong>: ' + str(value) + '<br>'),color='red',fill_color='red',fill_opacity=0.3 ).add_to(map)\n",
        "map"
      ],
      "execution_count": 46,
      "outputs": [
        {
          "output_type": "execute_result",
          "data": {
            "text/html": [
              "<div style=\"width:100%;\"><div style=\"position:relative;width:100%;height:0;padding-bottom:60%;\"><span style=\"color:#565656\">Make this Notebook Trusted to load map: File -> Trust Notebook</span><iframe src=\"about:blank\" style=\"position:absolute;width:100%;height:100%;left:0;top:0;border:none !important;\" data-html=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 onload=\"this.contentDocument.open();this.contentDocument.write(atob(this.getAttribute('data-html')));this.contentDocument.close();\" allowfullscreen webkitallowfullscreen mozallowfullscreen></iframe></div></div>"
            ],
            "text/plain": [
              "<folium.folium.Map at 0x7f044ab6d2b0>"
            ]
          },
          "metadata": {
            "tags": []
          },
          "execution_count": 46
        }
      ]
    },
    {
      "cell_type": "markdown",
      "metadata": {
        "id": "bl6V3wPkdhFE"
      },
      "source": [
        "## Visualisation: Confirmed vs Recovered"
      ]
    },
    {
      "cell_type": "code",
      "metadata": {
        "_kg_hide-input": true,
        "_kg_hide-output": false,
        "id": "yBavZ1TndhFG",
        "outputId": "0f76cbe7-7dd4-43ad-f18f-3e3424247292",
        "colab": {
          "base_uri": "https://localhost:8080/",
          "height": 497
        }
      },
      "source": [
        "f, ax = plt.subplots(figsize=(12, 8))\n",
        "data = df_full[['State','Confirmed', 'Recovered', 'Deaths']]\n",
        "data.sort_values('Confirmed', ascending = False, inplace = True)\n",
        "sns.set_color_codes(\"pastel\")\n",
        "sns.barplot(x=\"Confirmed\", y=\"State\", data = data, label = \"Total\", color=\"r\")\n",
        "\n",
        "sns.set_color_codes(\"muted\")\n",
        "sns.barplot(x=\"Recovered\", y=\"State\", data = data, label=\"Recovered\", color=\"g\")\n",
        "\n",
        "\n",
        "# Add a legend and informative axis label\n",
        "ax.legend(ncol=2, loc=\"lower right\", frameon=True)\n",
        "ax.set(xlim=(0, 320000), ylabel=\"\",xlabel=\"Cases\")\n",
        "sns.despine(left=True, bottom=True)"
      ],
      "execution_count": 50,
      "outputs": [
        {
          "output_type": "display_data",
          "data": {
            "image/png": "[encoded data removed]",
            "text/plain": [
              "<Figure size 864x576 with 1 Axes>"
            ]
          },
          "metadata": {
            "tags": [],
            "needs_background": "light"
          }
        }
      ]
    },
    {
      "cell_type": "markdown",
      "metadata": {
        "id": "8cj9ugfEdhFL"
      },
      "source": [
        "## How the Coronavirus cases are rising?"
      ]
    },
    {
      "cell_type": "code",
      "metadata": {
        "id": "ee1EkgweFR3i"
      },
      "source": [
        "import plotly\n",
        "plotly.io.renderers.default = 'colab'"
      ],
      "execution_count": 51,
      "outputs": []
    },
    {
      "cell_type": "code",
      "metadata": {
        "id": "v6u3TtW-lVm3"
      },
      "source": [
        "dbd_India = pd.read_csv('per_day_cases.csv')"
      ],
      "execution_count": null,
      "outputs": []
    },
    {
      "cell_type": "code",
      "metadata": {
        "id": "NUUrCTrBi5cH",
        "outputId": "0715a568-f178-4e1a-ef03-1f751fab2ae2",
        "colab": {
          "base_uri": "https://localhost:8080/",
          "height": 204
        }
      },
      "source": [
        "dbd_India.head()"
      ],
      "execution_count": 52,
      "outputs": [
        {
          "output_type": "execute_result",
          "data": {
            "text/html": [
              "<div>\n",
              "<style scoped>\n",
              "    .dataframe tbody tr th:only-of-type {\n",
              "        vertical-align: middle;\n",
              "    }\n",
              "\n",
              "    .dataframe tbody tr th {\n",
              "        vertical-align: top;\n",
              "    }\n",
              "\n",
              "    .dataframe thead th {\n",
              "        text-align: right;\n",
              "    }\n",
              "</style>\n",
              "<table border=\"1\" class=\"dataframe\">\n",
              "  <thead>\n",
              "    <tr style=\"text-align: right;\">\n",
              "      <th></th>\n",
              "      <th>Date</th>\n",
              "      <th>Daily Confirmed</th>\n",
              "      <th>Total Confirmed</th>\n",
              "      <th>Daily Recovered</th>\n",
              "      <th>Total Recovered</th>\n",
              "      <th>Daily Deceased</th>\n",
              "      <th>Total Deceased</th>\n",
              "    </tr>\n",
              "  </thead>\n",
              "  <tbody>\n",
              "    <tr>\n",
              "      <th>0</th>\n",
              "      <td>30 January</td>\n",
              "      <td>1</td>\n",
              "      <td>1</td>\n",
              "      <td>0</td>\n",
              "      <td>0</td>\n",
              "      <td>0</td>\n",
              "      <td>0</td>\n",
              "    </tr>\n",
              "    <tr>\n",
              "      <th>1</th>\n",
              "      <td>31 January</td>\n",
              "      <td>0</td>\n",
              "      <td>1</td>\n",
              "      <td>0</td>\n",
              "      <td>0</td>\n",
              "      <td>0</td>\n",
              "      <td>0</td>\n",
              "    </tr>\n",
              "    <tr>\n",
              "      <th>2</th>\n",
              "      <td>01 February</td>\n",
              "      <td>0</td>\n",
              "      <td>1</td>\n",
              "      <td>0</td>\n",
              "      <td>0</td>\n",
              "      <td>0</td>\n",
              "      <td>0</td>\n",
              "    </tr>\n",
              "    <tr>\n",
              "      <th>3</th>\n",
              "      <td>02 February</td>\n",
              "      <td>1</td>\n",
              "      <td>2</td>\n",
              "      <td>0</td>\n",
              "      <td>0</td>\n",
              "      <td>0</td>\n",
              "      <td>0</td>\n",
              "    </tr>\n",
              "    <tr>\n",
              "      <th>4</th>\n",
              "      <td>03 February</td>\n",
              "      <td>1</td>\n",
              "      <td>3</td>\n",
              "      <td>0</td>\n",
              "      <td>0</td>\n",
              "      <td>0</td>\n",
              "      <td>0</td>\n",
              "    </tr>\n",
              "  </tbody>\n",
              "</table>\n",
              "</div>"
            ],
            "text/plain": [
              "           Date  Daily Confirmed  ...  Daily Deceased  Total Deceased\n",
              "0   30 January                 1  ...               0               0\n",
              "1   31 January                 0  ...               0               0\n",
              "2  01 February                 0  ...               0               0\n",
              "3  02 February                 1  ...               0               0\n",
              "4  03 February                 1  ...               0               0\n",
              "\n",
              "[5 rows x 7 columns]"
            ]
          },
          "metadata": {
            "tags": []
          },
          "execution_count": 52
        }
      ]
    },
    {
      "cell_type": "code",
      "metadata": {
        "_kg_hide-input": true,
        "_kg_hide-output": false,
        "id": "sAu20QbRdhFO",
        "outputId": "ab4f7ab4-23ca-4970-9297-30ee34117ec7",
        "colab": {
          "base_uri": "https://localhost:8080/",
          "height": 942
        }
      },
      "source": [
        "# import plotly.graph_objects as go\n",
        "# Rise of COVID-19 cases in India\n",
        "fig = go.Figure()\n",
        "fig.add_trace(go.Scatter(x=dbd_India['Date'], y = dbd_India['Total Confirmed'], mode='lines+markers', name='Total Confirmed'))\n",
        "fig.update_layout(title_text='Trend of Coronavirus Cases in India (Cumulative cases)', plot_bgcolor = 'rgb(230, 230, 230)')\n",
        "fig.show()\n",
        "\n",
        "# New COVID-19 cases reported daily in India\n",
        "\n",
        "import plotly.express as px\n",
        "fig = px.bar(dbd_India, x=\"Date\", y=\"Daily Confirmed\", barmode='group', height=400)\n",
        "fig.update_layout(title_text='Coronavirus Cases in India on daily basis', plot_bgcolor = 'rgb(230, 230, 230)')\n",
        "\n",
        "fig.show()"
      ],
      "execution_count": 53,
      "outputs": [
        {
          "output_type": "display_data",
          "data": {
            "text/html": [
              "<html>\n",
              "<head><meta charset=\"utf-8\" /></head>\n",
              "<body>\n",
              "    <div>\n",
              "            <script src=\"https://cdnjs.cloudflare.com/ajax/libs/mathjax/2.7.5/MathJax.js?config=TeX-AMS-MML_SVG\"></script><script type=\"text/javascript\">if (window.MathJax) {MathJax.Hub.Config({SVG: {font: \"STIX-Web\"}});}</script>\n",
              "                <script type=\"text/javascript\">window.PlotlyConfig = {MathJaxConfig: 'local'};</script>\n",
              "        <script src=\"https://cdn.plot.ly/plotly-latest.min.js\"></script>    \n",
              "            <div id=\"56ce72cc-e098-407e-a318-bf84102ec6c5\" class=\"plotly-graph-div\" style=\"height:525px; width:100%;\"></div>\n",
              "            <script type=\"text/javascript\">\n",
              "                \n",
              "                    window.PLOTLYENV=window.PLOTLYENV || {};\n",
              "                    \n",
              "                if (document.getElementById(\"56ce72cc-e098-407e-a318-bf84102ec6c5\")) {\n",
              "                    Plotly.newPlot(\n",
              "                        '56ce72cc-e098-407e-a318-bf84102ec6c5',\n",
              "                        [{\"mode\": \"lines+markers\", \"name\": \"Total Confirmed\", \"type\": \"scatter\", \"x\": [\"30 January \", \"31 January \", \"01 February \", \"02 February \", \"03 February \", \"04 February \", \"05 February \", \"06 February \", \"07 February \", \"08 February \", \"09 February \", \"10 February \", \"11 February \", \"12 February \", \"13 February \", \"14 February \", \"15 February \", \"16 February \", \"17 February \", \"18 February \", \"19 February \", \"20 February \", \"21 February \", \"22 February \", \"23 February \", \"24 February \", \"25 February \", \"26 February \", \"27 February \", \"28 February \", \"29 February \", \"01 March \", \"02 March \", \"03 March \", \"04 March \", \"05 March \", \"06 March \", \"07 March \", \"08 March \", \"09 March \", \"10 March \", \"11 March \", \"12 March \", \"13 March \", \"14 March \", \"15 March \", \"16 March \", \"17 March \", \"18 March \", \"19 March \", \"20 March \", \"21 March \", \"22 March \", \"23 March \", \"24 March \", \"25 March \", \"26 March \", \"27 March \", \"28 March \", \"29 March \", \"30 March \", \"31 March \", \"01 April \", \"02 April \", \"03 April \", \"04 April \", \"05 April \", \"06 April \", \"07 April \", \"08 April \", \"09 April \", \"10 April \", \"11 April \", \"12 April \", \"13 April \", \"14 April \", \"15 April \", \"16 April \", \"17 April \", \"18 April \", \"19 April \", \"20 April \", \"21 April \", \"22 April \", \"23 April \", \"24 April \", \"25 April \", \"26 April \", \"27 April \", \"28 April \", \"29 April \", \"30 April \", \"01 May \", \"02 May \", \"03 May \", \"04 May \", \"05 May \", \"06 May \", \"07 May \", \"08 May \", \"09 May \", \"10 May \", \"11 May \", \"12 May \", \"13 May \", \"14 May \", \"15 May \", \"16 May \", \"17 May \", \"18 May \", \"19 May \", \"20 May \", \"21 May \", \"22 May \", \"23 May \", \"24 May \", \"25 May \", \"26 May \", \"27 May \", \"28 May \", \"29 May \", \"30 May \", \"31 May \", \"01 June \", \"02 June \", \"03 June \", \"04 June \", \"05 June \", \"06 June \", \"07 June \", \"08 June \", \"09 June \", \"10 June \", \"11 June \", \"12 June \", \"13 June \", \"14 June \", \"15 June \", \"16 June \", \"17 June \", \"18 June \", \"19 June \", \"20 June \", \"21 June \", \"22 June \", \"23 June \", \"24 June \", \"25 June \", \"26 June \", \"27 June \", \"28 June \", \"29 June \", \"30 June \", \"01 July \", \"02 July \", \"03 July \", \"04 July \", \"05 July \", \"06 July \", \"07 July \", \"08 July \", \"09 July \", \"10 July \", \"11 July \", \"12 July \", \"13 July \", \"14 July \", \"15 July \", \"16 July \", \"17 July \", \"18 July \", \"19 July \", \"20 July \", \"21 July \", \"22 July \", \"23 July \", \"24 July \", \"25 July \", \"26 July \", \"27 July \", \"28 July \", \"29 July \", \"30 July \", \"31 July \", \"01 August \", \"02 August \", \"03 August \", \"04 August \", \"05 August \", \"06 August \"], \"y\": [1, 1, 1, 2, 3, 3, 3, 3, 3, 3, 3, 3, 3, 3, 3, 3, 3, 3, 3, 3, 3, 3, 3, 3, 3, 3, 3, 3, 3, 3, 3, 3, 5, 6, 28, 30, 31, 34, 39, 48, 63, 71, 81, 91, 102, 112, 126, 146, 171, 198, 256, 334, 403, 497, 571, 657, 730, 883, 1019, 1139, 1326, 1635, 2059, 2545, 3105, 3684, 4293, 4777, 5350, 5915, 6728, 7599, 8453, 9211, 10454, 11485, 12371, 13432, 14354, 15725, 17305, 18544, 20081, 21373, 23040, 24448, 26283, 27890, 29458, 31360, 33065, 34866, 37262, 39826, 42778, 46434, 49405, 53007, 56351, 59690, 62865, 67176, 70768, 74330, 78056, 82047, 85855, 90649, 95698, 100326, 106480, 112200, 118223, 124759, 131424, 138537, 144951, 150858, 158104, 165358, 173496, 181860, 190649, 198372, 207187, 216876, 226723, 236195, 246603, 257485, 266021, 276002, 287158, 298293, 309599, 321638, 333043, 343075, 354161, 367269, 381098, 395838, 411753, 426904, 440464, 456120, 472988, 491193, 509448, 529590, 549200, 567539, 585795, 605224, 627171, 649889, 673907, 697849, 720349, 743496, 769057, 794847, 822609, 850366, 879472, 907650, 937567, 970174, 1005642, 1040462, 1077873, 1118108, 1154914, 1194084, 1239685, 1288128, 1337016, 1387088, 1436020, 1482504, 1532135, 1584614, 1639582, 1697068, 1752185, 1804857, 1855345, 1906627, 1963253, 2025423]}],\n",
              "                        {\"plot_bgcolor\": \"rgb(230, 230, 230)\", \"template\": {\"data\": {\"bar\": [{\"error_x\": {\"color\": \"#2a3f5f\"}, \"error_y\": {\"color\": \"#2a3f5f\"}, \"marker\": {\"line\": {\"color\": \"#E5ECF6\", \"width\": 0.5}}, \"type\": \"bar\"}], \"barpolar\": [{\"marker\": {\"line\": {\"color\": \"#E5ECF6\", \"width\": 0.5}}, \"type\": \"barpolar\"}], \"carpet\": [{\"aaxis\": {\"endlinecolor\": \"#2a3f5f\", \"gridcolor\": \"white\", \"linecolor\": \"white\", \"minorgridcolor\": \"white\", \"startlinecolor\": \"#2a3f5f\"}, \"baxis\": {\"endlinecolor\": \"#2a3f5f\", \"gridcolor\": \"white\", \"linecolor\": \"white\", \"minorgridcolor\": \"white\", \"startlinecolor\": \"#2a3f5f\"}, \"type\": \"carpet\"}], \"choropleth\": [{\"colorbar\": {\"outlinewidth\": 0, \"ticks\": \"\"}, \"type\": \"choropleth\"}], \"contour\": [{\"colorbar\": {\"outlinewidth\": 0, \"ticks\": \"\"}, \"colorscale\": [[0.0, \"#0d0887\"], [0.1111111111111111, \"#46039f\"], [0.2222222222222222, \"#7201a8\"], [0.3333333333333333, \"#9c179e\"], [0.4444444444444444, \"#bd3786\"], [0.5555555555555556, \"#d8576b\"], [0.6666666666666666, \"#ed7953\"], [0.7777777777777778, \"#fb9f3a\"], [0.8888888888888888, \"#fdca26\"], [1.0, \"#f0f921\"]], \"type\": \"contour\"}], \"contourcarpet\": [{\"colorbar\": {\"outlinewidth\": 0, \"ticks\": \"\"}, \"type\": \"contourcarpet\"}], \"heatmap\": [{\"colorbar\": {\"outlinewidth\": 0, \"ticks\": \"\"}, \"colorscale\": [[0.0, \"#0d0887\"], [0.1111111111111111, \"#46039f\"], [0.2222222222222222, \"#7201a8\"], [0.3333333333333333, \"#9c179e\"], [0.4444444444444444, \"#bd3786\"], [0.5555555555555556, \"#d8576b\"], [0.6666666666666666, \"#ed7953\"], [0.7777777777777778, \"#fb9f3a\"], [0.8888888888888888, \"#fdca26\"], [1.0, \"#f0f921\"]], \"type\": \"heatmap\"}], \"heatmapgl\": [{\"colorbar\": {\"outlinewidth\": 0, \"ticks\": \"\"}, \"colorscale\": [[0.0, \"#0d0887\"], [0.1111111111111111, \"#46039f\"], [0.2222222222222222, \"#7201a8\"], [0.3333333333333333, \"#9c179e\"], [0.4444444444444444, \"#bd3786\"], [0.5555555555555556, \"#d8576b\"], [0.6666666666666666, \"#ed7953\"], [0.7777777777777778, \"#fb9f3a\"], [0.8888888888888888, \"#fdca26\"], [1.0, \"#f0f921\"]], \"type\": \"heatmapgl\"}], \"histogram\": [{\"marker\": {\"colorbar\": {\"outlinewidth\": 0, \"ticks\": \"\"}}, \"type\": \"histogram\"}], \"histogram2d\": [{\"colorbar\": {\"outlinewidth\": 0, \"ticks\": \"\"}, \"colorscale\": [[0.0, \"#0d0887\"], [0.1111111111111111, \"#46039f\"], [0.2222222222222222, \"#7201a8\"], [0.3333333333333333, \"#9c179e\"], [0.4444444444444444, \"#bd3786\"], [0.5555555555555556, \"#d8576b\"], [0.6666666666666666, \"#ed7953\"], [0.7777777777777778, \"#fb9f3a\"], [0.8888888888888888, \"#fdca26\"], [1.0, \"#f0f921\"]], \"type\": \"histogram2d\"}], \"histogram2dcontour\": [{\"colorbar\": {\"outlinewidth\": 0, \"ticks\": \"\"}, \"colorscale\": [[0.0, \"#0d0887\"], [0.1111111111111111, \"#46039f\"], [0.2222222222222222, \"#7201a8\"], [0.3333333333333333, \"#9c179e\"], [0.4444444444444444, \"#bd3786\"], [0.5555555555555556, \"#d8576b\"], [0.6666666666666666, \"#ed7953\"], [0.7777777777777778, \"#fb9f3a\"], [0.8888888888888888, \"#fdca26\"], [1.0, \"#f0f921\"]], \"type\": \"histogram2dcontour\"}], \"mesh3d\": [{\"colorbar\": {\"outlinewidth\": 0, \"ticks\": \"\"}, \"type\": \"mesh3d\"}], \"parcoords\": [{\"line\": {\"colorbar\": {\"outlinewidth\": 0, \"ticks\": \"\"}}, \"type\": \"parcoords\"}], \"pie\": [{\"automargin\": true, \"type\": \"pie\"}], \"scatter\": [{\"marker\": {\"colorbar\": {\"outlinewidth\": 0, \"ticks\": \"\"}}, \"type\": \"scatter\"}], \"scatter3d\": [{\"line\": {\"colorbar\": {\"outlinewidth\": 0, \"ticks\": \"\"}}, \"marker\": {\"colorbar\": {\"outlinewidth\": 0, \"ticks\": \"\"}}, \"type\": \"scatter3d\"}], \"scattercarpet\": [{\"marker\": {\"colorbar\": {\"outlinewidth\": 0, \"ticks\": \"\"}}, \"type\": \"scattercarpet\"}], \"scattergeo\": [{\"marker\": {\"colorbar\": {\"outlinewidth\": 0, \"ticks\": \"\"}}, \"type\": \"scattergeo\"}], \"scattergl\": [{\"marker\": {\"colorbar\": {\"outlinewidth\": 0, \"ticks\": \"\"}}, \"type\": \"scattergl\"}], \"scattermapbox\": [{\"marker\": {\"colorbar\": {\"outlinewidth\": 0, \"ticks\": \"\"}}, \"type\": \"scattermapbox\"}], \"scatterpolar\": [{\"marker\": {\"colorbar\": {\"outlinewidth\": 0, \"ticks\": \"\"}}, \"type\": \"scatterpolar\"}], \"scatterpolargl\": [{\"marker\": {\"colorbar\": {\"outlinewidth\": 0, \"ticks\": \"\"}}, \"type\": \"scatterpolargl\"}], \"scatterternary\": [{\"marker\": {\"colorbar\": {\"outlinewidth\": 0, \"ticks\": \"\"}}, \"type\": \"scatterternary\"}], \"surface\": [{\"colorbar\": {\"outlinewidth\": 0, \"ticks\": \"\"}, \"colorscale\": [[0.0, \"#0d0887\"], [0.1111111111111111, \"#46039f\"], [0.2222222222222222, \"#7201a8\"], [0.3333333333333333, \"#9c179e\"], [0.4444444444444444, \"#bd3786\"], [0.5555555555555556, \"#d8576b\"], [0.6666666666666666, \"#ed7953\"], [0.7777777777777778, \"#fb9f3a\"], [0.8888888888888888, \"#fdca26\"], [1.0, \"#f0f921\"]], \"type\": \"surface\"}], \"table\": [{\"cells\": {\"fill\": {\"color\": \"#EBF0F8\"}, \"line\": {\"color\": \"white\"}}, \"header\": {\"fill\": {\"color\": \"#C8D4E3\"}, \"line\": {\"color\": \"white\"}}, \"type\": \"table\"}]}, \"layout\": {\"annotationdefaults\": {\"arrowcolor\": \"#2a3f5f\", \"arrowhead\": 0, \"arrowwidth\": 1}, \"coloraxis\": {\"colorbar\": {\"outlinewidth\": 0, \"ticks\": \"\"}}, \"colorscale\": {\"diverging\": [[0, \"#8e0152\"], [0.1, \"#c51b7d\"], [0.2, \"#de77ae\"], [0.3, \"#f1b6da\"], [0.4, \"#fde0ef\"], [0.5, \"#f7f7f7\"], [0.6, \"#e6f5d0\"], [0.7, \"#b8e186\"], [0.8, \"#7fbc41\"], [0.9, \"#4d9221\"], [1, \"#276419\"]], \"sequential\": [[0.0, \"#0d0887\"], [0.1111111111111111, \"#46039f\"], [0.2222222222222222, \"#7201a8\"], [0.3333333333333333, \"#9c179e\"], [0.4444444444444444, \"#bd3786\"], [0.5555555555555556, \"#d8576b\"], [0.6666666666666666, \"#ed7953\"], [0.7777777777777778, \"#fb9f3a\"], [0.8888888888888888, \"#fdca26\"], [1.0, \"#f0f921\"]], \"sequentialminus\": [[0.0, \"#0d0887\"], [0.1111111111111111, \"#46039f\"], [0.2222222222222222, \"#7201a8\"], [0.3333333333333333, \"#9c179e\"], [0.4444444444444444, \"#bd3786\"], [0.5555555555555556, \"#d8576b\"], [0.6666666666666666, \"#ed7953\"], [0.7777777777777778, \"#fb9f3a\"], [0.8888888888888888, \"#fdca26\"], [1.0, \"#f0f921\"]]}, \"colorway\": [\"#636efa\", \"#EF553B\", \"#00cc96\", \"#ab63fa\", \"#FFA15A\", \"#19d3f3\", \"#FF6692\", \"#B6E880\", \"#FF97FF\", \"#FECB52\"], \"font\": {\"color\": \"#2a3f5f\"}, \"geo\": {\"bgcolor\": \"white\", \"lakecolor\": \"white\", \"landcolor\": \"#E5ECF6\", \"showlakes\": true, \"showland\": true, \"subunitcolor\": \"white\"}, \"hoverlabel\": {\"align\": \"left\"}, \"hovermode\": \"closest\", \"mapbox\": {\"style\": \"light\"}, \"paper_bgcolor\": \"white\", \"plot_bgcolor\": \"#E5ECF6\", \"polar\": {\"angularaxis\": {\"gridcolor\": \"white\", \"linecolor\": \"white\", \"ticks\": \"\"}, \"bgcolor\": \"#E5ECF6\", \"radialaxis\": {\"gridcolor\": \"white\", \"linecolor\": \"white\", \"ticks\": \"\"}}, \"scene\": {\"xaxis\": {\"backgroundcolor\": \"#E5ECF6\", \"gridcolor\": \"white\", \"gridwidth\": 2, \"linecolor\": \"white\", \"showbackground\": true, \"ticks\": \"\", \"zerolinecolor\": \"white\"}, \"yaxis\": {\"backgroundcolor\": \"#E5ECF6\", \"gridcolor\": \"white\", \"gridwidth\": 2, \"linecolor\": \"white\", \"showbackground\": true, \"ticks\": \"\", \"zerolinecolor\": \"white\"}, \"zaxis\": {\"backgroundcolor\": \"#E5ECF6\", \"gridcolor\": \"white\", \"gridwidth\": 2, \"linecolor\": \"white\", \"showbackground\": true, \"ticks\": \"\", \"zerolinecolor\": \"white\"}}, \"shapedefaults\": {\"line\": {\"color\": \"#2a3f5f\"}}, \"ternary\": {\"aaxis\": {\"gridcolor\": \"white\", \"linecolor\": \"white\", \"ticks\": \"\"}, \"baxis\": {\"gridcolor\": \"white\", \"linecolor\": \"white\", \"ticks\": \"\"}, \"bgcolor\": \"#E5ECF6\", \"caxis\": {\"gridcolor\": \"white\", \"linecolor\": \"white\", \"ticks\": \"\"}}, \"title\": {\"x\": 0.05}, \"xaxis\": {\"automargin\": true, \"gridcolor\": \"white\", \"linecolor\": \"white\", \"ticks\": \"\", \"title\": {\"standoff\": 15}, \"zerolinecolor\": \"white\", \"zerolinewidth\": 2}, \"yaxis\": {\"automargin\": true, \"gridcolor\": \"white\", \"linecolor\": \"white\", \"ticks\": \"\", \"title\": {\"standoff\": 15}, \"zerolinecolor\": \"white\", \"zerolinewidth\": 2}}}, \"title\": {\"text\": \"Trend of Coronavirus Cases in India (Cumulative cases)\"}},\n",
              "                        {\"responsive\": true}\n",
              "                    ).then(function(){\n",
              "                            \n",
              "var gd = document.getElementById('56ce72cc-e098-407e-a318-bf84102ec6c5');\n",
              "var x = new MutationObserver(function (mutations, observer) {{\n",
              "        var display = window.getComputedStyle(gd).display;\n",
              "        if (!display || display === 'none') {{\n",
              "            console.log([gd, 'removed!']);\n",
              "            Plotly.purge(gd);\n",
              "            observer.disconnect();\n",
              "        }}\n",
              "}});\n",
              "\n",
              "// Listen for the removal of the full notebook cells\n",
              "var notebookContainer = gd.closest('#notebook-container');\n",
              "if (notebookContainer) {{\n",
              "    x.observe(notebookContainer, {childList: true});\n",
              "}}\n",
              "\n",
              "// Listen for the clearing of the current output cell\n",
              "var outputEl = gd.closest('.output');\n",
              "if (outputEl) {{\n",
              "    x.observe(outputEl, {childList: true});\n",
              "}}\n",
              "\n",
              "                        })\n",
              "                };\n",
              "                \n",
              "            </script>\n",
              "        </div>\n",
              "</body>\n",
              "</html>"
            ]
          },
          "metadata": {
            "tags": []
          }
        },
        {
          "output_type": "display_data",
          "data": {
            "text/html": [
              "<html>\n",
              "<head><meta charset=\"utf-8\" /></head>\n",
              "<body>\n",
              "    <div>\n",
              "            <script src=\"https://cdnjs.cloudflare.com/ajax/libs/mathjax/2.7.5/MathJax.js?config=TeX-AMS-MML_SVG\"></script><script type=\"text/javascript\">if (window.MathJax) {MathJax.Hub.Config({SVG: {font: \"STIX-Web\"}});}</script>\n",
              "                <script type=\"text/javascript\">window.PlotlyConfig = {MathJaxConfig: 'local'};</script>\n",
              "        <script src=\"https://cdn.plot.ly/plotly-latest.min.js\"></script>    \n",
              "            <div id=\"c7da2d7e-91d6-4359-bf73-955867a23cc3\" class=\"plotly-graph-div\" style=\"height:400px; width:100%;\"></div>\n",
              "            <script type=\"text/javascript\">\n",
              "                \n",
              "                    window.PLOTLYENV=window.PLOTLYENV || {};\n",
              "                    \n",
              "                if (document.getElementById(\"c7da2d7e-91d6-4359-bf73-955867a23cc3\")) {\n",
              "                    Plotly.newPlot(\n",
              "                        'c7da2d7e-91d6-4359-bf73-955867a23cc3',\n",
              "                        [{\"alignmentgroup\": \"True\", \"hoverlabel\": {\"namelength\": 0}, \"hovertemplate\": \"Date=%{x}<br>Daily Confirmed=%{y}\", \"legendgroup\": \"\", \"marker\": {\"color\": \"#636efa\"}, \"name\": \"\", \"offsetgroup\": \"\", \"orientation\": \"v\", \"showlegend\": false, \"textposition\": \"auto\", \"type\": \"bar\", \"x\": [\"30 January \", \"31 January \", \"01 February \", \"02 February \", \"03 February \", \"04 February \", \"05 February \", \"06 February \", \"07 February \", \"08 February \", \"09 February \", \"10 February \", \"11 February \", \"12 February \", \"13 February \", \"14 February \", \"15 February \", \"16 February \", \"17 February \", \"18 February \", \"19 February \", \"20 February \", \"21 February \", \"22 February \", \"23 February \", \"24 February \", \"25 February \", \"26 February \", \"27 February \", \"28 February \", \"29 February \", \"01 March \", \"02 March \", \"03 March \", \"04 March \", \"05 March \", \"06 March \", \"07 March \", \"08 March \", \"09 March \", \"10 March \", \"11 March \", \"12 March \", \"13 March \", \"14 March \", \"15 March \", \"16 March \", \"17 March \", \"18 March \", \"19 March \", \"20 March \", \"21 March \", \"22 March \", \"23 March \", \"24 March \", \"25 March \", \"26 March \", \"27 March \", \"28 March \", \"29 March \", \"30 March \", \"31 March \", \"01 April \", \"02 April \", \"03 April \", \"04 April \", \"05 April \", \"06 April \", \"07 April \", \"08 April \", \"09 April \", \"10 April \", \"11 April \", \"12 April \", \"13 April \", \"14 April \", \"15 April \", \"16 April \", \"17 April \", \"18 April \", \"19 April \", \"20 April \", \"21 April \", \"22 April \", \"23 April \", \"24 April \", \"25 April \", \"26 April \", \"27 April \", \"28 April \", \"29 April \", \"30 April \", \"01 May \", \"02 May \", \"03 May \", \"04 May \", \"05 May \", \"06 May \", \"07 May \", \"08 May \", \"09 May \", \"10 May \", \"11 May \", \"12 May \", \"13 May \", \"14 May \", \"15 May \", \"16 May \", \"17 May \", \"18 May \", \"19 May \", \"20 May \", \"21 May \", \"22 May \", \"23 May \", \"24 May \", \"25 May \", \"26 May \", \"27 May \", \"28 May \", \"29 May \", \"30 May \", \"31 May \", \"01 June \", \"02 June \", \"03 June \", \"04 June \", \"05 June \", \"06 June \", \"07 June \", \"08 June \", \"09 June \", \"10 June \", \"11 June \", \"12 June \", \"13 June \", \"14 June \", \"15 June \", \"16 June \", \"17 June \", \"18 June \", \"19 June \", \"20 June \", \"21 June \", \"22 June \", \"23 June \", \"24 June \", \"25 June \", \"26 June \", \"27 June \", \"28 June \", \"29 June \", \"30 June \", \"01 July \", \"02 July \", \"03 July \", \"04 July \", \"05 July \", \"06 July \", \"07 July \", \"08 July \", \"09 July \", \"10 July \", \"11 July \", \"12 July \", \"13 July \", \"14 July \", \"15 July \", \"16 July \", \"17 July \", \"18 July \", \"19 July \", \"20 July \", \"21 July \", \"22 July \", \"23 July \", \"24 July \", \"25 July \", \"26 July \", \"27 July \", \"28 July \", \"29 July \", \"30 July \", \"31 July \", \"01 August \", \"02 August \", \"03 August \", \"04 August \", \"05 August \", \"06 August \"], \"xaxis\": \"x\", \"y\": [1, 0, 0, 1, 1, 0, 0, 0, 0, 0, 0, 0, 0, 0, 0, 0, 0, 0, 0, 0, 0, 0, 0, 0, 0, 0, 0, 0, 0, 0, 0, 0, 2, 1, 22, 2, 1, 3, 5, 9, 15, 8, 10, 10, 11, 10, 14, 20, 25, 27, 58, 78, 69, 94, 74, 86, 73, 153, 136, 120, 187, 309, 424, 486, 560, 579, 609, 484, 573, 565, 813, 871, 854, 758, 1243, 1031, 886, 1061, 922, 1371, 1580, 1239, 1537, 1292, 1667, 1408, 1835, 1607, 1568, 1902, 1705, 1801, 2396, 2564, 2952, 3656, 2971, 3602, 3344, 3339, 3175, 4311, 3592, 3562, 3726, 3991, 3808, 4794, 5049, 4628, 6154, 5720, 6023, 6536, 6667, 7111, 6414, 5907, 7246, 7254, 8138, 8364, 8789, 7723, 8812, 9689, 9847, 9472, 10408, 10882, 8536, 9981, 11156, 11135, 11306, 12039, 11405, 10032, 11086, 13108, 13829, 14740, 15918, 15151, 13560, 15656, 16868, 18205, 18255, 20142, 19610, 18339, 18256, 19429, 21947, 22718, 24018, 23942, 22500, 23147, 25561, 25790, 27762, 27757, 29106, 28178, 29917, 32607, 35468, 34820, 37411, 40235, 36806, 39170, 45601, 48443, 48888, 50072, 48932, 46484, 49631, 52479, 54968, 57486, 55117, 52672, 50488, 51282, 56626, 62170], \"yaxis\": \"y\"}],\n",
              "                        {\"barmode\": \"group\", \"height\": 400, \"legend\": {\"tracegroupgap\": 0}, \"margin\": {\"t\": 60}, \"plot_bgcolor\": \"rgb(230, 230, 230)\", \"template\": {\"data\": {\"bar\": [{\"error_x\": {\"color\": \"#2a3f5f\"}, \"error_y\": {\"color\": \"#2a3f5f\"}, \"marker\": {\"line\": {\"color\": \"#E5ECF6\", \"width\": 0.5}}, \"type\": \"bar\"}], \"barpolar\": [{\"marker\": {\"line\": {\"color\": \"#E5ECF6\", \"width\": 0.5}}, \"type\": \"barpolar\"}], \"carpet\": [{\"aaxis\": {\"endlinecolor\": \"#2a3f5f\", \"gridcolor\": \"white\", \"linecolor\": \"white\", \"minorgridcolor\": \"white\", \"startlinecolor\": \"#2a3f5f\"}, \"baxis\": {\"endlinecolor\": \"#2a3f5f\", \"gridcolor\": \"white\", \"linecolor\": \"white\", \"minorgridcolor\": \"white\", \"startlinecolor\": \"#2a3f5f\"}, \"type\": \"carpet\"}], \"choropleth\": [{\"colorbar\": {\"outlinewidth\": 0, \"ticks\": \"\"}, \"type\": \"choropleth\"}], \"contour\": [{\"colorbar\": {\"outlinewidth\": 0, \"ticks\": \"\"}, \"colorscale\": [[0.0, \"#0d0887\"], [0.1111111111111111, \"#46039f\"], [0.2222222222222222, \"#7201a8\"], [0.3333333333333333, \"#9c179e\"], [0.4444444444444444, \"#bd3786\"], [0.5555555555555556, \"#d8576b\"], [0.6666666666666666, \"#ed7953\"], [0.7777777777777778, \"#fb9f3a\"], [0.8888888888888888, \"#fdca26\"], [1.0, \"#f0f921\"]], \"type\": \"contour\"}], \"contourcarpet\": [{\"colorbar\": {\"outlinewidth\": 0, \"ticks\": \"\"}, \"type\": \"contourcarpet\"}], \"heatmap\": [{\"colorbar\": {\"outlinewidth\": 0, \"ticks\": \"\"}, \"colorscale\": [[0.0, \"#0d0887\"], [0.1111111111111111, \"#46039f\"], [0.2222222222222222, \"#7201a8\"], [0.3333333333333333, \"#9c179e\"], [0.4444444444444444, \"#bd3786\"], [0.5555555555555556, \"#d8576b\"], [0.6666666666666666, \"#ed7953\"], [0.7777777777777778, \"#fb9f3a\"], [0.8888888888888888, \"#fdca26\"], [1.0, \"#f0f921\"]], \"type\": \"heatmap\"}], \"heatmapgl\": [{\"colorbar\": {\"outlinewidth\": 0, \"ticks\": \"\"}, \"colorscale\": [[0.0, \"#0d0887\"], [0.1111111111111111, \"#46039f\"], [0.2222222222222222, \"#7201a8\"], [0.3333333333333333, \"#9c179e\"], [0.4444444444444444, \"#bd3786\"], [0.5555555555555556, \"#d8576b\"], [0.6666666666666666, \"#ed7953\"], [0.7777777777777778, \"#fb9f3a\"], [0.8888888888888888, \"#fdca26\"], [1.0, \"#f0f921\"]], \"type\": \"heatmapgl\"}], \"histogram\": [{\"marker\": {\"colorbar\": {\"outlinewidth\": 0, \"ticks\": \"\"}}, \"type\": \"histogram\"}], \"histogram2d\": [{\"colorbar\": {\"outlinewidth\": 0, \"ticks\": \"\"}, \"colorscale\": [[0.0, \"#0d0887\"], [0.1111111111111111, \"#46039f\"], [0.2222222222222222, \"#7201a8\"], [0.3333333333333333, \"#9c179e\"], [0.4444444444444444, \"#bd3786\"], [0.5555555555555556, \"#d8576b\"], [0.6666666666666666, \"#ed7953\"], [0.7777777777777778, \"#fb9f3a\"], [0.8888888888888888, \"#fdca26\"], [1.0, \"#f0f921\"]], \"type\": \"histogram2d\"}], \"histogram2dcontour\": [{\"colorbar\": {\"outlinewidth\": 0, \"ticks\": \"\"}, \"colorscale\": [[0.0, \"#0d0887\"], [0.1111111111111111, \"#46039f\"], [0.2222222222222222, \"#7201a8\"], [0.3333333333333333, \"#9c179e\"], [0.4444444444444444, \"#bd3786\"], [0.5555555555555556, \"#d8576b\"], [0.6666666666666666, \"#ed7953\"], [0.7777777777777778, \"#fb9f3a\"], [0.8888888888888888, \"#fdca26\"], [1.0, \"#f0f921\"]], \"type\": \"histogram2dcontour\"}], \"mesh3d\": [{\"colorbar\": {\"outlinewidth\": 0, \"ticks\": \"\"}, \"type\": \"mesh3d\"}], \"parcoords\": [{\"line\": {\"colorbar\": {\"outlinewidth\": 0, \"ticks\": \"\"}}, \"type\": \"parcoords\"}], \"pie\": [{\"automargin\": true, \"type\": \"pie\"}], \"scatter\": [{\"marker\": {\"colorbar\": {\"outlinewidth\": 0, \"ticks\": \"\"}}, \"type\": \"scatter\"}], \"scatter3d\": [{\"line\": {\"colorbar\": {\"outlinewidth\": 0, \"ticks\": \"\"}}, \"marker\": {\"colorbar\": {\"outlinewidth\": 0, \"ticks\": \"\"}}, \"type\": \"scatter3d\"}], \"scattercarpet\": [{\"marker\": {\"colorbar\": {\"outlinewidth\": 0, \"ticks\": \"\"}}, \"type\": \"scattercarpet\"}], \"scattergeo\": [{\"marker\": {\"colorbar\": {\"outlinewidth\": 0, \"ticks\": \"\"}}, \"type\": \"scattergeo\"}], \"scattergl\": [{\"marker\": {\"colorbar\": {\"outlinewidth\": 0, \"ticks\": \"\"}}, \"type\": \"scattergl\"}], \"scattermapbox\": [{\"marker\": {\"colorbar\": {\"outlinewidth\": 0, \"ticks\": \"\"}}, \"type\": \"scattermapbox\"}], \"scatterpolar\": [{\"marker\": {\"colorbar\": {\"outlinewidth\": 0, \"ticks\": \"\"}}, \"type\": \"scatterpolar\"}], \"scatterpolargl\": [{\"marker\": {\"colorbar\": {\"outlinewidth\": 0, \"ticks\": \"\"}}, \"type\": \"scatterpolargl\"}], \"scatterternary\": [{\"marker\": {\"colorbar\": {\"outlinewidth\": 0, \"ticks\": \"\"}}, \"type\": \"scatterternary\"}], \"surface\": [{\"colorbar\": {\"outlinewidth\": 0, \"ticks\": \"\"}, \"colorscale\": [[0.0, \"#0d0887\"], [0.1111111111111111, \"#46039f\"], [0.2222222222222222, \"#7201a8\"], [0.3333333333333333, \"#9c179e\"], [0.4444444444444444, \"#bd3786\"], [0.5555555555555556, \"#d8576b\"], [0.6666666666666666, \"#ed7953\"], [0.7777777777777778, \"#fb9f3a\"], [0.8888888888888888, \"#fdca26\"], [1.0, \"#f0f921\"]], \"type\": \"surface\"}], \"table\": [{\"cells\": {\"fill\": {\"color\": \"#EBF0F8\"}, \"line\": {\"color\": \"white\"}}, \"header\": {\"fill\": {\"color\": \"#C8D4E3\"}, \"line\": {\"color\": \"white\"}}, \"type\": \"table\"}]}, \"layout\": {\"annotationdefaults\": {\"arrowcolor\": \"#2a3f5f\", \"arrowhead\": 0, \"arrowwidth\": 1}, \"coloraxis\": {\"colorbar\": {\"outlinewidth\": 0, \"ticks\": \"\"}}, \"colorscale\": {\"diverging\": [[0, \"#8e0152\"], [0.1, \"#c51b7d\"], [0.2, \"#de77ae\"], [0.3, \"#f1b6da\"], [0.4, \"#fde0ef\"], [0.5, \"#f7f7f7\"], [0.6, \"#e6f5d0\"], [0.7, \"#b8e186\"], [0.8, \"#7fbc41\"], [0.9, \"#4d9221\"], [1, \"#276419\"]], \"sequential\": [[0.0, \"#0d0887\"], [0.1111111111111111, \"#46039f\"], [0.2222222222222222, \"#7201a8\"], [0.3333333333333333, \"#9c179e\"], [0.4444444444444444, \"#bd3786\"], [0.5555555555555556, \"#d8576b\"], [0.6666666666666666, \"#ed7953\"], [0.7777777777777778, \"#fb9f3a\"], [0.8888888888888888, \"#fdca26\"], [1.0, \"#f0f921\"]], \"sequentialminus\": [[0.0, \"#0d0887\"], [0.1111111111111111, \"#46039f\"], [0.2222222222222222, \"#7201a8\"], [0.3333333333333333, \"#9c179e\"], [0.4444444444444444, \"#bd3786\"], [0.5555555555555556, \"#d8576b\"], [0.6666666666666666, \"#ed7953\"], [0.7777777777777778, \"#fb9f3a\"], [0.8888888888888888, \"#fdca26\"], [1.0, \"#f0f921\"]]}, \"colorway\": [\"#636efa\", \"#EF553B\", \"#00cc96\", \"#ab63fa\", \"#FFA15A\", \"#19d3f3\", \"#FF6692\", \"#B6E880\", \"#FF97FF\", \"#FECB52\"], \"font\": {\"color\": \"#2a3f5f\"}, \"geo\": {\"bgcolor\": \"white\", \"lakecolor\": \"white\", \"landcolor\": \"#E5ECF6\", \"showlakes\": true, \"showland\": true, \"subunitcolor\": \"white\"}, \"hoverlabel\": {\"align\": \"left\"}, \"hovermode\": \"closest\", \"mapbox\": {\"style\": \"light\"}, \"paper_bgcolor\": \"white\", \"plot_bgcolor\": \"#E5ECF6\", \"polar\": {\"angularaxis\": {\"gridcolor\": \"white\", \"linecolor\": \"white\", \"ticks\": \"\"}, \"bgcolor\": \"#E5ECF6\", \"radialaxis\": {\"gridcolor\": \"white\", \"linecolor\": \"white\", \"ticks\": \"\"}}, \"scene\": {\"xaxis\": {\"backgroundcolor\": \"#E5ECF6\", \"gridcolor\": \"white\", \"gridwidth\": 2, \"linecolor\": \"white\", \"showbackground\": true, \"ticks\": \"\", \"zerolinecolor\": \"white\"}, \"yaxis\": {\"backgroundcolor\": \"#E5ECF6\", \"gridcolor\": \"white\", \"gridwidth\": 2, \"linecolor\": \"white\", \"showbackground\": true, \"ticks\": \"\", \"zerolinecolor\": \"white\"}, \"zaxis\": {\"backgroundcolor\": \"#E5ECF6\", \"gridcolor\": \"white\", \"gridwidth\": 2, \"linecolor\": \"white\", \"showbackground\": true, \"ticks\": \"\", \"zerolinecolor\": \"white\"}}, \"shapedefaults\": {\"line\": {\"color\": \"#2a3f5f\"}}, \"ternary\": {\"aaxis\": {\"gridcolor\": \"white\", \"linecolor\": \"white\", \"ticks\": \"\"}, \"baxis\": {\"gridcolor\": \"white\", \"linecolor\": \"white\", \"ticks\": \"\"}, \"bgcolor\": \"#E5ECF6\", \"caxis\": {\"gridcolor\": \"white\", \"linecolor\": \"white\", \"ticks\": \"\"}}, \"title\": {\"x\": 0.05}, \"xaxis\": {\"automargin\": true, \"gridcolor\": \"white\", \"linecolor\": \"white\", \"ticks\": \"\", \"title\": {\"standoff\": 15}, \"zerolinecolor\": \"white\", \"zerolinewidth\": 2}, \"yaxis\": {\"automargin\": true, \"gridcolor\": \"white\", \"linecolor\": \"white\", \"ticks\": \"\", \"title\": {\"standoff\": 15}, \"zerolinecolor\": \"white\", \"zerolinewidth\": 2}}}, \"title\": {\"text\": \"Coronavirus Cases in India on daily basis\"}, \"xaxis\": {\"anchor\": \"y\", \"domain\": [0.0, 1.0], \"title\": {\"text\": \"Date\"}}, \"yaxis\": {\"anchor\": \"x\", \"domain\": [0.0, 1.0], \"title\": {\"text\": \"Daily Confirmed\"}}},\n",
              "                        {\"responsive\": true}\n",
              "                    ).then(function(){\n",
              "                            \n",
              "var gd = document.getElementById('c7da2d7e-91d6-4359-bf73-955867a23cc3');\n",
              "var x = new MutationObserver(function (mutations, observer) {{\n",
              "        var display = window.getComputedStyle(gd).display;\n",
              "        if (!display || display === 'none') {{\n",
              "            console.log([gd, 'removed!']);\n",
              "            Plotly.purge(gd);\n",
              "            observer.disconnect();\n",
              "        }}\n",
              "}});\n",
              "\n",
              "// Listen for the removal of the full notebook cells\n",
              "var notebookContainer = gd.closest('#notebook-container');\n",
              "if (notebookContainer) {{\n",
              "    x.observe(notebookContainer, {childList: true});\n",
              "}}\n",
              "\n",
              "// Listen for the clearing of the current output cell\n",
              "var outputEl = gd.closest('.output');\n",
              "if (outputEl) {{\n",
              "    x.observe(outputEl, {childList: true});\n",
              "}}\n",
              "\n",
              "                        })\n",
              "                };\n",
              "                \n",
              "            </script>\n",
              "        </div>\n",
              "</body>\n",
              "</html>"
            ]
          },
          "metadata": {
            "tags": []
          }
        }
      ]
    },
    {
      "cell_type": "markdown",
      "metadata": {
        "id": "7auHzQ1edhFV"
      },
      "source": [
        "# Comparing the trend in India to the World\n"
      ]
    },
    {
      "cell_type": "code",
      "metadata": {
        "id": "Ez4wNLWZlZw1",
        "outputId": "9b497ecb-27e5-44be-8e83-77bf42e2470a",
        "colab": {
          "base_uri": "https://localhost:8080/",
          "height": 323
        }
      },
      "source": [
        "dbd_World = pd.read_csv('day_wise.csv')\n",
        "dbd_World.head()"
      ],
      "execution_count": 54,
      "outputs": [
        {
          "output_type": "execute_result",
          "data": {
            "text/html": [
              "<div>\n",
              "<style scoped>\n",
              "    .dataframe tbody tr th:only-of-type {\n",
              "        vertical-align: middle;\n",
              "    }\n",
              "\n",
              "    .dataframe tbody tr th {\n",
              "        vertical-align: top;\n",
              "    }\n",
              "\n",
              "    .dataframe thead th {\n",
              "        text-align: right;\n",
              "    }\n",
              "</style>\n",
              "<table border=\"1\" class=\"dataframe\">\n",
              "  <thead>\n",
              "    <tr style=\"text-align: right;\">\n",
              "      <th></th>\n",
              "      <th>Date</th>\n",
              "      <th>Confirmed</th>\n",
              "      <th>Deaths</th>\n",
              "      <th>Recovered</th>\n",
              "      <th>Active</th>\n",
              "      <th>New cases</th>\n",
              "      <th>New deaths</th>\n",
              "      <th>New recovered</th>\n",
              "      <th>Deaths / 100 Cases</th>\n",
              "      <th>Recovered / 100 Cases</th>\n",
              "      <th>Deaths / 100 Recovered</th>\n",
              "      <th>No. of countries</th>\n",
              "    </tr>\n",
              "  </thead>\n",
              "  <tbody>\n",
              "    <tr>\n",
              "      <th>0</th>\n",
              "      <td>2020-01-22</td>\n",
              "      <td>555</td>\n",
              "      <td>17</td>\n",
              "      <td>28</td>\n",
              "      <td>510</td>\n",
              "      <td>0</td>\n",
              "      <td>0</td>\n",
              "      <td>0</td>\n",
              "      <td>3.06</td>\n",
              "      <td>5.05</td>\n",
              "      <td>60.71</td>\n",
              "      <td>6</td>\n",
              "    </tr>\n",
              "    <tr>\n",
              "      <th>1</th>\n",
              "      <td>2020-01-23</td>\n",
              "      <td>654</td>\n",
              "      <td>18</td>\n",
              "      <td>30</td>\n",
              "      <td>606</td>\n",
              "      <td>99</td>\n",
              "      <td>1</td>\n",
              "      <td>2</td>\n",
              "      <td>2.75</td>\n",
              "      <td>4.59</td>\n",
              "      <td>60.00</td>\n",
              "      <td>8</td>\n",
              "    </tr>\n",
              "    <tr>\n",
              "      <th>2</th>\n",
              "      <td>2020-01-24</td>\n",
              "      <td>941</td>\n",
              "      <td>26</td>\n",
              "      <td>36</td>\n",
              "      <td>879</td>\n",
              "      <td>287</td>\n",
              "      <td>8</td>\n",
              "      <td>6</td>\n",
              "      <td>2.76</td>\n",
              "      <td>3.83</td>\n",
              "      <td>72.22</td>\n",
              "      <td>9</td>\n",
              "    </tr>\n",
              "    <tr>\n",
              "      <th>3</th>\n",
              "      <td>2020-01-25</td>\n",
              "      <td>1434</td>\n",
              "      <td>42</td>\n",
              "      <td>39</td>\n",
              "      <td>1353</td>\n",
              "      <td>493</td>\n",
              "      <td>16</td>\n",
              "      <td>3</td>\n",
              "      <td>2.93</td>\n",
              "      <td>2.72</td>\n",
              "      <td>107.69</td>\n",
              "      <td>11</td>\n",
              "    </tr>\n",
              "    <tr>\n",
              "      <th>4</th>\n",
              "      <td>2020-01-26</td>\n",
              "      <td>2118</td>\n",
              "      <td>56</td>\n",
              "      <td>52</td>\n",
              "      <td>2010</td>\n",
              "      <td>684</td>\n",
              "      <td>14</td>\n",
              "      <td>13</td>\n",
              "      <td>2.64</td>\n",
              "      <td>2.46</td>\n",
              "      <td>107.69</td>\n",
              "      <td>13</td>\n",
              "    </tr>\n",
              "  </tbody>\n",
              "</table>\n",
              "</div>"
            ],
            "text/plain": [
              "         Date  Confirmed  ...  Deaths / 100 Recovered  No. of countries\n",
              "0  2020-01-22        555  ...                   60.71                 6\n",
              "1  2020-01-23        654  ...                   60.00                 8\n",
              "2  2020-01-24        941  ...                   72.22                 9\n",
              "3  2020-01-25       1434  ...                  107.69                11\n",
              "4  2020-01-26       2118  ...                  107.69                13\n",
              "\n",
              "[5 rows x 12 columns]"
            ]
          },
          "metadata": {
            "tags": []
          },
          "execution_count": 54
        }
      ]
    },
    {
      "cell_type": "code",
      "metadata": {
        "id": "bo73mGqgmEmQ",
        "outputId": "cb325fbb-3e75-43c5-cc8b-0da016be5daa",
        "colab": {
          "base_uri": "https://localhost:8080/",
          "height": 323
        }
      },
      "source": [
        "#changing the date format\n",
        "dbd_World['Date'] = pd.to_datetime(dbd_World.Date)\n",
        "dbd_World['Date'] = dbd_World['Date'].dt.strftime('%d %B')\n",
        "dbd_World.head()"
      ],
      "execution_count": 59,
      "outputs": [
        {
          "output_type": "execute_result",
          "data": {
            "text/html": [
              "<div>\n",
              "<style scoped>\n",
              "    .dataframe tbody tr th:only-of-type {\n",
              "        vertical-align: middle;\n",
              "    }\n",
              "\n",
              "    .dataframe tbody tr th {\n",
              "        vertical-align: top;\n",
              "    }\n",
              "\n",
              "    .dataframe thead th {\n",
              "        text-align: right;\n",
              "    }\n",
              "</style>\n",
              "<table border=\"1\" class=\"dataframe\">\n",
              "  <thead>\n",
              "    <tr style=\"text-align: right;\">\n",
              "      <th></th>\n",
              "      <th>Date</th>\n",
              "      <th>Confirmed</th>\n",
              "      <th>Deaths</th>\n",
              "      <th>Recovered</th>\n",
              "      <th>Active</th>\n",
              "      <th>New cases</th>\n",
              "      <th>New deaths</th>\n",
              "      <th>New recovered</th>\n",
              "      <th>Deaths / 100 Cases</th>\n",
              "      <th>Recovered / 100 Cases</th>\n",
              "      <th>Deaths / 100 Recovered</th>\n",
              "      <th>No. of countries</th>\n",
              "    </tr>\n",
              "  </thead>\n",
              "  <tbody>\n",
              "    <tr>\n",
              "      <th>0</th>\n",
              "      <td>22 January</td>\n",
              "      <td>555</td>\n",
              "      <td>17</td>\n",
              "      <td>28</td>\n",
              "      <td>510</td>\n",
              "      <td>0</td>\n",
              "      <td>0</td>\n",
              "      <td>0</td>\n",
              "      <td>3.06</td>\n",
              "      <td>5.05</td>\n",
              "      <td>60.71</td>\n",
              "      <td>6</td>\n",
              "    </tr>\n",
              "    <tr>\n",
              "      <th>1</th>\n",
              "      <td>23 January</td>\n",
              "      <td>654</td>\n",
              "      <td>18</td>\n",
              "      <td>30</td>\n",
              "      <td>606</td>\n",
              "      <td>99</td>\n",
              "      <td>1</td>\n",
              "      <td>2</td>\n",
              "      <td>2.75</td>\n",
              "      <td>4.59</td>\n",
              "      <td>60.00</td>\n",
              "      <td>8</td>\n",
              "    </tr>\n",
              "    <tr>\n",
              "      <th>2</th>\n",
              "      <td>24 January</td>\n",
              "      <td>941</td>\n",
              "      <td>26</td>\n",
              "      <td>36</td>\n",
              "      <td>879</td>\n",
              "      <td>287</td>\n",
              "      <td>8</td>\n",
              "      <td>6</td>\n",
              "      <td>2.76</td>\n",
              "      <td>3.83</td>\n",
              "      <td>72.22</td>\n",
              "      <td>9</td>\n",
              "    </tr>\n",
              "    <tr>\n",
              "      <th>3</th>\n",
              "      <td>25 January</td>\n",
              "      <td>1434</td>\n",
              "      <td>42</td>\n",
              "      <td>39</td>\n",
              "      <td>1353</td>\n",
              "      <td>493</td>\n",
              "      <td>16</td>\n",
              "      <td>3</td>\n",
              "      <td>2.93</td>\n",
              "      <td>2.72</td>\n",
              "      <td>107.69</td>\n",
              "      <td>11</td>\n",
              "    </tr>\n",
              "    <tr>\n",
              "      <th>4</th>\n",
              "      <td>26 January</td>\n",
              "      <td>2118</td>\n",
              "      <td>56</td>\n",
              "      <td>52</td>\n",
              "      <td>2010</td>\n",
              "      <td>684</td>\n",
              "      <td>14</td>\n",
              "      <td>13</td>\n",
              "      <td>2.64</td>\n",
              "      <td>2.46</td>\n",
              "      <td>107.69</td>\n",
              "      <td>13</td>\n",
              "    </tr>\n",
              "  </tbody>\n",
              "</table>\n",
              "</div>"
            ],
            "text/plain": [
              "         Date  Confirmed  ...  Deaths / 100 Recovered  No. of countries\n",
              "0  22 January        555  ...                   60.71                 6\n",
              "1  23 January        654  ...                   60.00                 8\n",
              "2  24 January        941  ...                   72.22                 9\n",
              "3  25 January       1434  ...                  107.69                11\n",
              "4  26 January       2118  ...                  107.69                13\n",
              "\n",
              "[5 rows x 12 columns]"
            ]
          },
          "metadata": {
            "tags": []
          },
          "execution_count": 59
        }
      ]
    },
    {
      "cell_type": "code",
      "metadata": {
        "_kg_hide-input": true,
        "_kg_hide-output": false,
        "id": "EhWz417_dhFk",
        "outputId": "e5eb6d6f-b829-4846-8a30-1d15f001985b",
        "colab": {
          "base_uri": "https://localhost:8080/",
          "height": 1000
        }
      },
      "source": [
        "# import plotly.express as px\n",
        "# Comparing the growth of cases in India to the World\n",
        "fig = px.bar(dbd_India, x=\"Date\", y=\"Total Confirmed\", color = 'Total Confirmed', orientation='v', height=900,\n",
        "             title='Confirmed Cases in India', color_discrete_sequence = px.colors.cyclical.IceFire)\n",
        "fig.update_layout(plot_bgcolor='rgb(230, 230, 230)')\n",
        "fig.show()\n",
        "\n",
        "\n",
        "fig = px.bar(dbd_World, x=\"Date\", y=\"Confirmed\", color='Confirmed', orientation='v', height=600,\n",
        "             title='Confirmed Cases in the World', color_discrete_sequence = px.colors.cyclical.IceFire)\n",
        "fig.update_layout(plot_bgcolor='rgb(230, 230, 230)')\n",
        "fig.show()\n"
      ],
      "execution_count": 62,
      "outputs": [
        {
          "output_type": "display_data",
          "data": {
            "text/html": [
              "<html>\n",
              "<head><meta charset=\"utf-8\" /></head>\n",
              "<body>\n",
              "    <div>\n",
              "            <script src=\"https://cdnjs.cloudflare.com/ajax/libs/mathjax/2.7.5/MathJax.js?config=TeX-AMS-MML_SVG\"></script><script type=\"text/javascript\">if (window.MathJax) {MathJax.Hub.Config({SVG: {font: \"STIX-Web\"}});}</script>\n",
              "                <script type=\"text/javascript\">window.PlotlyConfig = {MathJaxConfig: 'local'};</script>\n",
              "        <script src=\"https://cdn.plot.ly/plotly-latest.min.js\"></script>    \n",
              "            <div id=\"acae040b-5455-4654-a1c0-ff824d42987e\" class=\"plotly-graph-div\" style=\"height:900px; width:100%;\"></div>\n",
              "            <script type=\"text/javascript\">\n",
              "                \n",
              "                    window.PLOTLYENV=window.PLOTLYENV || {};\n",
              "                    \n",
              "                if (document.getElementById(\"acae040b-5455-4654-a1c0-ff824d42987e\")) {\n",
              "                    Plotly.newPlot(\n",
              "                        'acae040b-5455-4654-a1c0-ff824d42987e',\n",
              "                        [{\"alignmentgroup\": \"True\", \"hoverlabel\": {\"namelength\": 0}, \"hovertemplate\": \"Date=%{x}<br>Total Confirmed=%{marker.color}\", \"legendgroup\": \"\", \"marker\": {\"color\": [1, 1, 1, 2, 3, 3, 3, 3, 3, 3, 3, 3, 3, 3, 3, 3, 3, 3, 3, 3, 3, 3, 3, 3, 3, 3, 3, 3, 3, 3, 3, 3, 5, 6, 28, 30, 31, 34, 39, 48, 63, 71, 81, 91, 102, 112, 126, 146, 171, 198, 256, 334, 403, 497, 571, 657, 730, 883, 1019, 1139, 1326, 1635, 2059, 2545, 3105, 3684, 4293, 4777, 5350, 5915, 6728, 7599, 8453, 9211, 10454, 11485, 12371, 13432, 14354, 15725, 17305, 18544, 20081, 21373, 23040, 24448, 26283, 27890, 29458, 31360, 33065, 34866, 37262, 39826, 42778, 46434, 49405, 53007, 56351, 59690, 62865, 67176, 70768, 74330, 78056, 82047, 85855, 90649, 95698, 100326, 106480, 112200, 118223, 124759, 131424, 138537, 144951, 150858, 158104, 165358, 173496, 181860, 190649, 198372, 207187, 216876, 226723, 236195, 246603, 257485, 266021, 276002, 287158, 298293, 309599, 321638, 333043, 343075, 354161, 367269, 381098, 395838, 411753, 426904, 440464, 456120, 472988, 491193, 509448, 529590, 549200, 567539, 585795, 605224, 627171, 649889, 673907, 697849, 720349, 743496, 769057, 794847, 822609, 850366, 879472, 907650, 937567, 970174, 1005642, 1040462, 1077873, 1118108, 1154914, 1194084, 1239685, 1288128, 1337016, 1387088, 1436020, 1482504, 1532135, 1584614, 1639582, 1697068, 1752185, 1804857, 1855345, 1906627, 1963253, 2025423], \"coloraxis\": \"coloraxis\"}, \"name\": \"\", \"offsetgroup\": \"\", \"orientation\": \"v\", \"showlegend\": false, \"textposition\": \"auto\", \"type\": \"bar\", \"x\": [\"30 January \", \"31 January \", \"01 February \", \"02 February \", \"03 February \", \"04 February \", \"05 February \", \"06 February \", \"07 February \", \"08 February \", \"09 February \", \"10 February \", \"11 February \", \"12 February \", \"13 February \", \"14 February \", \"15 February \", \"16 February \", \"17 February \", \"18 February \", \"19 February \", \"20 February \", \"21 February \", \"22 February \", \"23 February \", \"24 February \", \"25 February \", \"26 February \", \"27 February \", \"28 February \", \"29 February \", \"01 March \", \"02 March \", \"03 March \", \"04 March \", \"05 March \", \"06 March \", \"07 March \", \"08 March \", \"09 March \", \"10 March \", \"11 March \", \"12 March \", \"13 March \", \"14 March \", \"15 March \", \"16 March \", \"17 March \", \"18 March \", \"19 March \", \"20 March \", \"21 March \", \"22 March \", \"23 March \", \"24 March \", \"25 March \", \"26 March \", \"27 March \", \"28 March \", \"29 March \", \"30 March \", \"31 March \", \"01 April \", \"02 April \", \"03 April \", \"04 April \", \"05 April \", \"06 April \", \"07 April \", \"08 April \", \"09 April \", \"10 April \", \"11 April \", \"12 April \", \"13 April \", \"14 April \", \"15 April \", \"16 April \", \"17 April \", \"18 April \", \"19 April \", \"20 April \", \"21 April \", \"22 April \", \"23 April \", \"24 April \", \"25 April \", \"26 April \", \"27 April \", \"28 April \", \"29 April \", \"30 April \", \"01 May \", \"02 May \", \"03 May \", \"04 May \", \"05 May \", \"06 May \", \"07 May \", \"08 May \", \"09 May \", \"10 May \", \"11 May \", \"12 May \", \"13 May \", \"14 May \", \"15 May \", \"16 May \", \"17 May \", \"18 May \", \"19 May \", \"20 May \", \"21 May \", \"22 May \", \"23 May \", \"24 May \", \"25 May \", \"26 May \", \"27 May \", \"28 May \", \"29 May \", \"30 May \", \"31 May \", \"01 June \", \"02 June \", \"03 June \", \"04 June \", \"05 June \", \"06 June \", \"07 June \", \"08 June \", \"09 June \", \"10 June \", \"11 June \", \"12 June \", \"13 June \", \"14 June \", \"15 June \", \"16 June \", \"17 June \", \"18 June \", \"19 June \", \"20 June \", \"21 June \", \"22 June \", \"23 June \", \"24 June \", \"25 June \", \"26 June \", \"27 June \", \"28 June \", \"29 June \", \"30 June \", \"01 July \", \"02 July \", \"03 July \", \"04 July \", \"05 July \", \"06 July \", \"07 July \", \"08 July \", \"09 July \", \"10 July \", \"11 July \", \"12 July \", \"13 July \", \"14 July \", \"15 July \", \"16 July \", \"17 July \", \"18 July \", \"19 July \", \"20 July \", \"21 July \", \"22 July \", \"23 July \", \"24 July \", \"25 July \", \"26 July \", \"27 July \", \"28 July \", \"29 July \", \"30 July \", \"31 July \", \"01 August \", \"02 August \", \"03 August \", \"04 August \", \"05 August \", \"06 August \"], \"xaxis\": \"x\", \"y\": [1, 1, 1, 2, 3, 3, 3, 3, 3, 3, 3, 3, 3, 3, 3, 3, 3, 3, 3, 3, 3, 3, 3, 3, 3, 3, 3, 3, 3, 3, 3, 3, 5, 6, 28, 30, 31, 34, 39, 48, 63, 71, 81, 91, 102, 112, 126, 146, 171, 198, 256, 334, 403, 497, 571, 657, 730, 883, 1019, 1139, 1326, 1635, 2059, 2545, 3105, 3684, 4293, 4777, 5350, 5915, 6728, 7599, 8453, 9211, 10454, 11485, 12371, 13432, 14354, 15725, 17305, 18544, 20081, 21373, 23040, 24448, 26283, 27890, 29458, 31360, 33065, 34866, 37262, 39826, 42778, 46434, 49405, 53007, 56351, 59690, 62865, 67176, 70768, 74330, 78056, 82047, 85855, 90649, 95698, 100326, 106480, 112200, 118223, 124759, 131424, 138537, 144951, 150858, 158104, 165358, 173496, 181860, 190649, 198372, 207187, 216876, 226723, 236195, 246603, 257485, 266021, 276002, 287158, 298293, 309599, 321638, 333043, 343075, 354161, 367269, 381098, 395838, 411753, 426904, 440464, 456120, 472988, 491193, 509448, 529590, 549200, 567539, 585795, 605224, 627171, 649889, 673907, 697849, 720349, 743496, 769057, 794847, 822609, 850366, 879472, 907650, 937567, 970174, 1005642, 1040462, 1077873, 1118108, 1154914, 1194084, 1239685, 1288128, 1337016, 1387088, 1436020, 1482504, 1532135, 1584614, 1639582, 1697068, 1752185, 1804857, 1855345, 1906627, 1963253, 2025423], \"yaxis\": \"y\"}],\n",
              "                        {\"barmode\": \"relative\", \"coloraxis\": {\"colorbar\": {\"title\": {\"text\": \"Total Confirmed\"}}, \"colorscale\": [[0.0, \"#0d0887\"], [0.1111111111111111, \"#46039f\"], [0.2222222222222222, \"#7201a8\"], [0.3333333333333333, \"#9c179e\"], [0.4444444444444444, \"#bd3786\"], [0.5555555555555556, \"#d8576b\"], [0.6666666666666666, \"#ed7953\"], [0.7777777777777778, \"#fb9f3a\"], [0.8888888888888888, \"#fdca26\"], [1.0, \"#f0f921\"]]}, \"height\": 900, \"legend\": {\"tracegroupgap\": 0}, \"plot_bgcolor\": \"rgb(230, 230, 230)\", \"template\": {\"data\": {\"bar\": [{\"error_x\": {\"color\": \"#2a3f5f\"}, \"error_y\": {\"color\": \"#2a3f5f\"}, \"marker\": {\"line\": {\"color\": \"#E5ECF6\", \"width\": 0.5}}, \"type\": \"bar\"}], \"barpolar\": [{\"marker\": {\"line\": {\"color\": \"#E5ECF6\", \"width\": 0.5}}, \"type\": \"barpolar\"}], \"carpet\": [{\"aaxis\": {\"endlinecolor\": \"#2a3f5f\", \"gridcolor\": \"white\", \"linecolor\": \"white\", \"minorgridcolor\": \"white\", \"startlinecolor\": \"#2a3f5f\"}, \"baxis\": {\"endlinecolor\": \"#2a3f5f\", \"gridcolor\": \"white\", \"linecolor\": \"white\", \"minorgridcolor\": \"white\", \"startlinecolor\": \"#2a3f5f\"}, \"type\": \"carpet\"}], \"choropleth\": [{\"colorbar\": {\"outlinewidth\": 0, \"ticks\": \"\"}, \"type\": \"choropleth\"}], \"contour\": [{\"colorbar\": {\"outlinewidth\": 0, \"ticks\": \"\"}, \"colorscale\": [[0.0, \"#0d0887\"], [0.1111111111111111, \"#46039f\"], [0.2222222222222222, \"#7201a8\"], [0.3333333333333333, \"#9c179e\"], [0.4444444444444444, \"#bd3786\"], [0.5555555555555556, \"#d8576b\"], [0.6666666666666666, \"#ed7953\"], [0.7777777777777778, \"#fb9f3a\"], [0.8888888888888888, \"#fdca26\"], [1.0, \"#f0f921\"]], \"type\": \"contour\"}], \"contourcarpet\": [{\"colorbar\": {\"outlinewidth\": 0, \"ticks\": \"\"}, \"type\": \"contourcarpet\"}], \"heatmap\": [{\"colorbar\": {\"outlinewidth\": 0, \"ticks\": \"\"}, \"colorscale\": [[0.0, \"#0d0887\"], [0.1111111111111111, \"#46039f\"], [0.2222222222222222, \"#7201a8\"], [0.3333333333333333, \"#9c179e\"], [0.4444444444444444, \"#bd3786\"], [0.5555555555555556, \"#d8576b\"], [0.6666666666666666, \"#ed7953\"], [0.7777777777777778, \"#fb9f3a\"], [0.8888888888888888, \"#fdca26\"], [1.0, \"#f0f921\"]], \"type\": \"heatmap\"}], \"heatmapgl\": [{\"colorbar\": {\"outlinewidth\": 0, \"ticks\": \"\"}, \"colorscale\": [[0.0, \"#0d0887\"], [0.1111111111111111, \"#46039f\"], [0.2222222222222222, \"#7201a8\"], [0.3333333333333333, \"#9c179e\"], [0.4444444444444444, \"#bd3786\"], [0.5555555555555556, \"#d8576b\"], [0.6666666666666666, \"#ed7953\"], [0.7777777777777778, \"#fb9f3a\"], [0.8888888888888888, \"#fdca26\"], [1.0, \"#f0f921\"]], \"type\": \"heatmapgl\"}], \"histogram\": [{\"marker\": {\"colorbar\": {\"outlinewidth\": 0, \"ticks\": \"\"}}, \"type\": \"histogram\"}], \"histogram2d\": [{\"colorbar\": {\"outlinewidth\": 0, \"ticks\": \"\"}, \"colorscale\": [[0.0, \"#0d0887\"], [0.1111111111111111, \"#46039f\"], [0.2222222222222222, \"#7201a8\"], [0.3333333333333333, \"#9c179e\"], [0.4444444444444444, \"#bd3786\"], [0.5555555555555556, \"#d8576b\"], [0.6666666666666666, \"#ed7953\"], [0.7777777777777778, \"#fb9f3a\"], [0.8888888888888888, \"#fdca26\"], [1.0, \"#f0f921\"]], \"type\": \"histogram2d\"}], \"histogram2dcontour\": [{\"colorbar\": {\"outlinewidth\": 0, \"ticks\": \"\"}, \"colorscale\": [[0.0, \"#0d0887\"], [0.1111111111111111, \"#46039f\"], [0.2222222222222222, \"#7201a8\"], [0.3333333333333333, \"#9c179e\"], [0.4444444444444444, \"#bd3786\"], [0.5555555555555556, \"#d8576b\"], [0.6666666666666666, \"#ed7953\"], [0.7777777777777778, \"#fb9f3a\"], [0.8888888888888888, \"#fdca26\"], [1.0, \"#f0f921\"]], \"type\": \"histogram2dcontour\"}], \"mesh3d\": [{\"colorbar\": {\"outlinewidth\": 0, \"ticks\": \"\"}, \"type\": \"mesh3d\"}], \"parcoords\": [{\"line\": {\"colorbar\": {\"outlinewidth\": 0, \"ticks\": \"\"}}, \"type\": \"parcoords\"}], \"pie\": [{\"automargin\": true, \"type\": \"pie\"}], \"scatter\": [{\"marker\": {\"colorbar\": {\"outlinewidth\": 0, \"ticks\": \"\"}}, \"type\": \"scatter\"}], \"scatter3d\": [{\"line\": {\"colorbar\": {\"outlinewidth\": 0, \"ticks\": \"\"}}, \"marker\": {\"colorbar\": {\"outlinewidth\": 0, \"ticks\": \"\"}}, \"type\": \"scatter3d\"}], \"scattercarpet\": [{\"marker\": {\"colorbar\": {\"outlinewidth\": 0, \"ticks\": \"\"}}, \"type\": \"scattercarpet\"}], \"scattergeo\": [{\"marker\": {\"colorbar\": {\"outlinewidth\": 0, \"ticks\": \"\"}}, \"type\": \"scattergeo\"}], \"scattergl\": [{\"marker\": {\"colorbar\": {\"outlinewidth\": 0, \"ticks\": \"\"}}, \"type\": \"scattergl\"}], \"scattermapbox\": [{\"marker\": {\"colorbar\": {\"outlinewidth\": 0, \"ticks\": \"\"}}, \"type\": \"scattermapbox\"}], \"scatterpolar\": [{\"marker\": {\"colorbar\": {\"outlinewidth\": 0, \"ticks\": \"\"}}, \"type\": \"scatterpolar\"}], \"scatterpolargl\": [{\"marker\": {\"colorbar\": {\"outlinewidth\": 0, \"ticks\": \"\"}}, \"type\": \"scatterpolargl\"}], \"scatterternary\": [{\"marker\": {\"colorbar\": {\"outlinewidth\": 0, \"ticks\": \"\"}}, \"type\": \"scatterternary\"}], \"surface\": [{\"colorbar\": {\"outlinewidth\": 0, \"ticks\": \"\"}, \"colorscale\": [[0.0, \"#0d0887\"], [0.1111111111111111, \"#46039f\"], [0.2222222222222222, \"#7201a8\"], [0.3333333333333333, \"#9c179e\"], [0.4444444444444444, \"#bd3786\"], [0.5555555555555556, \"#d8576b\"], [0.6666666666666666, \"#ed7953\"], [0.7777777777777778, \"#fb9f3a\"], [0.8888888888888888, \"#fdca26\"], [1.0, \"#f0f921\"]], \"type\": \"surface\"}], \"table\": [{\"cells\": {\"fill\": {\"color\": \"#EBF0F8\"}, \"line\": {\"color\": \"white\"}}, \"header\": {\"fill\": {\"color\": \"#C8D4E3\"}, \"line\": {\"color\": \"white\"}}, \"type\": \"table\"}]}, \"layout\": {\"annotationdefaults\": {\"arrowcolor\": \"#2a3f5f\", \"arrowhead\": 0, \"arrowwidth\": 1}, \"coloraxis\": {\"colorbar\": {\"outlinewidth\": 0, \"ticks\": \"\"}}, \"colorscale\": {\"diverging\": [[0, \"#8e0152\"], [0.1, \"#c51b7d\"], [0.2, \"#de77ae\"], [0.3, \"#f1b6da\"], [0.4, \"#fde0ef\"], [0.5, \"#f7f7f7\"], [0.6, \"#e6f5d0\"], [0.7, \"#b8e186\"], [0.8, \"#7fbc41\"], [0.9, \"#4d9221\"], [1, \"#276419\"]], \"sequential\": [[0.0, \"#0d0887\"], [0.1111111111111111, \"#46039f\"], [0.2222222222222222, \"#7201a8\"], [0.3333333333333333, \"#9c179e\"], [0.4444444444444444, \"#bd3786\"], [0.5555555555555556, \"#d8576b\"], [0.6666666666666666, \"#ed7953\"], [0.7777777777777778, \"#fb9f3a\"], [0.8888888888888888, \"#fdca26\"], [1.0, \"#f0f921\"]], \"sequentialminus\": [[0.0, \"#0d0887\"], [0.1111111111111111, \"#46039f\"], [0.2222222222222222, \"#7201a8\"], [0.3333333333333333, \"#9c179e\"], [0.4444444444444444, \"#bd3786\"], [0.5555555555555556, \"#d8576b\"], [0.6666666666666666, \"#ed7953\"], [0.7777777777777778, \"#fb9f3a\"], [0.8888888888888888, \"#fdca26\"], [1.0, \"#f0f921\"]]}, \"colorway\": [\"#636efa\", \"#EF553B\", \"#00cc96\", \"#ab63fa\", \"#FFA15A\", \"#19d3f3\", \"#FF6692\", \"#B6E880\", \"#FF97FF\", \"#FECB52\"], \"font\": {\"color\": \"#2a3f5f\"}, \"geo\": {\"bgcolor\": \"white\", \"lakecolor\": \"white\", \"landcolor\": \"#E5ECF6\", \"showlakes\": true, \"showland\": true, \"subunitcolor\": \"white\"}, \"hoverlabel\": {\"align\": \"left\"}, \"hovermode\": \"closest\", \"mapbox\": {\"style\": \"light\"}, \"paper_bgcolor\": \"white\", \"plot_bgcolor\": \"#E5ECF6\", \"polar\": {\"angularaxis\": {\"gridcolor\": \"white\", \"linecolor\": \"white\", \"ticks\": \"\"}, \"bgcolor\": \"#E5ECF6\", \"radialaxis\": {\"gridcolor\": \"white\", \"linecolor\": \"white\", \"ticks\": \"\"}}, \"scene\": {\"xaxis\": {\"backgroundcolor\": \"#E5ECF6\", \"gridcolor\": \"white\", \"gridwidth\": 2, \"linecolor\": \"white\", \"showbackground\": true, \"ticks\": \"\", \"zerolinecolor\": \"white\"}, \"yaxis\": {\"backgroundcolor\": \"#E5ECF6\", \"gridcolor\": \"white\", \"gridwidth\": 2, \"linecolor\": \"white\", \"showbackground\": true, \"ticks\": \"\", \"zerolinecolor\": \"white\"}, \"zaxis\": {\"backgroundcolor\": \"#E5ECF6\", \"gridcolor\": \"white\", \"gridwidth\": 2, \"linecolor\": \"white\", \"showbackground\": true, \"ticks\": \"\", \"zerolinecolor\": \"white\"}}, \"shapedefaults\": {\"line\": {\"color\": \"#2a3f5f\"}}, \"ternary\": {\"aaxis\": {\"gridcolor\": \"white\", \"linecolor\": \"white\", \"ticks\": \"\"}, \"baxis\": {\"gridcolor\": \"white\", \"linecolor\": \"white\", \"ticks\": \"\"}, \"bgcolor\": \"#E5ECF6\", \"caxis\": {\"gridcolor\": \"white\", \"linecolor\": \"white\", \"ticks\": \"\"}}, \"title\": {\"x\": 0.05}, \"xaxis\": {\"automargin\": true, \"gridcolor\": \"white\", \"linecolor\": \"white\", \"ticks\": \"\", \"title\": {\"standoff\": 15}, \"zerolinecolor\": \"white\", \"zerolinewidth\": 2}, \"yaxis\": {\"automargin\": true, \"gridcolor\": \"white\", \"linecolor\": \"white\", \"ticks\": \"\", \"title\": {\"standoff\": 15}, \"zerolinecolor\": \"white\", \"zerolinewidth\": 2}}}, \"title\": {\"text\": \"Confirmed Cases in India\"}, \"xaxis\": {\"anchor\": \"y\", \"domain\": [0.0, 1.0], \"title\": {\"text\": \"Date\"}}, \"yaxis\": {\"anchor\": \"x\", \"domain\": [0.0, 1.0], \"title\": {\"text\": \"Total Confirmed\"}}},\n",
              "                        {\"responsive\": true}\n",
              "                    ).then(function(){\n",
              "                            \n",
              "var gd = document.getElementById('acae040b-5455-4654-a1c0-ff824d42987e');\n",
              "var x = new MutationObserver(function (mutations, observer) {{\n",
              "        var display = window.getComputedStyle(gd).display;\n",
              "        if (!display || display === 'none') {{\n",
              "            console.log([gd, 'removed!']);\n",
              "            Plotly.purge(gd);\n",
              "            observer.disconnect();\n",
              "        }}\n",
              "}});\n",
              "\n",
              "// Listen for the removal of the full notebook cells\n",
              "var notebookContainer = gd.closest('#notebook-container');\n",
              "if (notebookContainer) {{\n",
              "    x.observe(notebookContainer, {childList: true});\n",
              "}}\n",
              "\n",
              "// Listen for the clearing of the current output cell\n",
              "var outputEl = gd.closest('.output');\n",
              "if (outputEl) {{\n",
              "    x.observe(outputEl, {childList: true});\n",
              "}}\n",
              "\n",
              "                        })\n",
              "                };\n",
              "                \n",
              "            </script>\n",
              "        </div>\n",
              "</body>\n",
              "</html>"
            ]
          },
          "metadata": {
            "tags": []
          }
        },
        {
          "output_type": "display_data",
          "data": {
            "text/html": [
              "<html>\n",
              "<head><meta charset=\"utf-8\" /></head>\n",
              "<body>\n",
              "    <div>\n",
              "            <script src=\"https://cdnjs.cloudflare.com/ajax/libs/mathjax/2.7.5/MathJax.js?config=TeX-AMS-MML_SVG\"></script><script type=\"text/javascript\">if (window.MathJax) {MathJax.Hub.Config({SVG: {font: \"STIX-Web\"}});}</script>\n",
              "                <script type=\"text/javascript\">window.PlotlyConfig = {MathJaxConfig: 'local'};</script>\n",
              "        <script src=\"https://cdn.plot.ly/plotly-latest.min.js\"></script>    \n",
              "            <div id=\"83cc80d6-cf2d-4e0f-9c67-bec29f7b260b\" class=\"plotly-graph-div\" style=\"height:600px; width:100%;\"></div>\n",
              "            <script type=\"text/javascript\">\n",
              "                \n",
              "                    window.PLOTLYENV=window.PLOTLYENV || {};\n",
              "                    \n",
              "                if (document.getElementById(\"83cc80d6-cf2d-4e0f-9c67-bec29f7b260b\")) {\n",
              "                    Plotly.newPlot(\n",
              "                        '83cc80d6-cf2d-4e0f-9c67-bec29f7b260b',\n",
              "                        [{\"alignmentgroup\": \"True\", \"hoverlabel\": {\"namelength\": 0}, \"hovertemplate\": \"Date=%{x}<br>Confirmed=%{marker.color}\", \"legendgroup\": \"\", \"marker\": {\"color\": [555, 654, 941, 1434, 2118, 2927, 5578, 6166, 8234, 9927, 12038, 16787, 19887, 23898, 27643, 30802, 34334, 37068, 40095, 42633, 44675, 46561, 60206, 66690, 68765, 70879, 72815, 74609, 75030, 75577, 76206, 77967, 78290, 78854, 79707, 80670, 82034, 83411, 85306, 87690, 89664, 92241, 94540, 97331, 101274, 105312, 109266, 113166, 118190, 125853, 131603, 146008, 157114, 168260, 182919, 198757, 218343, 246261, 275869, 308175, 341585, 383750, 424889, 475706, 538666, 603066, 670723, 730300, 794939, 871355, 947569, 1028968, 1112123, 1192586, 1264304, 1336976, 1413849, 1497624, 1584249, 1671907, 1748872, 1845653, 1915247, 1985174, 2066003, 2162715, 2250439, 2324396, 2404919, 2478258, 2553508, 2630314, 2719327, 2806267, 2891199, 2964146, 3032850, 3108149, 3185195, 3268876, 3355922, 3437608, 3515244, 3591321, 3671310, 3761332, 3850418, 3941935, 4027781, 4104027, 4180268, 4263867, 4348619, 4445724, 4542073, 4637485, 4715994, 4804278, 4900702, 5003730, 5110064, 5216964, 5322253, 5417579, 5504542, 5597064, 5699664, 5818978, 5940145, 6077978, 6185530, 6280725, 6401536, 6520924, 6647861, 6778724, 6914666, 7026925, 7129150, 7253492, 7387517, 7525631, 7654725, 7790735, 7924156, 8043794, 8185197, 8327050, 8466978, 8647784, 8805336, 8933875, 9071733, 9237071, 9408254, 9586141, 9777487, 9955597, 10117227, 10275799, 10449697, 10667386, 10875091, 11078585, 11272152, 11454847, 11622190, 11833034, 12044836, 12273063, 12505640, 12721968, 12914636, 13107415, 13328867, 13559984, 13812525, 14054563, 14292198, 14506845, 14713623, 14947078, 15227725, 15510481, 15791645, 16047190, 16251796, 16480485], \"coloraxis\": \"coloraxis\"}, \"name\": \"\", \"offsetgroup\": \"\", \"orientation\": \"v\", \"showlegend\": false, \"textposition\": \"auto\", \"type\": \"bar\", \"x\": [\"22 January\", \"23 January\", \"24 January\", \"25 January\", \"26 January\", \"27 January\", \"28 January\", \"29 January\", \"30 January\", \"31 January\", \"01 February\", \"02 February\", \"03 February\", \"04 February\", \"05 February\", \"06 February\", \"07 February\", \"08 February\", \"09 February\", \"10 February\", \"11 February\", \"12 February\", \"13 February\", \"14 February\", \"15 February\", \"16 February\", \"17 February\", \"18 February\", \"19 February\", \"20 February\", \"21 February\", \"22 February\", \"23 February\", \"24 February\", \"25 February\", \"26 February\", \"27 February\", \"28 February\", \"29 February\", \"01 March\", \"02 March\", \"03 March\", \"04 March\", \"05 March\", \"06 March\", \"07 March\", \"08 March\", \"09 March\", \"10 March\", \"11 March\", \"12 March\", \"13 March\", \"14 March\", \"15 March\", \"16 March\", \"17 March\", \"18 March\", \"19 March\", \"20 March\", \"21 March\", \"22 March\", \"23 March\", \"24 March\", \"25 March\", \"26 March\", \"27 March\", \"28 March\", \"29 March\", \"30 March\", \"31 March\", \"01 April\", \"02 April\", \"03 April\", \"04 April\", \"05 April\", \"06 April\", \"07 April\", \"08 April\", \"09 April\", \"10 April\", \"11 April\", \"12 April\", \"13 April\", \"14 April\", \"15 April\", \"16 April\", \"17 April\", \"18 April\", \"19 April\", \"20 April\", \"21 April\", \"22 April\", \"23 April\", \"24 April\", \"25 April\", \"26 April\", \"27 April\", \"28 April\", \"29 April\", \"30 April\", \"01 May\", \"02 May\", \"03 May\", \"04 May\", \"05 May\", \"06 May\", \"07 May\", \"08 May\", \"09 May\", \"10 May\", \"11 May\", \"12 May\", \"13 May\", \"14 May\", \"15 May\", \"16 May\", \"17 May\", \"18 May\", \"19 May\", \"20 May\", \"21 May\", \"22 May\", \"23 May\", \"24 May\", \"25 May\", \"26 May\", \"27 May\", \"28 May\", \"29 May\", \"30 May\", \"31 May\", \"01 June\", \"02 June\", \"03 June\", \"04 June\", \"05 June\", \"06 June\", \"07 June\", \"08 June\", \"09 June\", \"10 June\", \"11 June\", \"12 June\", \"13 June\", \"14 June\", \"15 June\", \"16 June\", \"17 June\", \"18 June\", \"19 June\", \"20 June\", \"21 June\", \"22 June\", \"23 June\", \"24 June\", \"25 June\", \"26 June\", \"27 June\", \"28 June\", \"29 June\", \"30 June\", \"01 July\", \"02 July\", \"03 July\", \"04 July\", \"05 July\", \"06 July\", \"07 July\", \"08 July\", \"09 July\", \"10 July\", \"11 July\", \"12 July\", \"13 July\", \"14 July\", \"15 July\", \"16 July\", \"17 July\", \"18 July\", \"19 July\", \"20 July\", \"21 July\", \"22 July\", \"23 July\", \"24 July\", \"25 July\", \"26 July\", \"27 July\"], \"xaxis\": \"x\", \"y\": [555, 654, 941, 1434, 2118, 2927, 5578, 6166, 8234, 9927, 12038, 16787, 19887, 23898, 27643, 30802, 34334, 37068, 40095, 42633, 44675, 46561, 60206, 66690, 68765, 70879, 72815, 74609, 75030, 75577, 76206, 77967, 78290, 78854, 79707, 80670, 82034, 83411, 85306, 87690, 89664, 92241, 94540, 97331, 101274, 105312, 109266, 113166, 118190, 125853, 131603, 146008, 157114, 168260, 182919, 198757, 218343, 246261, 275869, 308175, 341585, 383750, 424889, 475706, 538666, 603066, 670723, 730300, 794939, 871355, 947569, 1028968, 1112123, 1192586, 1264304, 1336976, 1413849, 1497624, 1584249, 1671907, 1748872, 1845653, 1915247, 1985174, 2066003, 2162715, 2250439, 2324396, 2404919, 2478258, 2553508, 2630314, 2719327, 2806267, 2891199, 2964146, 3032850, 3108149, 3185195, 3268876, 3355922, 3437608, 3515244, 3591321, 3671310, 3761332, 3850418, 3941935, 4027781, 4104027, 4180268, 4263867, 4348619, 4445724, 4542073, 4637485, 4715994, 4804278, 4900702, 5003730, 5110064, 5216964, 5322253, 5417579, 5504542, 5597064, 5699664, 5818978, 5940145, 6077978, 6185530, 6280725, 6401536, 6520924, 6647861, 6778724, 6914666, 7026925, 7129150, 7253492, 7387517, 7525631, 7654725, 7790735, 7924156, 8043794, 8185197, 8327050, 8466978, 8647784, 8805336, 8933875, 9071733, 9237071, 9408254, 9586141, 9777487, 9955597, 10117227, 10275799, 10449697, 10667386, 10875091, 11078585, 11272152, 11454847, 11622190, 11833034, 12044836, 12273063, 12505640, 12721968, 12914636, 13107415, 13328867, 13559984, 13812525, 14054563, 14292198, 14506845, 14713623, 14947078, 15227725, 15510481, 15791645, 16047190, 16251796, 16480485], \"yaxis\": \"y\"}],\n",
              "                        {\"barmode\": \"relative\", \"coloraxis\": {\"colorbar\": {\"title\": {\"text\": \"Confirmed\"}}, \"colorscale\": [[0.0, \"#0d0887\"], [0.1111111111111111, \"#46039f\"], [0.2222222222222222, \"#7201a8\"], [0.3333333333333333, \"#9c179e\"], [0.4444444444444444, \"#bd3786\"], [0.5555555555555556, \"#d8576b\"], [0.6666666666666666, \"#ed7953\"], [0.7777777777777778, \"#fb9f3a\"], [0.8888888888888888, \"#fdca26\"], [1.0, \"#f0f921\"]]}, \"height\": 600, \"legend\": {\"tracegroupgap\": 0}, \"plot_bgcolor\": \"rgb(230, 230, 230)\", \"template\": {\"data\": {\"bar\": [{\"error_x\": {\"color\": \"#2a3f5f\"}, \"error_y\": {\"color\": \"#2a3f5f\"}, \"marker\": {\"line\": {\"color\": \"#E5ECF6\", \"width\": 0.5}}, \"type\": \"bar\"}], \"barpolar\": [{\"marker\": {\"line\": {\"color\": \"#E5ECF6\", \"width\": 0.5}}, \"type\": \"barpolar\"}], \"carpet\": [{\"aaxis\": {\"endlinecolor\": \"#2a3f5f\", \"gridcolor\": \"white\", \"linecolor\": \"white\", \"minorgridcolor\": \"white\", \"startlinecolor\": \"#2a3f5f\"}, \"baxis\": {\"endlinecolor\": \"#2a3f5f\", \"gridcolor\": \"white\", \"linecolor\": \"white\", \"minorgridcolor\": \"white\", \"startlinecolor\": \"#2a3f5f\"}, \"type\": \"carpet\"}], \"choropleth\": [{\"colorbar\": {\"outlinewidth\": 0, \"ticks\": \"\"}, \"type\": \"choropleth\"}], \"contour\": [{\"colorbar\": {\"outlinewidth\": 0, \"ticks\": \"\"}, \"colorscale\": [[0.0, \"#0d0887\"], [0.1111111111111111, \"#46039f\"], [0.2222222222222222, \"#7201a8\"], [0.3333333333333333, \"#9c179e\"], [0.4444444444444444, \"#bd3786\"], [0.5555555555555556, \"#d8576b\"], [0.6666666666666666, \"#ed7953\"], [0.7777777777777778, \"#fb9f3a\"], [0.8888888888888888, \"#fdca26\"], [1.0, \"#f0f921\"]], \"type\": \"contour\"}], \"contourcarpet\": [{\"colorbar\": {\"outlinewidth\": 0, \"ticks\": \"\"}, \"type\": \"contourcarpet\"}], \"heatmap\": [{\"colorbar\": {\"outlinewidth\": 0, \"ticks\": \"\"}, \"colorscale\": [[0.0, \"#0d0887\"], [0.1111111111111111, \"#46039f\"], [0.2222222222222222, \"#7201a8\"], [0.3333333333333333, \"#9c179e\"], [0.4444444444444444, \"#bd3786\"], [0.5555555555555556, \"#d8576b\"], [0.6666666666666666, \"#ed7953\"], [0.7777777777777778, \"#fb9f3a\"], [0.8888888888888888, \"#fdca26\"], [1.0, \"#f0f921\"]], \"type\": \"heatmap\"}], \"heatmapgl\": [{\"colorbar\": {\"outlinewidth\": 0, \"ticks\": \"\"}, \"colorscale\": [[0.0, \"#0d0887\"], [0.1111111111111111, \"#46039f\"], [0.2222222222222222, \"#7201a8\"], [0.3333333333333333, \"#9c179e\"], [0.4444444444444444, \"#bd3786\"], [0.5555555555555556, \"#d8576b\"], [0.6666666666666666, \"#ed7953\"], [0.7777777777777778, \"#fb9f3a\"], [0.8888888888888888, \"#fdca26\"], [1.0, \"#f0f921\"]], \"type\": \"heatmapgl\"}], \"histogram\": [{\"marker\": {\"colorbar\": {\"outlinewidth\": 0, \"ticks\": \"\"}}, \"type\": \"histogram\"}], \"histogram2d\": [{\"colorbar\": {\"outlinewidth\": 0, \"ticks\": \"\"}, \"colorscale\": [[0.0, \"#0d0887\"], [0.1111111111111111, \"#46039f\"], [0.2222222222222222, \"#7201a8\"], [0.3333333333333333, \"#9c179e\"], [0.4444444444444444, \"#bd3786\"], [0.5555555555555556, \"#d8576b\"], [0.6666666666666666, \"#ed7953\"], [0.7777777777777778, \"#fb9f3a\"], [0.8888888888888888, \"#fdca26\"], [1.0, \"#f0f921\"]], \"type\": \"histogram2d\"}], \"histogram2dcontour\": [{\"colorbar\": {\"outlinewidth\": 0, \"ticks\": \"\"}, \"colorscale\": [[0.0, \"#0d0887\"], [0.1111111111111111, \"#46039f\"], [0.2222222222222222, \"#7201a8\"], [0.3333333333333333, \"#9c179e\"], [0.4444444444444444, \"#bd3786\"], [0.5555555555555556, \"#d8576b\"], [0.6666666666666666, \"#ed7953\"], [0.7777777777777778, \"#fb9f3a\"], [0.8888888888888888, \"#fdca26\"], [1.0, \"#f0f921\"]], \"type\": \"histogram2dcontour\"}], \"mesh3d\": [{\"colorbar\": {\"outlinewidth\": 0, \"ticks\": \"\"}, \"type\": \"mesh3d\"}], \"parcoords\": [{\"line\": {\"colorbar\": {\"outlinewidth\": 0, \"ticks\": \"\"}}, \"type\": \"parcoords\"}], \"pie\": [{\"automargin\": true, \"type\": \"pie\"}], \"scatter\": [{\"marker\": {\"colorbar\": {\"outlinewidth\": 0, \"ticks\": \"\"}}, \"type\": \"scatter\"}], \"scatter3d\": [{\"line\": {\"colorbar\": {\"outlinewidth\": 0, \"ticks\": \"\"}}, \"marker\": {\"colorbar\": {\"outlinewidth\": 0, \"ticks\": \"\"}}, \"type\": \"scatter3d\"}], \"scattercarpet\": [{\"marker\": {\"colorbar\": {\"outlinewidth\": 0, \"ticks\": \"\"}}, \"type\": \"scattercarpet\"}], \"scattergeo\": [{\"marker\": {\"colorbar\": {\"outlinewidth\": 0, \"ticks\": \"\"}}, \"type\": \"scattergeo\"}], \"scattergl\": [{\"marker\": {\"colorbar\": {\"outlinewidth\": 0, \"ticks\": \"\"}}, \"type\": \"scattergl\"}], \"scattermapbox\": [{\"marker\": {\"colorbar\": {\"outlinewidth\": 0, \"ticks\": \"\"}}, \"type\": \"scattermapbox\"}], \"scatterpolar\": [{\"marker\": {\"colorbar\": {\"outlinewidth\": 0, \"ticks\": \"\"}}, \"type\": \"scatterpolar\"}], \"scatterpolargl\": [{\"marker\": {\"colorbar\": {\"outlinewidth\": 0, \"ticks\": \"\"}}, \"type\": \"scatterpolargl\"}], \"scatterternary\": [{\"marker\": {\"colorbar\": {\"outlinewidth\": 0, \"ticks\": \"\"}}, \"type\": \"scatterternary\"}], \"surface\": [{\"colorbar\": {\"outlinewidth\": 0, \"ticks\": \"\"}, \"colorscale\": [[0.0, \"#0d0887\"], [0.1111111111111111, \"#46039f\"], [0.2222222222222222, \"#7201a8\"], [0.3333333333333333, \"#9c179e\"], [0.4444444444444444, \"#bd3786\"], [0.5555555555555556, \"#d8576b\"], [0.6666666666666666, \"#ed7953\"], [0.7777777777777778, \"#fb9f3a\"], [0.8888888888888888, \"#fdca26\"], [1.0, \"#f0f921\"]], \"type\": \"surface\"}], \"table\": [{\"cells\": {\"fill\": {\"color\": \"#EBF0F8\"}, \"line\": {\"color\": \"white\"}}, \"header\": {\"fill\": {\"color\": \"#C8D4E3\"}, \"line\": {\"color\": \"white\"}}, \"type\": \"table\"}]}, \"layout\": {\"annotationdefaults\": {\"arrowcolor\": \"#2a3f5f\", \"arrowhead\": 0, \"arrowwidth\": 1}, \"coloraxis\": {\"colorbar\": {\"outlinewidth\": 0, \"ticks\": \"\"}}, \"colorscale\": {\"diverging\": [[0, \"#8e0152\"], [0.1, \"#c51b7d\"], [0.2, \"#de77ae\"], [0.3, \"#f1b6da\"], [0.4, \"#fde0ef\"], [0.5, \"#f7f7f7\"], [0.6, \"#e6f5d0\"], [0.7, \"#b8e186\"], [0.8, \"#7fbc41\"], [0.9, \"#4d9221\"], [1, \"#276419\"]], \"sequential\": [[0.0, \"#0d0887\"], [0.1111111111111111, \"#46039f\"], [0.2222222222222222, \"#7201a8\"], [0.3333333333333333, \"#9c179e\"], [0.4444444444444444, \"#bd3786\"], [0.5555555555555556, \"#d8576b\"], [0.6666666666666666, \"#ed7953\"], [0.7777777777777778, \"#fb9f3a\"], [0.8888888888888888, \"#fdca26\"], [1.0, \"#f0f921\"]], \"sequentialminus\": [[0.0, \"#0d0887\"], [0.1111111111111111, \"#46039f\"], [0.2222222222222222, \"#7201a8\"], [0.3333333333333333, \"#9c179e\"], [0.4444444444444444, \"#bd3786\"], [0.5555555555555556, \"#d8576b\"], [0.6666666666666666, \"#ed7953\"], [0.7777777777777778, \"#fb9f3a\"], [0.8888888888888888, \"#fdca26\"], [1.0, \"#f0f921\"]]}, \"colorway\": [\"#636efa\", \"#EF553B\", \"#00cc96\", \"#ab63fa\", \"#FFA15A\", \"#19d3f3\", \"#FF6692\", \"#B6E880\", \"#FF97FF\", \"#FECB52\"], \"font\": {\"color\": \"#2a3f5f\"}, \"geo\": {\"bgcolor\": \"white\", \"lakecolor\": \"white\", \"landcolor\": \"#E5ECF6\", \"showlakes\": true, \"showland\": true, \"subunitcolor\": \"white\"}, \"hoverlabel\": {\"align\": \"left\"}, \"hovermode\": \"closest\", \"mapbox\": {\"style\": \"light\"}, \"paper_bgcolor\": \"white\", \"plot_bgcolor\": \"#E5ECF6\", \"polar\": {\"angularaxis\": {\"gridcolor\": \"white\", \"linecolor\": \"white\", \"ticks\": \"\"}, \"bgcolor\": \"#E5ECF6\", \"radialaxis\": {\"gridcolor\": \"white\", \"linecolor\": \"white\", \"ticks\": \"\"}}, \"scene\": {\"xaxis\": {\"backgroundcolor\": \"#E5ECF6\", \"gridcolor\": \"white\", \"gridwidth\": 2, \"linecolor\": \"white\", \"showbackground\": true, \"ticks\": \"\", \"zerolinecolor\": \"white\"}, \"yaxis\": {\"backgroundcolor\": \"#E5ECF6\", \"gridcolor\": \"white\", \"gridwidth\": 2, \"linecolor\": \"white\", \"showbackground\": true, \"ticks\": \"\", \"zerolinecolor\": \"white\"}, \"zaxis\": {\"backgroundcolor\": \"#E5ECF6\", \"gridcolor\": \"white\", \"gridwidth\": 2, \"linecolor\": \"white\", \"showbackground\": true, \"ticks\": \"\", \"zerolinecolor\": \"white\"}}, \"shapedefaults\": {\"line\": {\"color\": \"#2a3f5f\"}}, \"ternary\": {\"aaxis\": {\"gridcolor\": \"white\", \"linecolor\": \"white\", \"ticks\": \"\"}, \"baxis\": {\"gridcolor\": \"white\", \"linecolor\": \"white\", \"ticks\": \"\"}, \"bgcolor\": \"#E5ECF6\", \"caxis\": {\"gridcolor\": \"white\", \"linecolor\": \"white\", \"ticks\": \"\"}}, \"title\": {\"x\": 0.05}, \"xaxis\": {\"automargin\": true, \"gridcolor\": \"white\", \"linecolor\": \"white\", \"ticks\": \"\", \"title\": {\"standoff\": 15}, \"zerolinecolor\": \"white\", \"zerolinewidth\": 2}, \"yaxis\": {\"automargin\": true, \"gridcolor\": \"white\", \"linecolor\": \"white\", \"ticks\": \"\", \"title\": {\"standoff\": 15}, \"zerolinecolor\": \"white\", \"zerolinewidth\": 2}}}, \"title\": {\"text\": \"Confirmed Cases in the World\"}, \"xaxis\": {\"anchor\": \"y\", \"domain\": [0.0, 1.0], \"title\": {\"text\": \"Date\"}}, \"yaxis\": {\"anchor\": \"x\", \"domain\": [0.0, 1.0], \"title\": {\"text\": \"Confirmed\"}}},\n",
              "                        {\"responsive\": true}\n",
              "                    ).then(function(){\n",
              "                            \n",
              "var gd = document.getElementById('83cc80d6-cf2d-4e0f-9c67-bec29f7b260b');\n",
              "var x = new MutationObserver(function (mutations, observer) {{\n",
              "        var display = window.getComputedStyle(gd).display;\n",
              "        if (!display || display === 'none') {{\n",
              "            console.log([gd, 'removed!']);\n",
              "            Plotly.purge(gd);\n",
              "            observer.disconnect();\n",
              "        }}\n",
              "}});\n",
              "\n",
              "// Listen for the removal of the full notebook cells\n",
              "var notebookContainer = gd.closest('#notebook-container');\n",
              "if (notebookContainer) {{\n",
              "    x.observe(notebookContainer, {childList: true});\n",
              "}}\n",
              "\n",
              "// Listen for the clearing of the current output cell\n",
              "var outputEl = gd.closest('.output');\n",
              "if (outputEl) {{\n",
              "    x.observe(outputEl, {childList: true});\n",
              "}}\n",
              "\n",
              "                        })\n",
              "                };\n",
              "                \n",
              "            </script>\n",
              "        </div>\n",
              "</body>\n",
              "</html>"
            ]
          },
          "metadata": {
            "tags": []
          }
        }
      ]
    },
    {
      "cell_type": "markdown",
      "metadata": {
        "id": "QvCUF8AQdhFv"
      },
      "source": [
        "## Comparison between the rise of cases in India and the USA"
      ]
    },
    {
      "cell_type": "code",
      "metadata": {
        "id": "j_U3WLHq5_mM",
        "outputId": "03535100-55d6-404a-d338-aba532bc040e",
        "colab": {
          "base_uri": "https://localhost:8080/",
          "height": 204
        }
      },
      "source": [
        "dbd_USA = pd.read_csv('us_covid19_daily.csv')\n",
        "dbd_USA['date'] = pd.to_datetime(dbd_USA.date, format='%Y%m%d')\n",
        "dbd_USA['date'] = dbd_USA['date'].dt.strftime('%d %B')\n",
        "#dbd_USA.dropna(axis = 0, inplace = True)\n",
        "dbd_USA.head()"
      ],
      "execution_count": 73,
      "outputs": [
        {
          "output_type": "execute_result",
          "data": {
            "text/html": [
              "<div>\n",
              "<style scoped>\n",
              "    .dataframe tbody tr th:only-of-type {\n",
              "        vertical-align: middle;\n",
              "    }\n",
              "\n",
              "    .dataframe tbody tr th {\n",
              "        vertical-align: top;\n",
              "    }\n",
              "\n",
              "    .dataframe thead th {\n",
              "        text-align: right;\n",
              "    }\n",
              "</style>\n",
              "<table border=\"1\" class=\"dataframe\">\n",
              "  <thead>\n",
              "    <tr style=\"text-align: right;\">\n",
              "      <th></th>\n",
              "      <th>date</th>\n",
              "      <th>positive</th>\n",
              "      <th>recovered</th>\n",
              "      <th>death</th>\n",
              "    </tr>\n",
              "  </thead>\n",
              "  <tbody>\n",
              "    <tr>\n",
              "      <th>0</th>\n",
              "      <td>29 February</td>\n",
              "      <td>18</td>\n",
              "      <td>NaN</td>\n",
              "      <td>5</td>\n",
              "    </tr>\n",
              "    <tr>\n",
              "      <th>1</th>\n",
              "      <td>01 March</td>\n",
              "      <td>50</td>\n",
              "      <td>NaN</td>\n",
              "      <td>8</td>\n",
              "    </tr>\n",
              "    <tr>\n",
              "      <th>2</th>\n",
              "      <td>02 March</td>\n",
              "      <td>94</td>\n",
              "      <td>NaN</td>\n",
              "      <td>11</td>\n",
              "    </tr>\n",
              "    <tr>\n",
              "      <th>3</th>\n",
              "      <td>03 March</td>\n",
              "      <td>142</td>\n",
              "      <td>NaN</td>\n",
              "      <td>14</td>\n",
              "    </tr>\n",
              "    <tr>\n",
              "      <th>4</th>\n",
              "      <td>04 March</td>\n",
              "      <td>281</td>\n",
              "      <td>NaN</td>\n",
              "      <td>16</td>\n",
              "    </tr>\n",
              "  </tbody>\n",
              "</table>\n",
              "</div>"
            ],
            "text/plain": [
              "          date  positive  recovered  death\n",
              "0  29 February        18        NaN      5\n",
              "1     01 March        50        NaN      8\n",
              "2     02 March        94        NaN     11\n",
              "3     03 March       142        NaN     14\n",
              "4     04 March       281        NaN     16"
            ]
          },
          "metadata": {
            "tags": []
          },
          "execution_count": 73
        }
      ]
    },
    {
      "cell_type": "code",
      "metadata": {
        "id": "5KIx3ulm8ZVh",
        "outputId": "9651565c-6a70-4b02-c4ce-3cc46c53da0d",
        "colab": {
          "base_uri": "https://localhost:8080/",
          "height": 323
        }
      },
      "source": [
        "dbd_World.head()"
      ],
      "execution_count": 68,
      "outputs": [
        {
          "output_type": "execute_result",
          "data": {
            "text/html": [
              "<div>\n",
              "<style scoped>\n",
              "    .dataframe tbody tr th:only-of-type {\n",
              "        vertical-align: middle;\n",
              "    }\n",
              "\n",
              "    .dataframe tbody tr th {\n",
              "        vertical-align: top;\n",
              "    }\n",
              "\n",
              "    .dataframe thead th {\n",
              "        text-align: right;\n",
              "    }\n",
              "</style>\n",
              "<table border=\"1\" class=\"dataframe\">\n",
              "  <thead>\n",
              "    <tr style=\"text-align: right;\">\n",
              "      <th></th>\n",
              "      <th>Date</th>\n",
              "      <th>Confirmed</th>\n",
              "      <th>Deaths</th>\n",
              "      <th>Recovered</th>\n",
              "      <th>Active</th>\n",
              "      <th>New cases</th>\n",
              "      <th>New deaths</th>\n",
              "      <th>New recovered</th>\n",
              "      <th>Deaths / 100 Cases</th>\n",
              "      <th>Recovered / 100 Cases</th>\n",
              "      <th>Deaths / 100 Recovered</th>\n",
              "      <th>No. of countries</th>\n",
              "    </tr>\n",
              "  </thead>\n",
              "  <tbody>\n",
              "    <tr>\n",
              "      <th>0</th>\n",
              "      <td>22 January</td>\n",
              "      <td>555</td>\n",
              "      <td>17</td>\n",
              "      <td>28</td>\n",
              "      <td>510</td>\n",
              "      <td>0</td>\n",
              "      <td>0</td>\n",
              "      <td>0</td>\n",
              "      <td>3.06</td>\n",
              "      <td>5.05</td>\n",
              "      <td>60.71</td>\n",
              "      <td>6</td>\n",
              "    </tr>\n",
              "    <tr>\n",
              "      <th>1</th>\n",
              "      <td>23 January</td>\n",
              "      <td>654</td>\n",
              "      <td>18</td>\n",
              "      <td>30</td>\n",
              "      <td>606</td>\n",
              "      <td>99</td>\n",
              "      <td>1</td>\n",
              "      <td>2</td>\n",
              "      <td>2.75</td>\n",
              "      <td>4.59</td>\n",
              "      <td>60.00</td>\n",
              "      <td>8</td>\n",
              "    </tr>\n",
              "    <tr>\n",
              "      <th>2</th>\n",
              "      <td>24 January</td>\n",
              "      <td>941</td>\n",
              "      <td>26</td>\n",
              "      <td>36</td>\n",
              "      <td>879</td>\n",
              "      <td>287</td>\n",
              "      <td>8</td>\n",
              "      <td>6</td>\n",
              "      <td>2.76</td>\n",
              "      <td>3.83</td>\n",
              "      <td>72.22</td>\n",
              "      <td>9</td>\n",
              "    </tr>\n",
              "    <tr>\n",
              "      <th>3</th>\n",
              "      <td>25 January</td>\n",
              "      <td>1434</td>\n",
              "      <td>42</td>\n",
              "      <td>39</td>\n",
              "      <td>1353</td>\n",
              "      <td>493</td>\n",
              "      <td>16</td>\n",
              "      <td>3</td>\n",
              "      <td>2.93</td>\n",
              "      <td>2.72</td>\n",
              "      <td>107.69</td>\n",
              "      <td>11</td>\n",
              "    </tr>\n",
              "    <tr>\n",
              "      <th>4</th>\n",
              "      <td>26 January</td>\n",
              "      <td>2118</td>\n",
              "      <td>56</td>\n",
              "      <td>52</td>\n",
              "      <td>2010</td>\n",
              "      <td>684</td>\n",
              "      <td>14</td>\n",
              "      <td>13</td>\n",
              "      <td>2.64</td>\n",
              "      <td>2.46</td>\n",
              "      <td>107.69</td>\n",
              "      <td>13</td>\n",
              "    </tr>\n",
              "  </tbody>\n",
              "</table>\n",
              "</div>"
            ],
            "text/plain": [
              "         Date  Confirmed  ...  Deaths / 100 Recovered  No. of countries\n",
              "0  22 January        555  ...                   60.71                 6\n",
              "1  23 January        654  ...                   60.00                 8\n",
              "2  24 January        941  ...                   72.22                 9\n",
              "3  25 January       1434  ...                  107.69                11\n",
              "4  26 January       2118  ...                  107.69                13\n",
              "\n",
              "[5 rows x 12 columns]"
            ]
          },
          "metadata": {
            "tags": []
          },
          "execution_count": 68
        }
      ]
    },
    {
      "cell_type": "code",
      "metadata": {
        "_kg_hide-input": true,
        "_kg_hide-output": false,
        "id": "eupJkZqpdhFy",
        "outputId": "4316cc69-c4e5-4255-9803-02bd6f2a76b1",
        "colab": {
          "base_uri": "https://localhost:8080/",
          "height": 542
        }
      },
      "source": [
        "# import plotly.graph_objects as go\n",
        "from plotly.subplots import make_subplots\n",
        "\n",
        "fig = make_subplots(\n",
        "    rows=2, cols=2,\n",
        "    specs=[[{}, {}],\n",
        "           [{\"colspan\": 2}, None]],\n",
        "    subplot_titles=(\"India\",\"USA\", \"World\"))\n",
        "\n",
        "fig.add_trace(go.Bar(x=dbd_India['Date'], y=dbd_India['Total Confirmed'],\n",
        "                    marker = dict(color=dbd_India['Total Confirmed'], coloraxis=\"coloraxis\")),1, 1)\n",
        "\n",
        "fig.add_trace(go.Bar(x=dbd_USA['date'], y=dbd_USA['positive'],\n",
        "                    marker = dict(color=dbd_USA['positive'], coloraxis=\"coloraxis\")),1, 2)\n",
        "\n",
        "fig.add_trace(go.Bar(x=dbd_World['Date'], y=dbd_World['Confirmed'],\n",
        "                    marker = dict(color = dbd_World['Confirmed'], coloraxis=\"coloraxis\")),2, 1)\n",
        "\n",
        "fig.update_layout(coloraxis=dict(colorscale='Bluered_r'), showlegend=False,title_text=\"Total Confirmed cases(Cumulative)\")\n",
        "\n",
        "fig.update_layout(plot_bgcolor='rgb(230, 230, 230)')\n",
        "fig.show()"
      ],
      "execution_count": 74,
      "outputs": [
        {
          "output_type": "display_data",
          "data": {
            "text/html": [
              "<html>\n",
              "<head><meta charset=\"utf-8\" /></head>\n",
              "<body>\n",
              "    <div>\n",
              "            <script src=\"https://cdnjs.cloudflare.com/ajax/libs/mathjax/2.7.5/MathJax.js?config=TeX-AMS-MML_SVG\"></script><script type=\"text/javascript\">if (window.MathJax) {MathJax.Hub.Config({SVG: {font: \"STIX-Web\"}});}</script>\n",
              "                <script type=\"text/javascript\">window.PlotlyConfig = {MathJaxConfig: 'local'};</script>\n",
              "        <script src=\"https://cdn.plot.ly/plotly-latest.min.js\"></script>    \n",
              "            <div id=\"eaf9ae1e-544b-4a0d-a705-21c524b387aa\" class=\"plotly-graph-div\" style=\"height:525px; width:100%;\"></div>\n",
              "            <script type=\"text/javascript\">\n",
              "                \n",
              "                    window.PLOTLYENV=window.PLOTLYENV || {};\n",
              "                    \n",
              "                if (document.getElementById(\"eaf9ae1e-544b-4a0d-a705-21c524b387aa\")) {\n",
              "                    Plotly.newPlot(\n",
              "                        'eaf9ae1e-544b-4a0d-a705-21c524b387aa',\n",
              "                        [{\"marker\": {\"color\": [1, 1, 1, 2, 3, 3, 3, 3, 3, 3, 3, 3, 3, 3, 3, 3, 3, 3, 3, 3, 3, 3, 3, 3, 3, 3, 3, 3, 3, 3, 3, 3, 5, 6, 28, 30, 31, 34, 39, 48, 63, 71, 81, 91, 102, 112, 126, 146, 171, 198, 256, 334, 403, 497, 571, 657, 730, 883, 1019, 1139, 1326, 1635, 2059, 2545, 3105, 3684, 4293, 4777, 5350, 5915, 6728, 7599, 8453, 9211, 10454, 11485, 12371, 13432, 14354, 15725, 17305, 18544, 20081, 21373, 23040, 24448, 26283, 27890, 29458, 31360, 33065, 34866, 37262, 39826, 42778, 46434, 49405, 53007, 56351, 59690, 62865, 67176, 70768, 74330, 78056, 82047, 85855, 90649, 95698, 100326, 106480, 112200, 118223, 124759, 131424, 138537, 144951, 150858, 158104, 165358, 173496, 181860, 190649, 198372, 207187, 216876, 226723, 236195, 246603, 257485, 266021, 276002, 287158, 298293, 309599, 321638, 333043, 343075, 354161, 367269, 381098, 395838, 411753, 426904, 440464, 456120, 472988, 491193, 509448, 529590, 549200, 567539, 585795, 605224, 627171, 649889, 673907, 697849, 720349, 743496, 769057, 794847, 822609, 850366, 879472, 907650, 937567, 970174, 1005642, 1040462, 1077873, 1118108, 1154914, 1194084, 1239685, 1288128, 1337016, 1387088, 1436020, 1482504, 1532135, 1584614, 1639582, 1697068, 1752185, 1804857, 1855345, 1906627, 1963253, 2025423], \"coloraxis\": \"coloraxis\"}, \"type\": \"bar\", \"x\": [\"30 January \", \"31 January \", \"01 February \", \"02 February \", \"03 February \", \"04 February \", \"05 February \", \"06 February \", \"07 February \", \"08 February \", \"09 February \", \"10 February \", \"11 February \", \"12 February \", \"13 February \", \"14 February \", \"15 February \", \"16 February \", \"17 February \", \"18 February \", \"19 February \", \"20 February \", \"21 February \", \"22 February \", \"23 February \", \"24 February \", \"25 February \", \"26 February \", \"27 February \", \"28 February \", \"29 February \", \"01 March \", \"02 March \", \"03 March \", \"04 March \", \"05 March \", \"06 March \", \"07 March \", \"08 March \", \"09 March \", \"10 March \", \"11 March \", \"12 March \", \"13 March \", \"14 March \", \"15 March \", \"16 March \", \"17 March \", \"18 March \", \"19 March \", \"20 March \", \"21 March \", \"22 March \", \"23 March \", \"24 March \", \"25 March \", \"26 March \", \"27 March \", \"28 March \", \"29 March \", \"30 March \", \"31 March \", \"01 April \", \"02 April \", \"03 April \", \"04 April \", \"05 April \", \"06 April \", \"07 April \", \"08 April \", \"09 April \", \"10 April \", \"11 April \", \"12 April \", \"13 April \", \"14 April \", \"15 April \", \"16 April \", \"17 April \", \"18 April \", \"19 April \", \"20 April \", \"21 April \", \"22 April \", \"23 April \", \"24 April \", \"25 April \", \"26 April \", \"27 April \", \"28 April \", \"29 April \", \"30 April \", \"01 May \", \"02 May \", \"03 May \", \"04 May \", \"05 May \", \"06 May \", \"07 May \", \"08 May \", \"09 May \", \"10 May \", \"11 May \", \"12 May \", \"13 May \", \"14 May \", \"15 May \", \"16 May \", \"17 May \", \"18 May \", \"19 May \", \"20 May \", \"21 May \", \"22 May \", \"23 May \", \"24 May \", \"25 May \", \"26 May \", \"27 May \", \"28 May \", \"29 May \", \"30 May \", \"31 May \", \"01 June \", \"02 June \", \"03 June \", \"04 June \", \"05 June \", \"06 June \", \"07 June \", \"08 June \", \"09 June \", \"10 June \", \"11 June \", \"12 June \", \"13 June \", \"14 June \", \"15 June \", \"16 June \", \"17 June \", \"18 June \", \"19 June \", \"20 June \", \"21 June \", \"22 June \", \"23 June \", \"24 June \", \"25 June \", \"26 June \", \"27 June \", \"28 June \", \"29 June \", \"30 June \", \"01 July \", \"02 July \", \"03 July \", \"04 July \", \"05 July \", \"06 July \", \"07 July \", \"08 July \", \"09 July \", \"10 July \", \"11 July \", \"12 July \", \"13 July \", \"14 July \", \"15 July \", \"16 July \", \"17 July \", \"18 July \", \"19 July \", \"20 July \", \"21 July \", \"22 July \", \"23 July \", \"24 July \", \"25 July \", \"26 July \", \"27 July \", \"28 July \", \"29 July \", \"30 July \", \"31 July \", \"01 August \", \"02 August \", \"03 August \", \"04 August \", \"05 August \", \"06 August \"], \"xaxis\": \"x\", \"y\": [1, 1, 1, 2, 3, 3, 3, 3, 3, 3, 3, 3, 3, 3, 3, 3, 3, 3, 3, 3, 3, 3, 3, 3, 3, 3, 3, 3, 3, 3, 3, 3, 5, 6, 28, 30, 31, 34, 39, 48, 63, 71, 81, 91, 102, 112, 126, 146, 171, 198, 256, 334, 403, 497, 571, 657, 730, 883, 1019, 1139, 1326, 1635, 2059, 2545, 3105, 3684, 4293, 4777, 5350, 5915, 6728, 7599, 8453, 9211, 10454, 11485, 12371, 13432, 14354, 15725, 17305, 18544, 20081, 21373, 23040, 24448, 26283, 27890, 29458, 31360, 33065, 34866, 37262, 39826, 42778, 46434, 49405, 53007, 56351, 59690, 62865, 67176, 70768, 74330, 78056, 82047, 85855, 90649, 95698, 100326, 106480, 112200, 118223, 124759, 131424, 138537, 144951, 150858, 158104, 165358, 173496, 181860, 190649, 198372, 207187, 216876, 226723, 236195, 246603, 257485, 266021, 276002, 287158, 298293, 309599, 321638, 333043, 343075, 354161, 367269, 381098, 395838, 411753, 426904, 440464, 456120, 472988, 491193, 509448, 529590, 549200, 567539, 585795, 605224, 627171, 649889, 673907, 697849, 720349, 743496, 769057, 794847, 822609, 850366, 879472, 907650, 937567, 970174, 1005642, 1040462, 1077873, 1118108, 1154914, 1194084, 1239685, 1288128, 1337016, 1387088, 1436020, 1482504, 1532135, 1584614, 1639582, 1697068, 1752185, 1804857, 1855345, 1906627, 1963253, 2025423], \"yaxis\": \"y\"}, {\"marker\": {\"color\": [18, 50, 94, 142, 281, 388, 500, 678, 876, 1168, 1555, 2064, 2735, 3807, 4731, 6022, 7770, 10358, 13447, 18098, 24245, 31038, 40163, 51602, 62371, 75279, 92999, 112127, 131819, 151400, 173442, 198295, 224086, 252146, 284222, 317434, 342934, 371936, 402821, 433416, 467911, 502294, 532800, 560563, 585763, 611472, 641781, 672760, 704773, 732679, 760066, 785965, 812326, 841281, 873091, 907325, 943196, 970508, 993206, 1018489, 1044796, 1074764, 1107793, 1136941, 1162648, 1185294, 1207740, 1232836, 1260396, 1287613, 1312831, 1333894, 1352265, 1375162, 1396434, 1423232, 1447916, 1472594, 1492628, 1513644, 1534543, 1555861, 1582535, 1606982, 1628513, 1648560, 1667251, 1684081, 1703518, 1726148, 1749722, 1773404, 1794962, 1815444, 1835554, 1855946, 1876826, 1900226, 1923290, 1942030, 1959239, 1976551, 1997445, 2019598, 2043195, 2068571, 2089970, 2108600, 2132097, 2156098, 2183844, 2215315, 2247609, 2275537, 2302818, 2336265, 2375337, 2414977, 2459520, 2502684, 2544254, 2584067, 2631931, 2682912, 2736997, 2790945, 2845283, 2890895, 2932813, 2984541, 3047213, 3106370, 3173216, 3236111, 3297423, 3355514, 3418243, 3484040, 3555076, 3631918, 3696869, 3761129, 3818170, 3882100, 3951433, 4022985, 4098221, 4162962, 4223962, 4279294, 4338297, 4402705, 4472123, 4539746, 4600847, 4647659, 4697372, 4749238, 4801562, 4855749, 4917094, 4970806, 5021433, 5063522, 5119223, 5175357, 5227116, 5282752, 5338901, 5381388, 5419268, 5460063, 5505018, 5548776, 5595337, 5641573, 5679139, 5713782, 5750161, 5794214, 5838198, 5884746, 5929247, 5968748, 6000154, 6042587, 6073190, 6117904, 6169495, 6214400, 6247517, 6276199, 6298422, 6329405, 6366986, 6411913, 6454000, 6488453, 6522317, 6557762, 6597783, 6641341, 6688827, 6734366, 6770661, 6810133, 6859572, 6898139, 6941911, 6997437, 7045170, 7080459], \"coloraxis\": \"coloraxis\"}, \"type\": \"bar\", \"x\": [\"29 February\", \"01 March\", \"02 March\", \"03 March\", \"04 March\", \"05 March\", \"06 March\", \"07 March\", \"08 March\", \"09 March\", \"10 March\", \"11 March\", \"12 March\", \"13 March\", \"14 March\", \"15 March\", \"16 March\", \"17 March\", \"18 March\", \"19 March\", \"20 March\", \"21 March\", \"22 March\", \"23 March\", \"24 March\", \"25 March\", \"26 March\", \"27 March\", \"28 March\", \"29 March\", \"30 March\", \"31 March\", \"01 April\", \"02 April\", \"03 April\", \"04 April\", \"05 April\", \"06 April\", \"07 April\", \"08 April\", \"09 April\", \"10 April\", \"11 April\", \"12 April\", \"13 April\", \"14 April\", \"15 April\", \"16 April\", \"17 April\", \"18 April\", \"19 April\", \"20 April\", \"21 April\", \"22 April\", \"23 April\", \"24 April\", \"25 April\", \"26 April\", \"27 April\", \"28 April\", \"29 April\", \"30 April\", \"01 May\", \"02 May\", \"03 May\", \"04 May\", \"05 May\", \"06 May\", \"07 May\", \"08 May\", \"09 May\", \"10 May\", \"11 May\", \"12 May\", \"13 May\", \"14 May\", \"15 May\", \"16 May\", \"17 May\", \"18 May\", \"19 May\", \"20 May\", \"21 May\", \"22 May\", \"23 May\", \"24 May\", \"25 May\", \"26 May\", \"27 May\", \"28 May\", \"29 May\", \"30 May\", \"31 May\", \"01 June\", \"02 June\", \"03 June\", \"04 June\", \"05 June\", \"06 June\", \"07 June\", \"08 June\", \"09 June\", \"10 June\", \"11 June\", \"12 June\", \"13 June\", \"14 June\", \"15 June\", \"16 June\", \"17 June\", \"18 June\", \"19 June\", \"20 June\", \"21 June\", \"22 June\", \"23 June\", \"24 June\", \"25 June\", \"26 June\", \"27 June\", \"28 June\", \"29 June\", \"30 June\", \"01 July\", \"02 July\", \"03 July\", \"04 July\", \"05 July\", \"06 July\", \"07 July\", \"08 July\", \"09 July\", \"10 July\", \"11 July\", \"12 July\", \"13 July\", \"14 July\", \"15 July\", \"16 July\", \"17 July\", \"18 July\", \"19 July\", \"20 July\", \"21 July\", \"22 July\", \"23 July\", \"24 July\", \"25 July\", \"26 July\", \"27 July\", \"28 July\", \"29 July\", \"30 July\", \"31 July\", \"01 August\", \"02 August\", \"03 August\", \"04 August\", \"05 August\", \"06 August\", \"07 August\", \"08 August\", \"09 August\", \"10 August\", \"11 August\", \"12 August\", \"13 August\", \"14 August\", \"15 August\", \"16 August\", \"17 August\", \"18 August\", \"19 August\", \"20 August\", \"21 August\", \"22 August\", \"23 August\", \"24 August\", \"25 August\", \"26 August\", \"27 August\", \"28 August\", \"29 August\", \"30 August\", \"31 August\", \"01 September\", \"02 September\", \"03 September\", \"04 September\", \"05 September\", \"06 September\", \"07 September\", \"08 September\", \"09 September\", \"10 September\", \"11 September\", \"12 September\", \"13 September\", \"14 September\", \"15 September\", \"16 September\", \"17 September\", \"18 September\", \"19 September\", \"20 September\", \"21 September\", \"22 September\", \"23 September\", \"24 September\", \"25 September\", \"26 September\", \"27 September\"], \"xaxis\": \"x2\", \"y\": [18, 50, 94, 142, 281, 388, 500, 678, 876, 1168, 1555, 2064, 2735, 3807, 4731, 6022, 7770, 10358, 13447, 18098, 24245, 31038, 40163, 51602, 62371, 75279, 92999, 112127, 131819, 151400, 173442, 198295, 224086, 252146, 284222, 317434, 342934, 371936, 402821, 433416, 467911, 502294, 532800, 560563, 585763, 611472, 641781, 672760, 704773, 732679, 760066, 785965, 812326, 841281, 873091, 907325, 943196, 970508, 993206, 1018489, 1044796, 1074764, 1107793, 1136941, 1162648, 1185294, 1207740, 1232836, 1260396, 1287613, 1312831, 1333894, 1352265, 1375162, 1396434, 1423232, 1447916, 1472594, 1492628, 1513644, 1534543, 1555861, 1582535, 1606982, 1628513, 1648560, 1667251, 1684081, 1703518, 1726148, 1749722, 1773404, 1794962, 1815444, 1835554, 1855946, 1876826, 1900226, 1923290, 1942030, 1959239, 1976551, 1997445, 2019598, 2043195, 2068571, 2089970, 2108600, 2132097, 2156098, 2183844, 2215315, 2247609, 2275537, 2302818, 2336265, 2375337, 2414977, 2459520, 2502684, 2544254, 2584067, 2631931, 2682912, 2736997, 2790945, 2845283, 2890895, 2932813, 2984541, 3047213, 3106370, 3173216, 3236111, 3297423, 3355514, 3418243, 3484040, 3555076, 3631918, 3696869, 3761129, 3818170, 3882100, 3951433, 4022985, 4098221, 4162962, 4223962, 4279294, 4338297, 4402705, 4472123, 4539746, 4600847, 4647659, 4697372, 4749238, 4801562, 4855749, 4917094, 4970806, 5021433, 5063522, 5119223, 5175357, 5227116, 5282752, 5338901, 5381388, 5419268, 5460063, 5505018, 5548776, 5595337, 5641573, 5679139, 5713782, 5750161, 5794214, 5838198, 5884746, 5929247, 5968748, 6000154, 6042587, 6073190, 6117904, 6169495, 6214400, 6247517, 6276199, 6298422, 6329405, 6366986, 6411913, 6454000, 6488453, 6522317, 6557762, 6597783, 6641341, 6688827, 6734366, 6770661, 6810133, 6859572, 6898139, 6941911, 6997437, 7045170, 7080459], \"yaxis\": \"y2\"}, {\"marker\": {\"color\": [555, 654, 941, 1434, 2118, 2927, 5578, 6166, 8234, 9927, 12038, 16787, 19887, 23898, 27643, 30802, 34334, 37068, 40095, 42633, 44675, 46561, 60206, 66690, 68765, 70879, 72815, 74609, 75030, 75577, 76206, 77967, 78290, 78854, 79707, 80670, 82034, 83411, 85306, 87690, 89664, 92241, 94540, 97331, 101274, 105312, 109266, 113166, 118190, 125853, 131603, 146008, 157114, 168260, 182919, 198757, 218343, 246261, 275869, 308175, 341585, 383750, 424889, 475706, 538666, 603066, 670723, 730300, 794939, 871355, 947569, 1028968, 1112123, 1192586, 1264304, 1336976, 1413849, 1497624, 1584249, 1671907, 1748872, 1845653, 1915247, 1985174, 2066003, 2162715, 2250439, 2324396, 2404919, 2478258, 2553508, 2630314, 2719327, 2806267, 2891199, 2964146, 3032850, 3108149, 3185195, 3268876, 3355922, 3437608, 3515244, 3591321, 3671310, 3761332, 3850418, 3941935, 4027781, 4104027, 4180268, 4263867, 4348619, 4445724, 4542073, 4637485, 4715994, 4804278, 4900702, 5003730, 5110064, 5216964, 5322253, 5417579, 5504542, 5597064, 5699664, 5818978, 5940145, 6077978, 6185530, 6280725, 6401536, 6520924, 6647861, 6778724, 6914666, 7026925, 7129150, 7253492, 7387517, 7525631, 7654725, 7790735, 7924156, 8043794, 8185197, 8327050, 8466978, 8647784, 8805336, 8933875, 9071733, 9237071, 9408254, 9586141, 9777487, 9955597, 10117227, 10275799, 10449697, 10667386, 10875091, 11078585, 11272152, 11454847, 11622190, 11833034, 12044836, 12273063, 12505640, 12721968, 12914636, 13107415, 13328867, 13559984, 13812525, 14054563, 14292198, 14506845, 14713623, 14947078, 15227725, 15510481, 15791645, 16047190, 16251796, 16480485], \"coloraxis\": \"coloraxis\"}, \"type\": \"bar\", \"x\": [\"22 January\", \"23 January\", \"24 January\", \"25 January\", \"26 January\", \"27 January\", \"28 January\", \"29 January\", \"30 January\", \"31 January\", \"01 February\", \"02 February\", \"03 February\", \"04 February\", \"05 February\", \"06 February\", \"07 February\", \"08 February\", \"09 February\", \"10 February\", \"11 February\", \"12 February\", \"13 February\", \"14 February\", \"15 February\", \"16 February\", \"17 February\", \"18 February\", \"19 February\", \"20 February\", \"21 February\", \"22 February\", \"23 February\", \"24 February\", \"25 February\", \"26 February\", \"27 February\", \"28 February\", \"29 February\", \"01 March\", \"02 March\", \"03 March\", \"04 March\", \"05 March\", \"06 March\", \"07 March\", \"08 March\", \"09 March\", \"10 March\", \"11 March\", \"12 March\", \"13 March\", \"14 March\", \"15 March\", \"16 March\", \"17 March\", \"18 March\", \"19 March\", \"20 March\", \"21 March\", \"22 March\", \"23 March\", \"24 March\", \"25 March\", \"26 March\", \"27 March\", \"28 March\", \"29 March\", \"30 March\", \"31 March\", \"01 April\", \"02 April\", \"03 April\", \"04 April\", \"05 April\", \"06 April\", \"07 April\", \"08 April\", \"09 April\", \"10 April\", \"11 April\", \"12 April\", \"13 April\", \"14 April\", \"15 April\", \"16 April\", \"17 April\", \"18 April\", \"19 April\", \"20 April\", \"21 April\", \"22 April\", \"23 April\", \"24 April\", \"25 April\", \"26 April\", \"27 April\", \"28 April\", \"29 April\", \"30 April\", \"01 May\", \"02 May\", \"03 May\", \"04 May\", \"05 May\", \"06 May\", \"07 May\", \"08 May\", \"09 May\", \"10 May\", \"11 May\", \"12 May\", \"13 May\", \"14 May\", \"15 May\", \"16 May\", \"17 May\", \"18 May\", \"19 May\", \"20 May\", \"21 May\", \"22 May\", \"23 May\", \"24 May\", \"25 May\", \"26 May\", \"27 May\", \"28 May\", \"29 May\", \"30 May\", \"31 May\", \"01 June\", \"02 June\", \"03 June\", \"04 June\", \"05 June\", \"06 June\", \"07 June\", \"08 June\", \"09 June\", \"10 June\", \"11 June\", \"12 June\", \"13 June\", \"14 June\", \"15 June\", \"16 June\", \"17 June\", \"18 June\", \"19 June\", \"20 June\", \"21 June\", \"22 June\", \"23 June\", \"24 June\", \"25 June\", \"26 June\", \"27 June\", \"28 June\", \"29 June\", \"30 June\", \"01 July\", \"02 July\", \"03 July\", \"04 July\", \"05 July\", \"06 July\", \"07 July\", \"08 July\", \"09 July\", \"10 July\", \"11 July\", \"12 July\", \"13 July\", \"14 July\", \"15 July\", \"16 July\", \"17 July\", \"18 July\", \"19 July\", \"20 July\", \"21 July\", \"22 July\", \"23 July\", \"24 July\", \"25 July\", \"26 July\", \"27 July\"], \"xaxis\": \"x3\", \"y\": [555, 654, 941, 1434, 2118, 2927, 5578, 6166, 8234, 9927, 12038, 16787, 19887, 23898, 27643, 30802, 34334, 37068, 40095, 42633, 44675, 46561, 60206, 66690, 68765, 70879, 72815, 74609, 75030, 75577, 76206, 77967, 78290, 78854, 79707, 80670, 82034, 83411, 85306, 87690, 89664, 92241, 94540, 97331, 101274, 105312, 109266, 113166, 118190, 125853, 131603, 146008, 157114, 168260, 182919, 198757, 218343, 246261, 275869, 308175, 341585, 383750, 424889, 475706, 538666, 603066, 670723, 730300, 794939, 871355, 947569, 1028968, 1112123, 1192586, 1264304, 1336976, 1413849, 1497624, 1584249, 1671907, 1748872, 1845653, 1915247, 1985174, 2066003, 2162715, 2250439, 2324396, 2404919, 2478258, 2553508, 2630314, 2719327, 2806267, 2891199, 2964146, 3032850, 3108149, 3185195, 3268876, 3355922, 3437608, 3515244, 3591321, 3671310, 3761332, 3850418, 3941935, 4027781, 4104027, 4180268, 4263867, 4348619, 4445724, 4542073, 4637485, 4715994, 4804278, 4900702, 5003730, 5110064, 5216964, 5322253, 5417579, 5504542, 5597064, 5699664, 5818978, 5940145, 6077978, 6185530, 6280725, 6401536, 6520924, 6647861, 6778724, 6914666, 7026925, 7129150, 7253492, 7387517, 7525631, 7654725, 7790735, 7924156, 8043794, 8185197, 8327050, 8466978, 8647784, 8805336, 8933875, 9071733, 9237071, 9408254, 9586141, 9777487, 9955597, 10117227, 10275799, 10449697, 10667386, 10875091, 11078585, 11272152, 11454847, 11622190, 11833034, 12044836, 12273063, 12505640, 12721968, 12914636, 13107415, 13328867, 13559984, 13812525, 14054563, 14292198, 14506845, 14713623, 14947078, 15227725, 15510481, 15791645, 16047190, 16251796, 16480485], \"yaxis\": \"y3\"}],\n",
              "                        {\"annotations\": [{\"font\": {\"size\": 16}, \"showarrow\": false, \"text\": \"India\", \"x\": 0.225, \"xanchor\": \"center\", \"xref\": \"paper\", \"y\": 1.0, \"yanchor\": \"bottom\", \"yref\": \"paper\"}, {\"font\": {\"size\": 16}, \"showarrow\": false, \"text\": \"USA\", \"x\": 0.775, \"xanchor\": \"center\", \"xref\": \"paper\", \"y\": 1.0, \"yanchor\": \"bottom\", \"yref\": \"paper\"}, {\"font\": {\"size\": 16}, \"showarrow\": false, \"text\": \"World\", \"x\": 0.5, \"xanchor\": \"center\", \"xref\": \"paper\", \"y\": 0.375, \"yanchor\": \"bottom\", \"yref\": \"paper\"}], \"coloraxis\": {\"colorscale\": [[0.0, \"rgb(255,0,0)\"], [1.0, \"rgb(0,0,255)\"]]}, \"plot_bgcolor\": \"rgb(230, 230, 230)\", \"showlegend\": false, \"template\": {\"data\": {\"bar\": [{\"error_x\": {\"color\": \"#2a3f5f\"}, \"error_y\": {\"color\": \"#2a3f5f\"}, \"marker\": {\"line\": {\"color\": \"#E5ECF6\", \"width\": 0.5}}, \"type\": \"bar\"}], \"barpolar\": [{\"marker\": {\"line\": {\"color\": \"#E5ECF6\", \"width\": 0.5}}, \"type\": \"barpolar\"}], \"carpet\": [{\"aaxis\": {\"endlinecolor\": \"#2a3f5f\", \"gridcolor\": \"white\", \"linecolor\": \"white\", \"minorgridcolor\": \"white\", \"startlinecolor\": \"#2a3f5f\"}, \"baxis\": {\"endlinecolor\": \"#2a3f5f\", \"gridcolor\": \"white\", \"linecolor\": \"white\", \"minorgridcolor\": \"white\", \"startlinecolor\": \"#2a3f5f\"}, \"type\": \"carpet\"}], \"choropleth\": [{\"colorbar\": {\"outlinewidth\": 0, \"ticks\": \"\"}, \"type\": \"choropleth\"}], \"contour\": [{\"colorbar\": {\"outlinewidth\": 0, \"ticks\": \"\"}, \"colorscale\": [[0.0, \"#0d0887\"], [0.1111111111111111, \"#46039f\"], [0.2222222222222222, \"#7201a8\"], [0.3333333333333333, \"#9c179e\"], [0.4444444444444444, \"#bd3786\"], [0.5555555555555556, \"#d8576b\"], [0.6666666666666666, \"#ed7953\"], [0.7777777777777778, \"#fb9f3a\"], [0.8888888888888888, \"#fdca26\"], [1.0, \"#f0f921\"]], \"type\": \"contour\"}], \"contourcarpet\": [{\"colorbar\": {\"outlinewidth\": 0, \"ticks\": \"\"}, \"type\": \"contourcarpet\"}], \"heatmap\": [{\"colorbar\": {\"outlinewidth\": 0, \"ticks\": \"\"}, \"colorscale\": [[0.0, \"#0d0887\"], [0.1111111111111111, \"#46039f\"], [0.2222222222222222, \"#7201a8\"], [0.3333333333333333, \"#9c179e\"], [0.4444444444444444, \"#bd3786\"], [0.5555555555555556, \"#d8576b\"], [0.6666666666666666, \"#ed7953\"], [0.7777777777777778, \"#fb9f3a\"], [0.8888888888888888, \"#fdca26\"], [1.0, \"#f0f921\"]], \"type\": \"heatmap\"}], \"heatmapgl\": [{\"colorbar\": {\"outlinewidth\": 0, \"ticks\": \"\"}, \"colorscale\": [[0.0, \"#0d0887\"], [0.1111111111111111, \"#46039f\"], [0.2222222222222222, \"#7201a8\"], [0.3333333333333333, \"#9c179e\"], [0.4444444444444444, \"#bd3786\"], [0.5555555555555556, \"#d8576b\"], [0.6666666666666666, \"#ed7953\"], [0.7777777777777778, \"#fb9f3a\"], [0.8888888888888888, \"#fdca26\"], [1.0, \"#f0f921\"]], \"type\": \"heatmapgl\"}], \"histogram\": [{\"marker\": {\"colorbar\": {\"outlinewidth\": 0, \"ticks\": \"\"}}, \"type\": \"histogram\"}], \"histogram2d\": [{\"colorbar\": {\"outlinewidth\": 0, \"ticks\": \"\"}, \"colorscale\": [[0.0, \"#0d0887\"], [0.1111111111111111, \"#46039f\"], [0.2222222222222222, \"#7201a8\"], [0.3333333333333333, \"#9c179e\"], [0.4444444444444444, \"#bd3786\"], [0.5555555555555556, \"#d8576b\"], [0.6666666666666666, \"#ed7953\"], [0.7777777777777778, \"#fb9f3a\"], [0.8888888888888888, \"#fdca26\"], [1.0, \"#f0f921\"]], \"type\": \"histogram2d\"}], \"histogram2dcontour\": [{\"colorbar\": {\"outlinewidth\": 0, \"ticks\": \"\"}, \"colorscale\": [[0.0, \"#0d0887\"], [0.1111111111111111, \"#46039f\"], [0.2222222222222222, \"#7201a8\"], [0.3333333333333333, \"#9c179e\"], [0.4444444444444444, \"#bd3786\"], [0.5555555555555556, \"#d8576b\"], [0.6666666666666666, \"#ed7953\"], [0.7777777777777778, \"#fb9f3a\"], [0.8888888888888888, \"#fdca26\"], [1.0, \"#f0f921\"]], \"type\": \"histogram2dcontour\"}], \"mesh3d\": [{\"colorbar\": {\"outlinewidth\": 0, \"ticks\": \"\"}, \"type\": \"mesh3d\"}], \"parcoords\": [{\"line\": {\"colorbar\": {\"outlinewidth\": 0, \"ticks\": \"\"}}, \"type\": \"parcoords\"}], \"pie\": [{\"automargin\": true, \"type\": \"pie\"}], \"scatter\": [{\"marker\": {\"colorbar\": {\"outlinewidth\": 0, \"ticks\": \"\"}}, \"type\": \"scatter\"}], \"scatter3d\": [{\"line\": {\"colorbar\": {\"outlinewidth\": 0, \"ticks\": \"\"}}, \"marker\": {\"colorbar\": {\"outlinewidth\": 0, \"ticks\": \"\"}}, \"type\": \"scatter3d\"}], \"scattercarpet\": [{\"marker\": {\"colorbar\": {\"outlinewidth\": 0, \"ticks\": \"\"}}, \"type\": \"scattercarpet\"}], \"scattergeo\": [{\"marker\": {\"colorbar\": {\"outlinewidth\": 0, \"ticks\": \"\"}}, \"type\": \"scattergeo\"}], \"scattergl\": [{\"marker\": {\"colorbar\": {\"outlinewidth\": 0, \"ticks\": \"\"}}, \"type\": \"scattergl\"}], \"scattermapbox\": [{\"marker\": {\"colorbar\": {\"outlinewidth\": 0, \"ticks\": \"\"}}, \"type\": \"scattermapbox\"}], \"scatterpolar\": [{\"marker\": {\"colorbar\": {\"outlinewidth\": 0, \"ticks\": \"\"}}, \"type\": \"scatterpolar\"}], \"scatterpolargl\": [{\"marker\": {\"colorbar\": {\"outlinewidth\": 0, \"ticks\": \"\"}}, \"type\": \"scatterpolargl\"}], \"scatterternary\": [{\"marker\": {\"colorbar\": {\"outlinewidth\": 0, \"ticks\": \"\"}}, \"type\": \"scatterternary\"}], \"surface\": [{\"colorbar\": {\"outlinewidth\": 0, \"ticks\": \"\"}, \"colorscale\": [[0.0, \"#0d0887\"], [0.1111111111111111, \"#46039f\"], [0.2222222222222222, \"#7201a8\"], [0.3333333333333333, \"#9c179e\"], [0.4444444444444444, \"#bd3786\"], [0.5555555555555556, \"#d8576b\"], [0.6666666666666666, \"#ed7953\"], [0.7777777777777778, \"#fb9f3a\"], [0.8888888888888888, \"#fdca26\"], [1.0, \"#f0f921\"]], \"type\": \"surface\"}], \"table\": [{\"cells\": {\"fill\": {\"color\": \"#EBF0F8\"}, \"line\": {\"color\": \"white\"}}, \"header\": {\"fill\": {\"color\": \"#C8D4E3\"}, \"line\": {\"color\": \"white\"}}, \"type\": \"table\"}]}, \"layout\": {\"annotationdefaults\": {\"arrowcolor\": \"#2a3f5f\", \"arrowhead\": 0, \"arrowwidth\": 1}, \"coloraxis\": {\"colorbar\": {\"outlinewidth\": 0, \"ticks\": \"\"}}, \"colorscale\": {\"diverging\": [[0, \"#8e0152\"], [0.1, \"#c51b7d\"], [0.2, \"#de77ae\"], [0.3, \"#f1b6da\"], [0.4, \"#fde0ef\"], [0.5, \"#f7f7f7\"], [0.6, \"#e6f5d0\"], [0.7, \"#b8e186\"], [0.8, \"#7fbc41\"], [0.9, \"#4d9221\"], [1, \"#276419\"]], \"sequential\": [[0.0, \"#0d0887\"], [0.1111111111111111, \"#46039f\"], [0.2222222222222222, \"#7201a8\"], [0.3333333333333333, \"#9c179e\"], [0.4444444444444444, \"#bd3786\"], [0.5555555555555556, \"#d8576b\"], [0.6666666666666666, \"#ed7953\"], [0.7777777777777778, \"#fb9f3a\"], [0.8888888888888888, \"#fdca26\"], [1.0, \"#f0f921\"]], \"sequentialminus\": [[0.0, \"#0d0887\"], [0.1111111111111111, \"#46039f\"], [0.2222222222222222, \"#7201a8\"], [0.3333333333333333, \"#9c179e\"], [0.4444444444444444, \"#bd3786\"], [0.5555555555555556, \"#d8576b\"], [0.6666666666666666, \"#ed7953\"], [0.7777777777777778, \"#fb9f3a\"], [0.8888888888888888, \"#fdca26\"], [1.0, \"#f0f921\"]]}, \"colorway\": [\"#636efa\", \"#EF553B\", \"#00cc96\", \"#ab63fa\", \"#FFA15A\", \"#19d3f3\", \"#FF6692\", \"#B6E880\", \"#FF97FF\", \"#FECB52\"], \"font\": {\"color\": \"#2a3f5f\"}, \"geo\": {\"bgcolor\": \"white\", \"lakecolor\": \"white\", \"landcolor\": \"#E5ECF6\", \"showlakes\": true, \"showland\": true, \"subunitcolor\": \"white\"}, \"hoverlabel\": {\"align\": \"left\"}, \"hovermode\": \"closest\", \"mapbox\": {\"style\": \"light\"}, \"paper_bgcolor\": \"white\", \"plot_bgcolor\": \"#E5ECF6\", \"polar\": {\"angularaxis\": {\"gridcolor\": \"white\", \"linecolor\": \"white\", \"ticks\": \"\"}, \"bgcolor\": \"#E5ECF6\", \"radialaxis\": {\"gridcolor\": \"white\", \"linecolor\": \"white\", \"ticks\": \"\"}}, \"scene\": {\"xaxis\": {\"backgroundcolor\": \"#E5ECF6\", \"gridcolor\": \"white\", \"gridwidth\": 2, \"linecolor\": \"white\", \"showbackground\": true, \"ticks\": \"\", \"zerolinecolor\": \"white\"}, \"yaxis\": {\"backgroundcolor\": \"#E5ECF6\", \"gridcolor\": \"white\", \"gridwidth\": 2, \"linecolor\": \"white\", \"showbackground\": true, \"ticks\": \"\", \"zerolinecolor\": \"white\"}, \"zaxis\": {\"backgroundcolor\": \"#E5ECF6\", \"gridcolor\": \"white\", \"gridwidth\": 2, \"linecolor\": \"white\", \"showbackground\": true, \"ticks\": \"\", \"zerolinecolor\": \"white\"}}, \"shapedefaults\": {\"line\": {\"color\": \"#2a3f5f\"}}, \"ternary\": {\"aaxis\": {\"gridcolor\": \"white\", \"linecolor\": \"white\", \"ticks\": \"\"}, \"baxis\": {\"gridcolor\": \"white\", \"linecolor\": \"white\", \"ticks\": \"\"}, \"bgcolor\": \"#E5ECF6\", \"caxis\": {\"gridcolor\": \"white\", \"linecolor\": \"white\", \"ticks\": \"\"}}, \"title\": {\"x\": 0.05}, \"xaxis\": {\"automargin\": true, \"gridcolor\": \"white\", \"linecolor\": \"white\", \"ticks\": \"\", \"title\": {\"standoff\": 15}, \"zerolinecolor\": \"white\", \"zerolinewidth\": 2}, \"yaxis\": {\"automargin\": true, \"gridcolor\": \"white\", \"linecolor\": \"white\", \"ticks\": \"\", \"title\": {\"standoff\": 15}, \"zerolinecolor\": \"white\", \"zerolinewidth\": 2}}}, \"title\": {\"text\": \"Total Confirmed cases(Cumulative)\"}, \"xaxis\": {\"anchor\": \"y\", \"domain\": [0.0, 0.45]}, \"xaxis2\": {\"anchor\": \"y2\", \"domain\": [0.55, 1.0]}, \"xaxis3\": {\"anchor\": \"y3\", \"domain\": [0.0, 1.0]}, \"yaxis\": {\"anchor\": \"x\", \"domain\": [0.625, 1.0]}, \"yaxis2\": {\"anchor\": \"x2\", \"domain\": [0.625, 1.0]}, \"yaxis3\": {\"anchor\": \"x3\", \"domain\": [0.0, 0.375]}},\n",
              "                        {\"responsive\": true}\n",
              "                    ).then(function(){\n",
              "                            \n",
              "var gd = document.getElementById('eaf9ae1e-544b-4a0d-a705-21c524b387aa');\n",
              "var x = new MutationObserver(function (mutations, observer) {{\n",
              "        var display = window.getComputedStyle(gd).display;\n",
              "        if (!display || display === 'none') {{\n",
              "            console.log([gd, 'removed!']);\n",
              "            Plotly.purge(gd);\n",
              "            observer.disconnect();\n",
              "        }}\n",
              "}});\n",
              "\n",
              "// Listen for the removal of the full notebook cells\n",
              "var notebookContainer = gd.closest('#notebook-container');\n",
              "if (notebookContainer) {{\n",
              "    x.observe(notebookContainer, {childList: true});\n",
              "}}\n",
              "\n",
              "// Listen for the clearing of the current output cell\n",
              "var outputEl = gd.closest('.output');\n",
              "if (outputEl) {{\n",
              "    x.observe(outputEl, {childList: true});\n",
              "}}\n",
              "\n",
              "                        })\n",
              "                };\n",
              "                \n",
              "            </script>\n",
              "        </div>\n",
              "</body>\n",
              "</html>"
            ]
          },
          "metadata": {
            "tags": []
          }
        }
      ]
    },
    {
      "cell_type": "code",
      "metadata": {
        "id": "FxUI1AFfL9lR"
      },
      "source": [
        "df = pd.read_csv('covid_19_data.csv',parse_dates=['ObservationDate'])\n",
        "df.rename(columns={'ObservationDate':'Date', 'Country/Region':'Country'}, inplace=True)\n",
        "df.drop(['Last Update',\t'SNo'], axis=1, inplace=True)\n",
        "\n",
        "df_confirmed = pd.read_csv(\"time_series_covid_19_confirmed.csv\")\n",
        "df_recovered = pd.read_csv(\"time_series_covid_19_recovered.csv\")\n",
        "df_deaths = pd.read_csv(\"time_series_covid_19_deaths.csv\")\n",
        "\n",
        "df_confirmed.rename(columns={'Country/Region':'Country'}, inplace=True)\n",
        "df_recovered.rename(columns={'Country/Region':'Country'}, inplace=True)\n",
        "df_deaths.rename(columns={'Country/Region':'Country'}, inplace=True)"
      ],
      "execution_count": 76,
      "outputs": []
    },
    {
      "cell_type": "code",
      "metadata": {
        "id": "bdTJxBp0MgcN",
        "outputId": "c2d73e96-96ae-4d1c-927c-7b177475113f",
        "colab": {
          "base_uri": "https://localhost:8080/",
          "height": 204
        }
      },
      "source": [
        "df2 = df.groupby([\"Date\", \"Country\", \"Province/State\"])[['Date', 'Province/State', 'Country', 'Confirmed', 'Deaths', 'Recovered']].sum().reset_index()\n",
        "df2.head()"
      ],
      "execution_count": 83,
      "outputs": [
        {
          "output_type": "execute_result",
          "data": {
            "text/html": [
              "<div>\n",
              "<style scoped>\n",
              "    .dataframe tbody tr th:only-of-type {\n",
              "        vertical-align: middle;\n",
              "    }\n",
              "\n",
              "    .dataframe tbody tr th {\n",
              "        vertical-align: top;\n",
              "    }\n",
              "\n",
              "    .dataframe thead th {\n",
              "        text-align: right;\n",
              "    }\n",
              "</style>\n",
              "<table border=\"1\" class=\"dataframe\">\n",
              "  <thead>\n",
              "    <tr style=\"text-align: right;\">\n",
              "      <th></th>\n",
              "      <th>Date</th>\n",
              "      <th>Country</th>\n",
              "      <th>Province/State</th>\n",
              "      <th>Confirmed</th>\n",
              "      <th>Deaths</th>\n",
              "      <th>Recovered</th>\n",
              "    </tr>\n",
              "  </thead>\n",
              "  <tbody>\n",
              "    <tr>\n",
              "      <th>0</th>\n",
              "      <td>2020-01-22</td>\n",
              "      <td>Hong Kong</td>\n",
              "      <td>Hong Kong</td>\n",
              "      <td>0.0</td>\n",
              "      <td>0.0</td>\n",
              "      <td>0.0</td>\n",
              "    </tr>\n",
              "    <tr>\n",
              "      <th>1</th>\n",
              "      <td>2020-01-22</td>\n",
              "      <td>Macau</td>\n",
              "      <td>Macau</td>\n",
              "      <td>1.0</td>\n",
              "      <td>0.0</td>\n",
              "      <td>0.0</td>\n",
              "    </tr>\n",
              "    <tr>\n",
              "      <th>2</th>\n",
              "      <td>2020-01-22</td>\n",
              "      <td>Mainland China</td>\n",
              "      <td>Anhui</td>\n",
              "      <td>1.0</td>\n",
              "      <td>0.0</td>\n",
              "      <td>0.0</td>\n",
              "    </tr>\n",
              "    <tr>\n",
              "      <th>3</th>\n",
              "      <td>2020-01-22</td>\n",
              "      <td>Mainland China</td>\n",
              "      <td>Beijing</td>\n",
              "      <td>14.0</td>\n",
              "      <td>0.0</td>\n",
              "      <td>0.0</td>\n",
              "    </tr>\n",
              "    <tr>\n",
              "      <th>4</th>\n",
              "      <td>2020-01-22</td>\n",
              "      <td>Mainland China</td>\n",
              "      <td>Chongqing</td>\n",
              "      <td>6.0</td>\n",
              "      <td>0.0</td>\n",
              "      <td>0.0</td>\n",
              "    </tr>\n",
              "  </tbody>\n",
              "</table>\n",
              "</div>"
            ],
            "text/plain": [
              "        Date         Country Province/State  Confirmed  Deaths  Recovered\n",
              "0 2020-01-22       Hong Kong      Hong Kong        0.0     0.0        0.0\n",
              "1 2020-01-22           Macau          Macau        1.0     0.0        0.0\n",
              "2 2020-01-22  Mainland China          Anhui        1.0     0.0        0.0\n",
              "3 2020-01-22  Mainland China        Beijing       14.0     0.0        0.0\n",
              "4 2020-01-22  Mainland China      Chongqing        6.0     0.0        0.0"
            ]
          },
          "metadata": {
            "tags": []
          },
          "execution_count": 83
        }
      ]
    },
    {
      "cell_type": "code",
      "metadata": {
        "id": "XL1R4UaYMtUZ",
        "outputId": "3be2ef33-ab3f-4fee-a520-0abb8ae2a3f8",
        "colab": {
          "base_uri": "https://localhost:8080/",
          "height": 419
        }
      },
      "source": [
        "# Check for India's data\n",
        "df.query('Country==\"India\"').groupby(\"Date\")[['Confirmed', 'Deaths', 'Recovered']].sum().reset_index()"
      ],
      "execution_count": 84,
      "outputs": [
        {
          "output_type": "execute_result",
          "data": {
            "text/html": [
              "<div>\n",
              "<style scoped>\n",
              "    .dataframe tbody tr th:only-of-type {\n",
              "        vertical-align: middle;\n",
              "    }\n",
              "\n",
              "    .dataframe tbody tr th {\n",
              "        vertical-align: top;\n",
              "    }\n",
              "\n",
              "    .dataframe thead th {\n",
              "        text-align: right;\n",
              "    }\n",
              "</style>\n",
              "<table border=\"1\" class=\"dataframe\">\n",
              "  <thead>\n",
              "    <tr style=\"text-align: right;\">\n",
              "      <th></th>\n",
              "      <th>Date</th>\n",
              "      <th>Confirmed</th>\n",
              "      <th>Deaths</th>\n",
              "      <th>Recovered</th>\n",
              "    </tr>\n",
              "  </thead>\n",
              "  <tbody>\n",
              "    <tr>\n",
              "      <th>0</th>\n",
              "      <td>2020-01-30</td>\n",
              "      <td>1.0</td>\n",
              "      <td>0.0</td>\n",
              "      <td>0.0</td>\n",
              "    </tr>\n",
              "    <tr>\n",
              "      <th>1</th>\n",
              "      <td>2020-01-31</td>\n",
              "      <td>1.0</td>\n",
              "      <td>0.0</td>\n",
              "      <td>0.0</td>\n",
              "    </tr>\n",
              "    <tr>\n",
              "      <th>2</th>\n",
              "      <td>2020-02-01</td>\n",
              "      <td>1.0</td>\n",
              "      <td>0.0</td>\n",
              "      <td>0.0</td>\n",
              "    </tr>\n",
              "    <tr>\n",
              "      <th>3</th>\n",
              "      <td>2020-02-02</td>\n",
              "      <td>2.0</td>\n",
              "      <td>0.0</td>\n",
              "      <td>0.0</td>\n",
              "    </tr>\n",
              "    <tr>\n",
              "      <th>4</th>\n",
              "      <td>2020-02-03</td>\n",
              "      <td>3.0</td>\n",
              "      <td>0.0</td>\n",
              "      <td>0.0</td>\n",
              "    </tr>\n",
              "    <tr>\n",
              "      <th>...</th>\n",
              "      <td>...</td>\n",
              "      <td>...</td>\n",
              "      <td>...</td>\n",
              "      <td>...</td>\n",
              "    </tr>\n",
              "    <tr>\n",
              "      <th>233</th>\n",
              "      <td>2020-09-19</td>\n",
              "      <td>5308014.0</td>\n",
              "      <td>85619.0</td>\n",
              "      <td>4208431.0</td>\n",
              "    </tr>\n",
              "    <tr>\n",
              "      <th>234</th>\n",
              "      <td>2020-09-20</td>\n",
              "      <td>5400619.0</td>\n",
              "      <td>86752.0</td>\n",
              "      <td>4303043.0</td>\n",
              "    </tr>\n",
              "    <tr>\n",
              "      <th>235</th>\n",
              "      <td>2020-09-21</td>\n",
              "      <td>5487580.0</td>\n",
              "      <td>87882.0</td>\n",
              "      <td>4396399.0</td>\n",
              "    </tr>\n",
              "    <tr>\n",
              "      <th>236</th>\n",
              "      <td>2020-09-22</td>\n",
              "      <td>5562663.0</td>\n",
              "      <td>88935.0</td>\n",
              "      <td>4497867.0</td>\n",
              "    </tr>\n",
              "    <tr>\n",
              "      <th>237</th>\n",
              "      <td>2020-09-23</td>\n",
              "      <td>5646010.0</td>\n",
              "      <td>90020.0</td>\n",
              "      <td>4587613.0</td>\n",
              "    </tr>\n",
              "  </tbody>\n",
              "</table>\n",
              "<p>238 rows × 4 columns</p>\n",
              "</div>"
            ],
            "text/plain": [
              "          Date  Confirmed   Deaths  Recovered\n",
              "0   2020-01-30        1.0      0.0        0.0\n",
              "1   2020-01-31        1.0      0.0        0.0\n",
              "2   2020-02-01        1.0      0.0        0.0\n",
              "3   2020-02-02        2.0      0.0        0.0\n",
              "4   2020-02-03        3.0      0.0        0.0\n",
              "..         ...        ...      ...        ...\n",
              "233 2020-09-19  5308014.0  85619.0  4208431.0\n",
              "234 2020-09-20  5400619.0  86752.0  4303043.0\n",
              "235 2020-09-21  5487580.0  87882.0  4396399.0\n",
              "236 2020-09-22  5562663.0  88935.0  4497867.0\n",
              "237 2020-09-23  5646010.0  90020.0  4587613.0\n",
              "\n",
              "[238 rows x 4 columns]"
            ]
          },
          "metadata": {
            "tags": []
          },
          "execution_count": 84
        }
      ]
    },
    {
      "cell_type": "code",
      "metadata": {
        "id": "njoxWBE0M3XE",
        "outputId": "ec1bc613-7912-449b-df81-1ee4b5a09c6a",
        "colab": {
          "base_uri": "https://localhost:8080/",
          "height": 235
        }
      },
      "source": [
        "#Overall worldwide Confirmed/ Deaths/ Recovered cases \n",
        "df.groupby('Date').sum().head()"
      ],
      "execution_count": 85,
      "outputs": [
        {
          "output_type": "execute_result",
          "data": {
            "text/html": [
              "<div>\n",
              "<style scoped>\n",
              "    .dataframe tbody tr th:only-of-type {\n",
              "        vertical-align: middle;\n",
              "    }\n",
              "\n",
              "    .dataframe tbody tr th {\n",
              "        vertical-align: top;\n",
              "    }\n",
              "\n",
              "    .dataframe thead th {\n",
              "        text-align: right;\n",
              "    }\n",
              "</style>\n",
              "<table border=\"1\" class=\"dataframe\">\n",
              "  <thead>\n",
              "    <tr style=\"text-align: right;\">\n",
              "      <th></th>\n",
              "      <th>Confirmed</th>\n",
              "      <th>Deaths</th>\n",
              "      <th>Recovered</th>\n",
              "    </tr>\n",
              "    <tr>\n",
              "      <th>Date</th>\n",
              "      <th></th>\n",
              "      <th></th>\n",
              "      <th></th>\n",
              "    </tr>\n",
              "  </thead>\n",
              "  <tbody>\n",
              "    <tr>\n",
              "      <th>2020-01-22</th>\n",
              "      <td>555.0</td>\n",
              "      <td>17.0</td>\n",
              "      <td>28.0</td>\n",
              "    </tr>\n",
              "    <tr>\n",
              "      <th>2020-01-23</th>\n",
              "      <td>653.0</td>\n",
              "      <td>18.0</td>\n",
              "      <td>30.0</td>\n",
              "    </tr>\n",
              "    <tr>\n",
              "      <th>2020-01-24</th>\n",
              "      <td>941.0</td>\n",
              "      <td>26.0</td>\n",
              "      <td>36.0</td>\n",
              "    </tr>\n",
              "    <tr>\n",
              "      <th>2020-01-25</th>\n",
              "      <td>1438.0</td>\n",
              "      <td>42.0</td>\n",
              "      <td>39.0</td>\n",
              "    </tr>\n",
              "    <tr>\n",
              "      <th>2020-01-26</th>\n",
              "      <td>2118.0</td>\n",
              "      <td>56.0</td>\n",
              "      <td>52.0</td>\n",
              "    </tr>\n",
              "  </tbody>\n",
              "</table>\n",
              "</div>"
            ],
            "text/plain": [
              "            Confirmed  Deaths  Recovered\n",
              "Date                                    \n",
              "2020-01-22      555.0    17.0       28.0\n",
              "2020-01-23      653.0    18.0       30.0\n",
              "2020-01-24      941.0    26.0       36.0\n",
              "2020-01-25     1438.0    42.0       39.0\n",
              "2020-01-26     2118.0    56.0       52.0"
            ]
          },
          "metadata": {
            "tags": []
          },
          "execution_count": 85
        }
      ]
    },
    {
      "cell_type": "markdown",
      "metadata": {
        "id": "nZxXuyvkNnMm"
      },
      "source": [
        "## Visualizing: Worldwide COVID-19 cases  "
      ]
    },
    {
      "cell_type": "code",
      "metadata": {
        "id": "UmKuQ54RNVvL"
      },
      "source": [
        "confirmed = df.groupby('Date').sum()['Confirmed'].reset_index()\n",
        "deaths = df.groupby('Date').sum()['Deaths'].reset_index()\n",
        "recovered = df.groupby('Date').sum()['Recovered'].reset_index()"
      ],
      "execution_count": 86,
      "outputs": []
    },
    {
      "cell_type": "code",
      "metadata": {
        "id": "FC5JJSvkN1MB",
        "outputId": "931ffadf-49b2-46a7-ac7e-953b3ffdbed6",
        "colab": {
          "base_uri": "https://localhost:8080/",
          "height": 542
        }
      },
      "source": [
        "fig = go.Figure()\n",
        "#Plotting datewise confirmed cases\n",
        "fig.add_trace(go.Scatter(x=confirmed['Date'], y=confirmed['Confirmed'], mode='lines+markers', name='Confirmed',line=dict(color='blue', width=2)))\n",
        "fig.add_trace(go.Scatter(x=deaths['Date'], y=deaths['Deaths'], mode='lines+markers', name='Deaths', line=dict(color='Red', width=2)))\n",
        "fig.add_trace(go.Scatter(x=recovered['Date'], y=recovered['Recovered'], mode='lines+markers', name='Recovered', line=dict(color='Green', width=2)))\n",
        "fig.update_layout(title='Worldwide NCOVID-19 Cases', xaxis_tickfont_size=14,yaxis=dict(title='Number of Cases'))\n",
        "\n",
        "fig.show()"
      ],
      "execution_count": 87,
      "outputs": [
        {
          "output_type": "display_data",
          "data": {
            "text/html": [
              "<html>\n",
              "<head><meta charset=\"utf-8\" /></head>\n",
              "<body>\n",
              "    <div>\n",
              "            <script src=\"https://cdnjs.cloudflare.com/ajax/libs/mathjax/2.7.5/MathJax.js?config=TeX-AMS-MML_SVG\"></script><script type=\"text/javascript\">if (window.MathJax) {MathJax.Hub.Config({SVG: {font: \"STIX-Web\"}});}</script>\n",
              "                <script type=\"text/javascript\">window.PlotlyConfig = {MathJaxConfig: 'local'};</script>\n",
              "        <script src=\"https://cdn.plot.ly/plotly-latest.min.js\"></script>    \n",
              "            <div id=\"2f86da6d-6c31-470a-bee0-ff3c51ff4320\" class=\"plotly-graph-div\" style=\"height:525px; width:100%;\"></div>\n",
              "            <script type=\"text/javascript\">\n",
              "                \n",
              "                    window.PLOTLYENV=window.PLOTLYENV || {};\n",
              "                    \n",
              "                if (document.getElementById(\"2f86da6d-6c31-470a-bee0-ff3c51ff4320\")) {\n",
              "                    Plotly.newPlot(\n",
              "                        '2f86da6d-6c31-470a-bee0-ff3c51ff4320',\n",
              "                        [{\"line\": {\"color\": \"blue\", \"width\": 2}, \"mode\": \"lines+markers\", \"name\": \"Confirmed\", \"type\": \"scatter\", \"x\": [\"2020-01-22T00:00:00\", \"2020-01-23T00:00:00\", \"2020-01-24T00:00:00\", \"2020-01-25T00:00:00\", \"2020-01-26T00:00:00\", \"2020-01-27T00:00:00\", \"2020-01-28T00:00:00\", \"2020-01-29T00:00:00\", \"2020-01-30T00:00:00\", \"2020-01-31T00:00:00\", \"2020-02-01T00:00:00\", \"2020-02-02T00:00:00\", \"2020-02-03T00:00:00\", \"2020-02-04T00:00:00\", \"2020-02-05T00:00:00\", \"2020-02-06T00:00:00\", \"2020-02-07T00:00:00\", \"2020-02-08T00:00:00\", \"2020-02-09T00:00:00\", \"2020-02-10T00:00:00\", \"2020-02-11T00:00:00\", \"2020-02-12T00:00:00\", \"2020-02-13T00:00:00\", \"2020-02-14T00:00:00\", \"2020-02-15T00:00:00\", \"2020-02-16T00:00:00\", \"2020-02-17T00:00:00\", \"2020-02-18T00:00:00\", \"2020-02-19T00:00:00\", \"2020-02-20T00:00:00\", \"2020-02-21T00:00:00\", \"2020-02-22T00:00:00\", \"2020-02-23T00:00:00\", \"2020-02-24T00:00:00\", \"2020-02-25T00:00:00\", \"2020-02-26T00:00:00\", \"2020-02-27T00:00:00\", \"2020-02-28T00:00:00\", \"2020-02-29T00:00:00\", \"2020-03-01T00:00:00\", \"2020-03-02T00:00:00\", \"2020-03-03T00:00:00\", \"2020-03-04T00:00:00\", \"2020-03-05T00:00:00\", \"2020-03-06T00:00:00\", \"2020-03-07T00:00:00\", \"2020-03-08T00:00:00\", \"2020-03-09T00:00:00\", \"2020-03-10T00:00:00\", \"2020-03-11T00:00:00\", \"2020-03-12T00:00:00\", \"2020-03-13T00:00:00\", \"2020-03-14T00:00:00\", \"2020-03-15T00:00:00\", \"2020-03-16T00:00:00\", \"2020-03-17T00:00:00\", \"2020-03-18T00:00:00\", \"2020-03-19T00:00:00\", \"2020-03-20T00:00:00\", \"2020-03-21T00:00:00\", \"2020-03-22T00:00:00\", \"2020-03-23T00:00:00\", \"2020-03-24T00:00:00\", \"2020-03-25T00:00:00\", \"2020-03-26T00:00:00\", \"2020-03-27T00:00:00\", \"2020-03-28T00:00:00\", \"2020-03-29T00:00:00\", \"2020-03-30T00:00:00\", \"2020-03-31T00:00:00\", \"2020-04-01T00:00:00\", \"2020-04-02T00:00:00\", \"2020-04-03T00:00:00\", \"2020-04-04T00:00:00\", \"2020-04-05T00:00:00\", \"2020-04-06T00:00:00\", \"2020-04-07T00:00:00\", \"2020-04-08T00:00:00\", \"2020-04-09T00:00:00\", \"2020-04-10T00:00:00\", \"2020-04-11T00:00:00\", \"2020-04-12T00:00:00\", \"2020-04-13T00:00:00\", \"2020-04-14T00:00:00\", \"2020-04-15T00:00:00\", \"2020-04-16T00:00:00\", \"2020-04-17T00:00:00\", \"2020-04-18T00:00:00\", \"2020-04-19T00:00:00\", \"2020-04-20T00:00:00\", \"2020-04-21T00:00:00\", \"2020-04-22T00:00:00\", \"2020-04-23T00:00:00\", \"2020-04-24T00:00:00\", \"2020-04-25T00:00:00\", \"2020-04-26T00:00:00\", \"2020-04-27T00:00:00\", \"2020-04-28T00:00:00\", \"2020-04-29T00:00:00\", \"2020-04-30T00:00:00\", \"2020-05-01T00:00:00\", \"2020-05-02T00:00:00\", \"2020-05-03T00:00:00\", \"2020-05-04T00:00:00\", \"2020-05-05T00:00:00\", \"2020-05-06T00:00:00\", \"2020-05-07T00:00:00\", \"2020-05-08T00:00:00\", \"2020-05-09T00:00:00\", \"2020-05-10T00:00:00\", \"2020-05-11T00:00:00\", \"2020-05-12T00:00:00\", \"2020-05-13T00:00:00\", \"2020-05-14T00:00:00\", \"2020-05-15T00:00:00\", \"2020-05-16T00:00:00\", \"2020-05-17T00:00:00\", \"2020-05-18T00:00:00\", \"2020-05-19T00:00:00\", \"2020-05-20T00:00:00\", \"2020-05-21T00:00:00\", \"2020-05-22T00:00:00\", \"2020-05-23T00:00:00\", \"2020-05-24T00:00:00\", \"2020-05-25T00:00:00\", \"2020-05-26T00:00:00\", \"2020-05-27T00:00:00\", \"2020-05-28T00:00:00\", \"2020-05-29T00:00:00\", \"2020-05-30T00:00:00\", \"2020-05-31T00:00:00\", \"2020-06-01T00:00:00\", \"2020-06-02T00:00:00\", \"2020-06-03T00:00:00\", \"2020-06-04T00:00:00\", \"2020-06-05T00:00:00\", \"2020-06-06T00:00:00\", \"2020-06-07T00:00:00\", \"2020-06-08T00:00:00\", \"2020-06-09T00:00:00\", \"2020-06-10T00:00:00\", \"2020-06-11T00:00:00\", \"2020-06-12T00:00:00\", \"2020-06-13T00:00:00\", \"2020-06-14T00:00:00\", \"2020-06-15T00:00:00\", \"2020-06-16T00:00:00\", \"2020-06-17T00:00:00\", \"2020-06-18T00:00:00\", \"2020-06-19T00:00:00\", \"2020-06-20T00:00:00\", \"2020-06-21T00:00:00\", \"2020-06-22T00:00:00\", \"2020-06-23T00:00:00\", \"2020-06-24T00:00:00\", \"2020-06-25T00:00:00\", \"2020-06-26T00:00:00\", \"2020-06-27T00:00:00\", \"2020-06-28T00:00:00\", \"2020-06-29T00:00:00\", \"2020-06-30T00:00:00\", \"2020-07-01T00:00:00\", \"2020-07-02T00:00:00\", \"2020-07-03T00:00:00\", \"2020-07-04T00:00:00\", \"2020-07-05T00:00:00\", \"2020-07-06T00:00:00\", \"2020-07-07T00:00:00\", \"2020-07-08T00:00:00\", \"2020-07-09T00:00:00\", \"2020-07-10T00:00:00\", \"2020-07-11T00:00:00\", \"2020-07-12T00:00:00\", \"2020-07-13T00:00:00\", \"2020-07-14T00:00:00\", \"2020-07-15T00:00:00\", \"2020-07-16T00:00:00\", \"2020-07-17T00:00:00\", \"2020-07-18T00:00:00\", \"2020-07-19T00:00:00\", \"2020-07-20T00:00:00\", \"2020-07-21T00:00:00\", \"2020-07-22T00:00:00\", \"2020-07-23T00:00:00\", \"2020-07-24T00:00:00\", \"2020-07-25T00:00:00\", \"2020-07-26T00:00:00\", \"2020-07-27T00:00:00\", \"2020-07-28T00:00:00\", \"2020-07-29T00:00:00\", \"2020-07-30T00:00:00\", \"2020-07-31T00:00:00\", \"2020-08-01T00:00:00\", \"2020-08-02T00:00:00\", \"2020-08-03T00:00:00\", \"2020-08-04T00:00:00\", \"2020-08-05T00:00:00\", \"2020-08-06T00:00:00\", \"2020-08-07T00:00:00\", \"2020-08-08T00:00:00\", \"2020-08-09T00:00:00\", \"2020-08-10T00:00:00\", \"2020-08-11T00:00:00\", \"2020-08-12T00:00:00\", \"2020-08-13T00:00:00\", \"2020-08-14T00:00:00\", \"2020-08-15T00:00:00\", \"2020-08-16T00:00:00\", \"2020-08-17T00:00:00\", \"2020-08-18T00:00:00\", \"2020-08-19T00:00:00\", \"2020-08-20T00:00:00\", \"2020-08-21T00:00:00\", \"2020-08-22T00:00:00\", \"2020-08-23T00:00:00\", \"2020-08-24T00:00:00\", \"2020-08-25T00:00:00\", \"2020-08-26T00:00:00\", \"2020-08-27T00:00:00\", \"2020-08-28T00:00:00\", \"2020-08-29T00:00:00\", \"2020-08-30T00:00:00\", \"2020-08-31T00:00:00\", \"2020-09-01T00:00:00\", \"2020-09-02T00:00:00\", \"2020-09-03T00:00:00\", \"2020-09-04T00:00:00\", \"2020-09-05T00:00:00\", \"2020-09-06T00:00:00\", \"2020-09-07T00:00:00\", \"2020-09-08T00:00:00\", \"2020-09-09T00:00:00\", \"2020-09-10T00:00:00\", \"2020-09-11T00:00:00\", \"2020-09-12T00:00:00\", \"2020-09-13T00:00:00\", \"2020-09-14T00:00:00\", \"2020-09-15T00:00:00\", \"2020-09-16T00:00:00\", \"2020-09-17T00:00:00\", \"2020-09-18T00:00:00\", \"2020-09-19T00:00:00\", \"2020-09-20T00:00:00\", \"2020-09-21T00:00:00\", \"2020-09-22T00:00:00\", \"2020-09-23T00:00:00\"], \"y\": [555.0, 653.0, 941.0, 1438.0, 2118.0, 2927.0, 5578.0, 6165.0, 8235.0, 9925.0, 12038.0, 16787.0, 19881.0, 23892.0, 27636.0, 30818.0, 34392.0, 37121.0, 40151.0, 42763.0, 44803.0, 45222.0, 60370.0, 66887.0, 69032.0, 71226.0, 73260.0, 75138.0, 75641.0, 76199.0, 76843.0, 78599.0, 78985.0, 79570.0, 80415.0, 81397.0, 82756.0, 84124.0, 86013.0, 88371.0, 90309.0, 92844.0, 95124.0, 97886.0, 101800.0, 105836.0, 109835.0, 113582.0, 118582.0, 125865.0, 128343.0, 145193.0, 156099.0, 167447.0, 181546.0, 197168.0, 214915.0, 242713.0, 272167.0, 304549.0, 337122.0, 378283.0, 417962.0, 467594.0, 529591.0, 593291.0, 660693.0, 720140.0, 782389.0, 857487.0, 932605.0, 1013303.0, 1095917.0, 1197408.0, 1272115.0, 1345101.0, 1426096.0, 1511104.0, 1595350.0, 1691719.0, 1771514.0, 1846680.0, 1917320.0, 1976192.0, 2056055.0, 2152647.0, 2240191.0, 2317759.0, 2401379.0, 2472259.0, 2549123.0, 2623960.0, 2708885.0, 2810715.0, 2896746.0, 2971475.0, 3041657.0, 3116398.0, 3193886.0, 3256846.0, 3343777.0, 3427343.0, 3506729.0, 3583055.0, 3662691.0, 3755341.0, 3845718.0, 3938064.0, 4024009.0, 4101699.0, 4177504.0, 4261955.0, 4347018.0, 4442163.0, 4542347.0, 4634068.0, 4713620.0, 4801943.0, 4897492.0, 4996472.0, 5102424.0, 5210817.0, 5310362.0, 5407613.0, 5495061.0, 5589626.0, 5691790.0, 5808946.0, 5924275.0, 6059017.0, 6166946.0, 6265852.0, 6386364.0, 6508635.0, 6632985.0, 6770170.0, 6896917.0, 7010582.0, 7119002.0, 7242313.0, 7360239.0, 7514481.0, 7632802.0, 7766952.0, 7900924.0, 8034504.0, 8173940.0, 8349950.0, 8488977.0, 8668523.0, 8791804.0, 8955536.0, 9098641.0, 9263466.0, 9430516.0, 9609829.0, 9801572.0, 9979535.0, 10145791.0, 10302151.0, 10475838.0, 10692551.0, 10869739.0, 11074878.0, 11267309.0, 11449707.0, 11620096.0, 11829602.0, 12041480.0, 12268518.0, 12498467.0, 12717908.0, 12910357.0, 13104391.0, 13324057.0, 13554477.0, 13805296.0, 14055299.0, 14292922.0, 14507491.0, 14707960.0, 14947428.0, 15229740.0, 15511157.0, 15792390.0, 16046986.0, 16252541.0, 16487669.0, 16691527.0, 17029155.0, 17309805.0, 17599836.0, 17850479.0, 18079516.0, 18282208.0, 18540789.0, 18811953.0, 19097149.0, 19378036.0, 19637506.0, 19861683.0, 20089624.0, 20343589.0, 20630768.0, 20905995.0, 21209004.0, 21459699.0, 21672186.0, 21881858.0, 22137926.0, 22411300.0, 22678483.0, 22949234.0, 23203532.0, 23420418.0, 23647377.0, 23889150.0, 24176836.0, 24452629.0, 24734448.0, 24996456.0, 25222709.0, 25484767.0, 25749642.0, 26031410.0, 26304856.0, 26609482.0, 26873146.0, 27103845.0, 27332433.0, 27570742.0, 27863733.0, 28161885.0, 28481413.0, 28759036.0, 28902753.0, 29190841.0, 29557942.0, 29764055.0, 30078889.0, 30406197.0, 30688150.0, 30935011.0, 31245797.0, 31517087.0, 31779835.0]}, {\"line\": {\"color\": \"Red\", \"width\": 2}, \"mode\": \"lines+markers\", \"name\": \"Deaths\", \"type\": \"scatter\", \"x\": [\"2020-01-22T00:00:00\", \"2020-01-23T00:00:00\", \"2020-01-24T00:00:00\", \"2020-01-25T00:00:00\", \"2020-01-26T00:00:00\", \"2020-01-27T00:00:00\", \"2020-01-28T00:00:00\", \"2020-01-29T00:00:00\", \"2020-01-30T00:00:00\", \"2020-01-31T00:00:00\", \"2020-02-01T00:00:00\", \"2020-02-02T00:00:00\", \"2020-02-03T00:00:00\", \"2020-02-04T00:00:00\", \"2020-02-05T00:00:00\", \"2020-02-06T00:00:00\", \"2020-02-07T00:00:00\", \"2020-02-08T00:00:00\", \"2020-02-09T00:00:00\", \"2020-02-10T00:00:00\", \"2020-02-11T00:00:00\", \"2020-02-12T00:00:00\", \"2020-02-13T00:00:00\", \"2020-02-14T00:00:00\", \"2020-02-15T00:00:00\", \"2020-02-16T00:00:00\", \"2020-02-17T00:00:00\", \"2020-02-18T00:00:00\", \"2020-02-19T00:00:00\", \"2020-02-20T00:00:00\", \"2020-02-21T00:00:00\", \"2020-02-22T00:00:00\", \"2020-02-23T00:00:00\", \"2020-02-24T00:00:00\", \"2020-02-25T00:00:00\", \"2020-02-26T00:00:00\", \"2020-02-27T00:00:00\", \"2020-02-28T00:00:00\", \"2020-02-29T00:00:00\", \"2020-03-01T00:00:00\", \"2020-03-02T00:00:00\", \"2020-03-03T00:00:00\", \"2020-03-04T00:00:00\", \"2020-03-05T00:00:00\", \"2020-03-06T00:00:00\", \"2020-03-07T00:00:00\", \"2020-03-08T00:00:00\", \"2020-03-09T00:00:00\", \"2020-03-10T00:00:00\", \"2020-03-11T00:00:00\", \"2020-03-12T00:00:00\", \"2020-03-13T00:00:00\", \"2020-03-14T00:00:00\", \"2020-03-15T00:00:00\", \"2020-03-16T00:00:00\", \"2020-03-17T00:00:00\", \"2020-03-18T00:00:00\", \"2020-03-19T00:00:00\", \"2020-03-20T00:00:00\", \"2020-03-21T00:00:00\", \"2020-03-22T00:00:00\", \"2020-03-23T00:00:00\", \"2020-03-24T00:00:00\", \"2020-03-25T00:00:00\", \"2020-03-26T00:00:00\", \"2020-03-27T00:00:00\", \"2020-03-28T00:00:00\", \"2020-03-29T00:00:00\", \"2020-03-30T00:00:00\", \"2020-03-31T00:00:00\", \"2020-04-01T00:00:00\", \"2020-04-02T00:00:00\", \"2020-04-03T00:00:00\", \"2020-04-04T00:00:00\", \"2020-04-05T00:00:00\", \"2020-04-06T00:00:00\", \"2020-04-07T00:00:00\", \"2020-04-08T00:00:00\", \"2020-04-09T00:00:00\", \"2020-04-10T00:00:00\", \"2020-04-11T00:00:00\", \"2020-04-12T00:00:00\", \"2020-04-13T00:00:00\", \"2020-04-14T00:00:00\", \"2020-04-15T00:00:00\", \"2020-04-16T00:00:00\", \"2020-04-17T00:00:00\", \"2020-04-18T00:00:00\", \"2020-04-19T00:00:00\", \"2020-04-20T00:00:00\", \"2020-04-21T00:00:00\", \"2020-04-22T00:00:00\", \"2020-04-23T00:00:00\", \"2020-04-24T00:00:00\", \"2020-04-25T00:00:00\", \"2020-04-26T00:00:00\", \"2020-04-27T00:00:00\", \"2020-04-28T00:00:00\", \"2020-04-29T00:00:00\", \"2020-04-30T00:00:00\", \"2020-05-01T00:00:00\", \"2020-05-02T00:00:00\", \"2020-05-03T00:00:00\", \"2020-05-04T00:00:00\", \"2020-05-05T00:00:00\", \"2020-05-06T00:00:00\", \"2020-05-07T00:00:00\", \"2020-05-08T00:00:00\", \"2020-05-09T00:00:00\", \"2020-05-10T00:00:00\", \"2020-05-11T00:00:00\", \"2020-05-12T00:00:00\", \"2020-05-13T00:00:00\", \"2020-05-14T00:00:00\", \"2020-05-15T00:00:00\", \"2020-05-16T00:00:00\", \"2020-05-17T00:00:00\", \"2020-05-18T00:00:00\", \"2020-05-19T00:00:00\", \"2020-05-20T00:00:00\", \"2020-05-21T00:00:00\", \"2020-05-22T00:00:00\", \"2020-05-23T00:00:00\", \"2020-05-24T00:00:00\", \"2020-05-25T00:00:00\", \"2020-05-26T00:00:00\", \"2020-05-27T00:00:00\", \"2020-05-28T00:00:00\", \"2020-05-29T00:00:00\", \"2020-05-30T00:00:00\", \"2020-05-31T00:00:00\", \"2020-06-01T00:00:00\", \"2020-06-02T00:00:00\", \"2020-06-03T00:00:00\", \"2020-06-04T00:00:00\", \"2020-06-05T00:00:00\", \"2020-06-06T00:00:00\", \"2020-06-07T00:00:00\", \"2020-06-08T00:00:00\", \"2020-06-09T00:00:00\", \"2020-06-10T00:00:00\", \"2020-06-11T00:00:00\", \"2020-06-12T00:00:00\", \"2020-06-13T00:00:00\", \"2020-06-14T00:00:00\", \"2020-06-15T00:00:00\", \"2020-06-16T00:00:00\", \"2020-06-17T00:00:00\", \"2020-06-18T00:00:00\", \"2020-06-19T00:00:00\", \"2020-06-20T00:00:00\", \"2020-06-21T00:00:00\", \"2020-06-22T00:00:00\", \"2020-06-23T00:00:00\", \"2020-06-24T00:00:00\", \"2020-06-25T00:00:00\", \"2020-06-26T00:00:00\", \"2020-06-27T00:00:00\", \"2020-06-28T00:00:00\", \"2020-06-29T00:00:00\", \"2020-06-30T00:00:00\", \"2020-07-01T00:00:00\", \"2020-07-02T00:00:00\", \"2020-07-03T00:00:00\", \"2020-07-04T00:00:00\", \"2020-07-05T00:00:00\", \"2020-07-06T00:00:00\", \"2020-07-07T00:00:00\", \"2020-07-08T00:00:00\", \"2020-07-09T00:00:00\", \"2020-07-10T00:00:00\", \"2020-07-11T00:00:00\", \"2020-07-12T00:00:00\", \"2020-07-13T00:00:00\", \"2020-07-14T00:00:00\", \"2020-07-15T00:00:00\", \"2020-07-16T00:00:00\", \"2020-07-17T00:00:00\", \"2020-07-18T00:00:00\", \"2020-07-19T00:00:00\", \"2020-07-20T00:00:00\", \"2020-07-21T00:00:00\", \"2020-07-22T00:00:00\", \"2020-07-23T00:00:00\", \"2020-07-24T00:00:00\", \"2020-07-25T00:00:00\", \"2020-07-26T00:00:00\", \"2020-07-27T00:00:00\", \"2020-07-28T00:00:00\", \"2020-07-29T00:00:00\", \"2020-07-30T00:00:00\", \"2020-07-31T00:00:00\", \"2020-08-01T00:00:00\", \"2020-08-02T00:00:00\", \"2020-08-03T00:00:00\", \"2020-08-04T00:00:00\", \"2020-08-05T00:00:00\", \"2020-08-06T00:00:00\", \"2020-08-07T00:00:00\", \"2020-08-08T00:00:00\", \"2020-08-09T00:00:00\", \"2020-08-10T00:00:00\", \"2020-08-11T00:00:00\", \"2020-08-12T00:00:00\", \"2020-08-13T00:00:00\", \"2020-08-14T00:00:00\", \"2020-08-15T00:00:00\", \"2020-08-16T00:00:00\", \"2020-08-17T00:00:00\", \"2020-08-18T00:00:00\", \"2020-08-19T00:00:00\", \"2020-08-20T00:00:00\", \"2020-08-21T00:00:00\", \"2020-08-22T00:00:00\", \"2020-08-23T00:00:00\", \"2020-08-24T00:00:00\", \"2020-08-25T00:00:00\", \"2020-08-26T00:00:00\", \"2020-08-27T00:00:00\", \"2020-08-28T00:00:00\", \"2020-08-29T00:00:00\", \"2020-08-30T00:00:00\", \"2020-08-31T00:00:00\", \"2020-09-01T00:00:00\", \"2020-09-02T00:00:00\", \"2020-09-03T00:00:00\", \"2020-09-04T00:00:00\", \"2020-09-05T00:00:00\", \"2020-09-06T00:00:00\", \"2020-09-07T00:00:00\", \"2020-09-08T00:00:00\", \"2020-09-09T00:00:00\", \"2020-09-10T00:00:00\", \"2020-09-11T00:00:00\", \"2020-09-12T00:00:00\", \"2020-09-13T00:00:00\", \"2020-09-14T00:00:00\", \"2020-09-15T00:00:00\", \"2020-09-16T00:00:00\", \"2020-09-17T00:00:00\", \"2020-09-18T00:00:00\", \"2020-09-19T00:00:00\", \"2020-09-20T00:00:00\", \"2020-09-21T00:00:00\", \"2020-09-22T00:00:00\", \"2020-09-23T00:00:00\"], \"y\": [17.0, 18.0, 26.0, 42.0, 56.0, 82.0, 131.0, 133.0, 171.0, 213.0, 259.0, 362.0, 426.0, 492.0, 564.0, 634.0, 719.0, 806.0, 906.0, 1013.0, 1113.0, 1118.0, 1371.0, 1523.0, 1666.0, 1770.0, 1868.0, 2007.0, 2122.0, 2247.0, 2251.0, 2458.0, 2469.0, 2629.0, 2708.0, 2770.0, 2814.0, 2872.0, 2941.0, 2996.0, 3085.0, 3160.0, 3254.0, 3348.0, 3460.0, 3558.0, 3803.0, 3996.0, 4262.0, 4615.0, 4720.0, 5404.0, 5819.0, 6440.0, 7126.0, 7905.0, 8733.0, 9867.0, 11299.0, 12973.0, 14623.0, 16497.0, 18615.0, 21181.0, 23970.0, 27198.0, 30652.0, 33925.0, 37582.0, 42107.0, 46809.0, 52983.0, 58787.0, 64606.0, 69374.0, 74565.0, 81865.0, 88338.0, 95455.0, 102525.0, 108502.0, 114089.0, 119482.0, 125984.0, 134177.0, 143801.0, 153822.0, 159510.0, 165044.0, 169986.0, 176583.0, 183066.0, 190858.0, 197151.0, 202846.0, 206544.0, 211167.0, 217153.0, 227638.0, 233388.0, 238650.0, 243808.0, 247470.0, 251537.0, 257239.0, 263831.0, 269567.0, 274898.0, 279311.0, 282709.0, 286330.0, 291964.0, 297197.0, 302418.0, 307666.0, 311781.0, 315185.0, 318481.0, 323285.0, 328115.0, 332924.0, 338160.0, 342097.0, 345059.0, 346232.0, 350453.0, 355629.0, 360308.0, 364867.0, 369126.0, 372035.0, 375543.0, 380383.0, 385947.0, 391136.0, 396121.0, 400000.0, 402744.0, 406543.0, 411436.0, 416201.0, 421458.0, 425394.0, 429736.0, 433066.0, 436899.0, 443685.0, 448959.0, 453985.0, 460217.0, 464465.0, 468365.0, 472171.0, 477584.0, 482753.0, 489312.0, 494181.0, 498710.0, 501893.0, 505505.0, 511253.0, 516210.0, 521298.0, 526411.0, 530754.0, 534267.0, 538058.0, 544163.0, 549468.0, 554924.0, 560209.0, 565138.0, 569128.0, 573003.0, 578646.0, 584124.0, 589911.0, 596518.0, 602144.0, 606173.0, 609894.0, 616443.0, 623443.0, 633396.0, 639652.0, 645257.0, 648637.0, 654055.0, 659622.0, 667011.0, 673194.0, 679500.0, 685061.0, 689360.0, 693694.0, 700736.0, 707820.0, 714940.0, 721324.0, 726781.0, 731326.0, 736191.0, 742615.0, 749588.0, 755589.0, 765722.0, 771063.0, 775244.0, 774034.0, 780908.0, 787672.0, 793698.0, 799252.0, 804416.0, 808676.0, 813022.0, 819414.0, 825696.0, 831586.0, 837124.0, 842499.0, 846395.0, 850535.0, 857015.0, 863028.0, 868733.0, 874369.0, 879307.0, 883339.0, 892443.0, 897383.0, 903686.0, 909479.0, 915356.0, 920231.0, 922737.0, 927249.0, 934852.0, 939473.0, 944887.0, 950520.0, 955866.0, 959565.0, 963693.0, 969578.0, 975104.0]}, {\"line\": {\"color\": \"Green\", \"width\": 2}, \"mode\": \"lines+markers\", \"name\": \"Recovered\", \"type\": \"scatter\", \"x\": [\"2020-01-22T00:00:00\", \"2020-01-23T00:00:00\", \"2020-01-24T00:00:00\", \"2020-01-25T00:00:00\", \"2020-01-26T00:00:00\", \"2020-01-27T00:00:00\", \"2020-01-28T00:00:00\", \"2020-01-29T00:00:00\", \"2020-01-30T00:00:00\", \"2020-01-31T00:00:00\", \"2020-02-01T00:00:00\", \"2020-02-02T00:00:00\", \"2020-02-03T00:00:00\", \"2020-02-04T00:00:00\", \"2020-02-05T00:00:00\", \"2020-02-06T00:00:00\", \"2020-02-07T00:00:00\", \"2020-02-08T00:00:00\", \"2020-02-09T00:00:00\", \"2020-02-10T00:00:00\", \"2020-02-11T00:00:00\", \"2020-02-12T00:00:00\", \"2020-02-13T00:00:00\", \"2020-02-14T00:00:00\", \"2020-02-15T00:00:00\", \"2020-02-16T00:00:00\", \"2020-02-17T00:00:00\", \"2020-02-18T00:00:00\", \"2020-02-19T00:00:00\", \"2020-02-20T00:00:00\", \"2020-02-21T00:00:00\", \"2020-02-22T00:00:00\", \"2020-02-23T00:00:00\", \"2020-02-24T00:00:00\", \"2020-02-25T00:00:00\", \"2020-02-26T00:00:00\", \"2020-02-27T00:00:00\", \"2020-02-28T00:00:00\", \"2020-02-29T00:00:00\", \"2020-03-01T00:00:00\", \"2020-03-02T00:00:00\", \"2020-03-03T00:00:00\", \"2020-03-04T00:00:00\", \"2020-03-05T00:00:00\", \"2020-03-06T00:00:00\", \"2020-03-07T00:00:00\", \"2020-03-08T00:00:00\", \"2020-03-09T00:00:00\", \"2020-03-10T00:00:00\", \"2020-03-11T00:00:00\", \"2020-03-12T00:00:00\", \"2020-03-13T00:00:00\", \"2020-03-14T00:00:00\", \"2020-03-15T00:00:00\", \"2020-03-16T00:00:00\", \"2020-03-17T00:00:00\", \"2020-03-18T00:00:00\", \"2020-03-19T00:00:00\", \"2020-03-20T00:00:00\", \"2020-03-21T00:00:00\", \"2020-03-22T00:00:00\", \"2020-03-23T00:00:00\", \"2020-03-24T00:00:00\", \"2020-03-25T00:00:00\", \"2020-03-26T00:00:00\", \"2020-03-27T00:00:00\", \"2020-03-28T00:00:00\", \"2020-03-29T00:00:00\", \"2020-03-30T00:00:00\", \"2020-03-31T00:00:00\", \"2020-04-01T00:00:00\", \"2020-04-02T00:00:00\", \"2020-04-03T00:00:00\", \"2020-04-04T00:00:00\", \"2020-04-05T00:00:00\", \"2020-04-06T00:00:00\", \"2020-04-07T00:00:00\", \"2020-04-08T00:00:00\", \"2020-04-09T00:00:00\", \"2020-04-10T00:00:00\", \"2020-04-11T00:00:00\", \"2020-04-12T00:00:00\", \"2020-04-13T00:00:00\", \"2020-04-14T00:00:00\", \"2020-04-15T00:00:00\", \"2020-04-16T00:00:00\", \"2020-04-17T00:00:00\", \"2020-04-18T00:00:00\", \"2020-04-19T00:00:00\", \"2020-04-20T00:00:00\", \"2020-04-21T00:00:00\", \"2020-04-22T00:00:00\", \"2020-04-23T00:00:00\", \"2020-04-24T00:00:00\", \"2020-04-25T00:00:00\", \"2020-04-26T00:00:00\", \"2020-04-27T00:00:00\", \"2020-04-28T00:00:00\", \"2020-04-29T00:00:00\", \"2020-04-30T00:00:00\", \"2020-05-01T00:00:00\", \"2020-05-02T00:00:00\", \"2020-05-03T00:00:00\", \"2020-05-04T00:00:00\", \"2020-05-05T00:00:00\", \"2020-05-06T00:00:00\", \"2020-05-07T00:00:00\", \"2020-05-08T00:00:00\", \"2020-05-09T00:00:00\", \"2020-05-10T00:00:00\", \"2020-05-11T00:00:00\", \"2020-05-12T00:00:00\", \"2020-05-13T00:00:00\", \"2020-05-14T00:00:00\", \"2020-05-15T00:00:00\", \"2020-05-16T00:00:00\", \"2020-05-17T00:00:00\", \"2020-05-18T00:00:00\", \"2020-05-19T00:00:00\", \"2020-05-20T00:00:00\", \"2020-05-21T00:00:00\", \"2020-05-22T00:00:00\", \"2020-05-23T00:00:00\", \"2020-05-24T00:00:00\", \"2020-05-25T00:00:00\", \"2020-05-26T00:00:00\", \"2020-05-27T00:00:00\", \"2020-05-28T00:00:00\", \"2020-05-29T00:00:00\", \"2020-05-30T00:00:00\", \"2020-05-31T00:00:00\", \"2020-06-01T00:00:00\", \"2020-06-02T00:00:00\", \"2020-06-03T00:00:00\", \"2020-06-04T00:00:00\", \"2020-06-05T00:00:00\", \"2020-06-06T00:00:00\", \"2020-06-07T00:00:00\", \"2020-06-08T00:00:00\", \"2020-06-09T00:00:00\", \"2020-06-10T00:00:00\", \"2020-06-11T00:00:00\", \"2020-06-12T00:00:00\", \"2020-06-13T00:00:00\", \"2020-06-14T00:00:00\", \"2020-06-15T00:00:00\", \"2020-06-16T00:00:00\", \"2020-06-17T00:00:00\", \"2020-06-18T00:00:00\", \"2020-06-19T00:00:00\", \"2020-06-20T00:00:00\", \"2020-06-21T00:00:00\", \"2020-06-22T00:00:00\", \"2020-06-23T00:00:00\", \"2020-06-24T00:00:00\", \"2020-06-25T00:00:00\", \"2020-06-26T00:00:00\", \"2020-06-27T00:00:00\", \"2020-06-28T00:00:00\", \"2020-06-29T00:00:00\", \"2020-06-30T00:00:00\", \"2020-07-01T00:00:00\", \"2020-07-02T00:00:00\", \"2020-07-03T00:00:00\", \"2020-07-04T00:00:00\", \"2020-07-05T00:00:00\", \"2020-07-06T00:00:00\", \"2020-07-07T00:00:00\", \"2020-07-08T00:00:00\", \"2020-07-09T00:00:00\", \"2020-07-10T00:00:00\", \"2020-07-11T00:00:00\", \"2020-07-12T00:00:00\", \"2020-07-13T00:00:00\", \"2020-07-14T00:00:00\", \"2020-07-15T00:00:00\", \"2020-07-16T00:00:00\", \"2020-07-17T00:00:00\", \"2020-07-18T00:00:00\", \"2020-07-19T00:00:00\", \"2020-07-20T00:00:00\", \"2020-07-21T00:00:00\", \"2020-07-22T00:00:00\", \"2020-07-23T00:00:00\", \"2020-07-24T00:00:00\", \"2020-07-25T00:00:00\", \"2020-07-26T00:00:00\", \"2020-07-27T00:00:00\", \"2020-07-28T00:00:00\", \"2020-07-29T00:00:00\", \"2020-07-30T00:00:00\", \"2020-07-31T00:00:00\", \"2020-08-01T00:00:00\", \"2020-08-02T00:00:00\", \"2020-08-03T00:00:00\", \"2020-08-04T00:00:00\", \"2020-08-05T00:00:00\", \"2020-08-06T00:00:00\", \"2020-08-07T00:00:00\", \"2020-08-08T00:00:00\", \"2020-08-09T00:00:00\", \"2020-08-10T00:00:00\", \"2020-08-11T00:00:00\", \"2020-08-12T00:00:00\", \"2020-08-13T00:00:00\", \"2020-08-14T00:00:00\", \"2020-08-15T00:00:00\", \"2020-08-16T00:00:00\", \"2020-08-17T00:00:00\", \"2020-08-18T00:00:00\", \"2020-08-19T00:00:00\", \"2020-08-20T00:00:00\", \"2020-08-21T00:00:00\", \"2020-08-22T00:00:00\", \"2020-08-23T00:00:00\", \"2020-08-24T00:00:00\", \"2020-08-25T00:00:00\", \"2020-08-26T00:00:00\", \"2020-08-27T00:00:00\", \"2020-08-28T00:00:00\", \"2020-08-29T00:00:00\", \"2020-08-30T00:00:00\", \"2020-08-31T00:00:00\", \"2020-09-01T00:00:00\", \"2020-09-02T00:00:00\", \"2020-09-03T00:00:00\", \"2020-09-04T00:00:00\", \"2020-09-05T00:00:00\", \"2020-09-06T00:00:00\", \"2020-09-07T00:00:00\", \"2020-09-08T00:00:00\", \"2020-09-09T00:00:00\", \"2020-09-10T00:00:00\", \"2020-09-11T00:00:00\", \"2020-09-12T00:00:00\", \"2020-09-13T00:00:00\", \"2020-09-14T00:00:00\", \"2020-09-15T00:00:00\", \"2020-09-16T00:00:00\", \"2020-09-17T00:00:00\", \"2020-09-18T00:00:00\", \"2020-09-19T00:00:00\", \"2020-09-20T00:00:00\", \"2020-09-21T00:00:00\", \"2020-09-22T00:00:00\", \"2020-09-23T00:00:00\"], \"y\": [28.0, 30.0, 36.0, 39.0, 52.0, 61.0, 107.0, 126.0, 143.0, 222.0, 284.0, 472.0, 623.0, 852.0, 1124.0, 1487.0, 2011.0, 2616.0, 3244.0, 3946.0, 4683.0, 5150.0, 6295.0, 8058.0, 9395.0, 10865.0, 12583.0, 14352.0, 16121.0, 18177.0, 18890.0, 22886.0, 23394.0, 25227.0, 27905.0, 30384.0, 33277.0, 36711.0, 39782.0, 42716.0, 45602.0, 48229.0, 51171.0, 53797.0, 55866.0, 58359.0, 60695.0, 62512.0, 64404.0, 67003.0, 68324.0, 70251.0, 72624.0, 76034.0, 78088.0, 80840.0, 83313.0, 84962.0, 87403.0, 91676.0, 97243.0, 100958.0, 107699.0, 113764.0, 122144.0, 130909.0, 139409.0, 149076.0, 164560.0, 178028.0, 193171.0, 210263.0, 225796.0, 246152.0, 260012.0, 276515.0, 300054.0, 328661.0, 353975.0, 376096.0, 402110.0, 421722.0, 448655.0, 474261.0, 511019.0, 542107.0, 568343.0, 592319.0, 623903.0, 645738.0, 679819.0, 709694.0, 738486.0, 793420.0, 816685.0, 865733.0, 893967.0, 928658.0, 972719.0, 1014753.0, 1053327.0, 1093112.0, 1125236.0, 1162724.0, 1198832.0, 1245413.0, 1284741.0, 1322050.0, 1375624.0, 1408980.0, 1456209.0, 1493414.0, 1548547.0, 1587893.0, 1637067.0, 1693197.0, 1733963.0, 1786875.0, 1838995.0, 1897466.0, 1948739.0, 2056643.0, 2112185.0, 2168563.0, 2231738.0, 2286956.0, 2350088.0, 2415960.0, 2493535.0, 2564693.0, 2641329.0, 2696009.0, 2729527.0, 2804982.0, 2869963.0, 3013132.0, 3085833.0, 3140920.0, 3293408.0, 3375673.0, 3454807.0, 3540696.0, 3613277.0, 3698304.0, 3769712.0, 3857339.0, 3955169.0, 4073955.0, 4155099.0, 4245777.0, 4378255.0, 4447086.0, 4526333.0, 4630391.0, 4746118.0, 4838921.0, 4945557.0, 5051864.0, 5140899.0, 5235813.0, 5353272.0, 5577684.0, 5754006.0, 5863847.0, 6059565.0, 6179006.0, 6302626.0, 6447656.0, 6586726.0, 6740124.0, 6879521.0, 7005299.0, 7116957.0, 7257369.0, 7399474.0, 7559252.0, 7711525.0, 7894890.0, 8045827.0, 8133663.0, 8290431.0, 8466990.0, 8643987.0, 8813886.0, 9043203.0, 9262520.0, 9397505.0, 9572619.0, 9711187.0, 9948163.0, 10170650.0, 10369140.0, 10553585.0, 10690555.0, 10913000.0, 11134735.0, 11356275.0, 11545401.0, 11737927.0, 11939109.0, 12115825.0, 12280520.0, 12585473.0, 12827682.0, 12992176.0, 13276831.0, 13445842.0, 13676868.0, 13888301.0, 14116451.0, 14333914.0, 14541573.0, 14712252.0, 14911319.0, 15137203.0, 15337252.0, 15570191.0, 15794441.0, 15997281.0, 16198165.0, 16409757.0, 16618168.0, 16819592.0, 17074386.0, 17291874.0, 17512585.0, 17717266.0, 17917644.0, 18137310.0, 18325062.0, 18524391.0, 18776723.0, 18992383.0, 19215800.0, 19439157.0, 19547423.0, 19775100.0, 20078979.0, 20225219.0, 20439713.0, 20683110.0, 20922189.0, 21159459.0, 21394593.0, 21624434.0, 21890442.0]}],\n",
              "                        {\"template\": {\"data\": {\"bar\": [{\"error_x\": {\"color\": \"#2a3f5f\"}, \"error_y\": {\"color\": \"#2a3f5f\"}, \"marker\": {\"line\": {\"color\": \"#E5ECF6\", \"width\": 0.5}}, \"type\": \"bar\"}], \"barpolar\": [{\"marker\": {\"line\": {\"color\": \"#E5ECF6\", \"width\": 0.5}}, \"type\": \"barpolar\"}], \"carpet\": [{\"aaxis\": {\"endlinecolor\": \"#2a3f5f\", \"gridcolor\": \"white\", \"linecolor\": \"white\", \"minorgridcolor\": \"white\", \"startlinecolor\": \"#2a3f5f\"}, \"baxis\": {\"endlinecolor\": \"#2a3f5f\", \"gridcolor\": \"white\", \"linecolor\": \"white\", \"minorgridcolor\": \"white\", \"startlinecolor\": \"#2a3f5f\"}, \"type\": \"carpet\"}], \"choropleth\": [{\"colorbar\": {\"outlinewidth\": 0, \"ticks\": \"\"}, \"type\": \"choropleth\"}], \"contour\": [{\"colorbar\": {\"outlinewidth\": 0, \"ticks\": \"\"}, \"colorscale\": [[0.0, \"#0d0887\"], [0.1111111111111111, \"#46039f\"], [0.2222222222222222, \"#7201a8\"], [0.3333333333333333, \"#9c179e\"], [0.4444444444444444, \"#bd3786\"], [0.5555555555555556, \"#d8576b\"], [0.6666666666666666, \"#ed7953\"], [0.7777777777777778, \"#fb9f3a\"], [0.8888888888888888, \"#fdca26\"], [1.0, \"#f0f921\"]], \"type\": \"contour\"}], \"contourcarpet\": [{\"colorbar\": {\"outlinewidth\": 0, \"ticks\": \"\"}, \"type\": \"contourcarpet\"}], \"heatmap\": [{\"colorbar\": {\"outlinewidth\": 0, \"ticks\": \"\"}, \"colorscale\": [[0.0, \"#0d0887\"], [0.1111111111111111, \"#46039f\"], [0.2222222222222222, \"#7201a8\"], [0.3333333333333333, \"#9c179e\"], [0.4444444444444444, \"#bd3786\"], [0.5555555555555556, \"#d8576b\"], [0.6666666666666666, \"#ed7953\"], [0.7777777777777778, \"#fb9f3a\"], [0.8888888888888888, \"#fdca26\"], [1.0, \"#f0f921\"]], \"type\": \"heatmap\"}], \"heatmapgl\": [{\"colorbar\": {\"outlinewidth\": 0, \"ticks\": \"\"}, \"colorscale\": [[0.0, \"#0d0887\"], [0.1111111111111111, \"#46039f\"], [0.2222222222222222, \"#7201a8\"], [0.3333333333333333, \"#9c179e\"], [0.4444444444444444, \"#bd3786\"], [0.5555555555555556, \"#d8576b\"], [0.6666666666666666, \"#ed7953\"], [0.7777777777777778, \"#fb9f3a\"], [0.8888888888888888, \"#fdca26\"], [1.0, \"#f0f921\"]], \"type\": \"heatmapgl\"}], \"histogram\": [{\"marker\": {\"colorbar\": {\"outlinewidth\": 0, \"ticks\": \"\"}}, \"type\": \"histogram\"}], \"histogram2d\": [{\"colorbar\": {\"outlinewidth\": 0, \"ticks\": \"\"}, \"colorscale\": [[0.0, \"#0d0887\"], [0.1111111111111111, \"#46039f\"], [0.2222222222222222, \"#7201a8\"], [0.3333333333333333, \"#9c179e\"], [0.4444444444444444, \"#bd3786\"], [0.5555555555555556, \"#d8576b\"], [0.6666666666666666, \"#ed7953\"], [0.7777777777777778, \"#fb9f3a\"], [0.8888888888888888, \"#fdca26\"], [1.0, \"#f0f921\"]], \"type\": \"histogram2d\"}], \"histogram2dcontour\": [{\"colorbar\": {\"outlinewidth\": 0, \"ticks\": \"\"}, \"colorscale\": [[0.0, \"#0d0887\"], [0.1111111111111111, \"#46039f\"], [0.2222222222222222, \"#7201a8\"], [0.3333333333333333, \"#9c179e\"], [0.4444444444444444, \"#bd3786\"], [0.5555555555555556, \"#d8576b\"], [0.6666666666666666, \"#ed7953\"], [0.7777777777777778, \"#fb9f3a\"], [0.8888888888888888, \"#fdca26\"], [1.0, \"#f0f921\"]], \"type\": \"histogram2dcontour\"}], \"mesh3d\": [{\"colorbar\": {\"outlinewidth\": 0, \"ticks\": \"\"}, \"type\": \"mesh3d\"}], \"parcoords\": [{\"line\": {\"colorbar\": {\"outlinewidth\": 0, \"ticks\": \"\"}}, \"type\": \"parcoords\"}], \"pie\": [{\"automargin\": true, \"type\": \"pie\"}], \"scatter\": [{\"marker\": {\"colorbar\": {\"outlinewidth\": 0, \"ticks\": \"\"}}, \"type\": \"scatter\"}], \"scatter3d\": [{\"line\": {\"colorbar\": {\"outlinewidth\": 0, \"ticks\": \"\"}}, \"marker\": {\"colorbar\": {\"outlinewidth\": 0, \"ticks\": \"\"}}, \"type\": \"scatter3d\"}], \"scattercarpet\": [{\"marker\": {\"colorbar\": {\"outlinewidth\": 0, \"ticks\": \"\"}}, \"type\": \"scattercarpet\"}], \"scattergeo\": [{\"marker\": {\"colorbar\": {\"outlinewidth\": 0, \"ticks\": \"\"}}, \"type\": \"scattergeo\"}], \"scattergl\": [{\"marker\": {\"colorbar\": {\"outlinewidth\": 0, \"ticks\": \"\"}}, \"type\": \"scattergl\"}], \"scattermapbox\": [{\"marker\": {\"colorbar\": {\"outlinewidth\": 0, \"ticks\": \"\"}}, \"type\": \"scattermapbox\"}], \"scatterpolar\": [{\"marker\": {\"colorbar\": {\"outlinewidth\": 0, \"ticks\": \"\"}}, \"type\": \"scatterpolar\"}], \"scatterpolargl\": [{\"marker\": {\"colorbar\": {\"outlinewidth\": 0, \"ticks\": \"\"}}, \"type\": \"scatterpolargl\"}], \"scatterternary\": [{\"marker\": {\"colorbar\": {\"outlinewidth\": 0, \"ticks\": \"\"}}, \"type\": \"scatterternary\"}], \"surface\": [{\"colorbar\": {\"outlinewidth\": 0, \"ticks\": \"\"}, \"colorscale\": [[0.0, \"#0d0887\"], [0.1111111111111111, \"#46039f\"], [0.2222222222222222, \"#7201a8\"], [0.3333333333333333, \"#9c179e\"], [0.4444444444444444, \"#bd3786\"], [0.5555555555555556, \"#d8576b\"], [0.6666666666666666, \"#ed7953\"], [0.7777777777777778, \"#fb9f3a\"], [0.8888888888888888, \"#fdca26\"], [1.0, \"#f0f921\"]], \"type\": \"surface\"}], \"table\": [{\"cells\": {\"fill\": {\"color\": \"#EBF0F8\"}, \"line\": {\"color\": \"white\"}}, \"header\": {\"fill\": {\"color\": \"#C8D4E3\"}, \"line\": {\"color\": \"white\"}}, \"type\": \"table\"}]}, \"layout\": {\"annotationdefaults\": {\"arrowcolor\": \"#2a3f5f\", \"arrowhead\": 0, \"arrowwidth\": 1}, \"coloraxis\": {\"colorbar\": {\"outlinewidth\": 0, \"ticks\": \"\"}}, \"colorscale\": {\"diverging\": [[0, \"#8e0152\"], [0.1, \"#c51b7d\"], [0.2, \"#de77ae\"], [0.3, \"#f1b6da\"], [0.4, \"#fde0ef\"], [0.5, \"#f7f7f7\"], [0.6, \"#e6f5d0\"], [0.7, \"#b8e186\"], [0.8, \"#7fbc41\"], [0.9, \"#4d9221\"], [1, \"#276419\"]], \"sequential\": [[0.0, \"#0d0887\"], [0.1111111111111111, \"#46039f\"], [0.2222222222222222, \"#7201a8\"], [0.3333333333333333, \"#9c179e\"], [0.4444444444444444, \"#bd3786\"], [0.5555555555555556, \"#d8576b\"], [0.6666666666666666, \"#ed7953\"], [0.7777777777777778, \"#fb9f3a\"], [0.8888888888888888, \"#fdca26\"], [1.0, \"#f0f921\"]], \"sequentialminus\": [[0.0, \"#0d0887\"], [0.1111111111111111, \"#46039f\"], [0.2222222222222222, \"#7201a8\"], [0.3333333333333333, \"#9c179e\"], [0.4444444444444444, \"#bd3786\"], [0.5555555555555556, \"#d8576b\"], [0.6666666666666666, \"#ed7953\"], [0.7777777777777778, \"#fb9f3a\"], [0.8888888888888888, \"#fdca26\"], [1.0, \"#f0f921\"]]}, \"colorway\": [\"#636efa\", \"#EF553B\", \"#00cc96\", \"#ab63fa\", \"#FFA15A\", \"#19d3f3\", \"#FF6692\", \"#B6E880\", \"#FF97FF\", \"#FECB52\"], \"font\": {\"color\": \"#2a3f5f\"}, \"geo\": {\"bgcolor\": \"white\", \"lakecolor\": \"white\", \"landcolor\": \"#E5ECF6\", \"showlakes\": true, \"showland\": true, \"subunitcolor\": \"white\"}, \"hoverlabel\": {\"align\": \"left\"}, \"hovermode\": \"closest\", \"mapbox\": {\"style\": \"light\"}, \"paper_bgcolor\": \"white\", \"plot_bgcolor\": \"#E5ECF6\", \"polar\": {\"angularaxis\": {\"gridcolor\": \"white\", \"linecolor\": \"white\", \"ticks\": \"\"}, \"bgcolor\": \"#E5ECF6\", \"radialaxis\": {\"gridcolor\": \"white\", \"linecolor\": \"white\", \"ticks\": \"\"}}, \"scene\": {\"xaxis\": {\"backgroundcolor\": \"#E5ECF6\", \"gridcolor\": \"white\", \"gridwidth\": 2, \"linecolor\": \"white\", \"showbackground\": true, \"ticks\": \"\", \"zerolinecolor\": \"white\"}, \"yaxis\": {\"backgroundcolor\": \"#E5ECF6\", \"gridcolor\": \"white\", \"gridwidth\": 2, \"linecolor\": \"white\", \"showbackground\": true, \"ticks\": \"\", \"zerolinecolor\": \"white\"}, \"zaxis\": {\"backgroundcolor\": \"#E5ECF6\", \"gridcolor\": \"white\", \"gridwidth\": 2, \"linecolor\": \"white\", \"showbackground\": true, \"ticks\": \"\", \"zerolinecolor\": \"white\"}}, \"shapedefaults\": {\"line\": {\"color\": \"#2a3f5f\"}}, \"ternary\": {\"aaxis\": {\"gridcolor\": \"white\", \"linecolor\": \"white\", \"ticks\": \"\"}, \"baxis\": {\"gridcolor\": \"white\", \"linecolor\": \"white\", \"ticks\": \"\"}, \"bgcolor\": \"#E5ECF6\", \"caxis\": {\"gridcolor\": \"white\", \"linecolor\": \"white\", \"ticks\": \"\"}}, \"title\": {\"x\": 0.05}, \"xaxis\": {\"automargin\": true, \"gridcolor\": \"white\", \"linecolor\": \"white\", \"ticks\": \"\", \"title\": {\"standoff\": 15}, \"zerolinecolor\": \"white\", \"zerolinewidth\": 2}, \"yaxis\": {\"automargin\": true, \"gridcolor\": \"white\", \"linecolor\": \"white\", \"ticks\": \"\", \"title\": {\"standoff\": 15}, \"zerolinecolor\": \"white\", \"zerolinewidth\": 2}}}, \"title\": {\"text\": \"Worldwide NCOVID-19 Cases\"}, \"xaxis\": {\"tickfont\": {\"size\": 14}}, \"yaxis\": {\"title\": {\"text\": \"Number of Cases\"}}},\n",
              "                        {\"responsive\": true}\n",
              "                    ).then(function(){\n",
              "                            \n",
              "var gd = document.getElementById('2f86da6d-6c31-470a-bee0-ff3c51ff4320');\n",
              "var x = new MutationObserver(function (mutations, observer) {{\n",
              "        var display = window.getComputedStyle(gd).display;\n",
              "        if (!display || display === 'none') {{\n",
              "            console.log([gd, 'removed!']);\n",
              "            Plotly.purge(gd);\n",
              "            observer.disconnect();\n",
              "        }}\n",
              "}});\n",
              "\n",
              "// Listen for the removal of the full notebook cells\n",
              "var notebookContainer = gd.closest('#notebook-container');\n",
              "if (notebookContainer) {{\n",
              "    x.observe(notebookContainer, {childList: true});\n",
              "}}\n",
              "\n",
              "// Listen for the clearing of the current output cell\n",
              "var outputEl = gd.closest('.output');\n",
              "if (outputEl) {{\n",
              "    x.observe(outputEl, {childList: true});\n",
              "}}\n",
              "\n",
              "                        })\n",
              "                };\n",
              "                \n",
              "            </script>\n",
              "        </div>\n",
              "</body>\n",
              "</html>"
            ]
          },
          "metadata": {
            "tags": []
          }
        }
      ]
    },
    {
      "cell_type": "markdown",
      "metadata": {
        "id": "guIlgMVOXrPl"
      },
      "source": [
        "# Predicting Total Number of Cases Worldwide\n"
      ]
    },
    {
      "cell_type": "code",
      "metadata": {
        "id": "7Uhg_dqpUqi7"
      },
      "source": [
        "from fbprophet import Prophet"
      ],
      "execution_count": 88,
      "outputs": []
    },
    {
      "cell_type": "code",
      "metadata": {
        "id": "JF1sy1gmP8Ur"
      },
      "source": [
        "confirmed = df.groupby('Date').sum()['Confirmed'].reset_index()\n",
        "deaths = df.groupby('Date').sum()['Deaths'].reset_index()\n",
        "recovered = df.groupby('Date').sum()['Recovered'].reset_index()"
      ],
      "execution_count": 89,
      "outputs": []
    },
    {
      "cell_type": "code",
      "metadata": {
        "id": "rn3z-futUCXy"
      },
      "source": [
        "confirmed.columns = ['ds','y']\n",
        "#confirmed['ds'] = confirmed['ds'].dt.date\n",
        "confirmed['ds'] = pd.to_datetime(confirmed['ds'])"
      ],
      "execution_count": 90,
      "outputs": []
    },
    {
      "cell_type": "markdown",
      "metadata": {
        "id": "bZVTsSqMaDLO"
      },
      "source": [
        "\n",
        "## Forecasting COVID-19 Cases Worldwide with Prophet for 1 week in future (Base model)\n",
        "\n",
        "Generating a week ahead forecast of confirmed cases of NCOVID-19 using Prophet, with 95% prediction interval by creating a base model with no tweaking of seasonality-related parameters and additional regressors."
      ]
    },
    {
      "cell_type": "code",
      "metadata": {
        "id": "5pw5VDIlUH-F",
        "outputId": "d61f3562-5b64-4822-8ce1-db3fc6fe8ad6",
        "colab": {
          "base_uri": "https://localhost:8080/",
          "height": 238
        }
      },
      "source": [
        "m = Prophet(interval_width=0.95)\n",
        "m.fit(confirmed)\n",
        "future = m.make_future_dataframe(periods=7)\n",
        "future.tail()"
      ],
      "execution_count": 91,
      "outputs": [
        {
          "output_type": "stream",
          "text": [
            "INFO:fbprophet:Disabling yearly seasonality. Run prophet with yearly_seasonality=True to override this.\n",
            "INFO:fbprophet:Disabling daily seasonality. Run prophet with daily_seasonality=True to override this.\n"
          ],
          "name": "stderr"
        },
        {
          "output_type": "execute_result",
          "data": {
            "text/html": [
              "<div>\n",
              "<style scoped>\n",
              "    .dataframe tbody tr th:only-of-type {\n",
              "        vertical-align: middle;\n",
              "    }\n",
              "\n",
              "    .dataframe tbody tr th {\n",
              "        vertical-align: top;\n",
              "    }\n",
              "\n",
              "    .dataframe thead th {\n",
              "        text-align: right;\n",
              "    }\n",
              "</style>\n",
              "<table border=\"1\" class=\"dataframe\">\n",
              "  <thead>\n",
              "    <tr style=\"text-align: right;\">\n",
              "      <th></th>\n",
              "      <th>ds</th>\n",
              "    </tr>\n",
              "  </thead>\n",
              "  <tbody>\n",
              "    <tr>\n",
              "      <th>248</th>\n",
              "      <td>2020-09-26</td>\n",
              "    </tr>\n",
              "    <tr>\n",
              "      <th>249</th>\n",
              "      <td>2020-09-27</td>\n",
              "    </tr>\n",
              "    <tr>\n",
              "      <th>250</th>\n",
              "      <td>2020-09-28</td>\n",
              "    </tr>\n",
              "    <tr>\n",
              "      <th>251</th>\n",
              "      <td>2020-09-29</td>\n",
              "    </tr>\n",
              "    <tr>\n",
              "      <th>252</th>\n",
              "      <td>2020-09-30</td>\n",
              "    </tr>\n",
              "  </tbody>\n",
              "</table>\n",
              "</div>"
            ],
            "text/plain": [
              "            ds\n",
              "248 2020-09-26\n",
              "249 2020-09-27\n",
              "250 2020-09-28\n",
              "251 2020-09-29\n",
              "252 2020-09-30"
            ]
          },
          "metadata": {
            "tags": []
          },
          "execution_count": 91
        }
      ]
    },
    {
      "cell_type": "code",
      "metadata": {
        "id": "CdJu5EnIUPhB",
        "outputId": "73c7f6bf-aafa-4413-b6e6-a5758cfcb09d",
        "colab": {
          "base_uri": "https://localhost:8080/",
          "height": 204
        }
      },
      "source": [
        "#predicting the future with date, and upper and lower limit of y value\n",
        "forecast = m.predict(future)\n",
        "forecast[['ds', 'yhat', 'yhat_lower', 'yhat_upper']].tail()"
      ],
      "execution_count": 92,
      "outputs": [
        {
          "output_type": "execute_result",
          "data": {
            "text/html": [
              "<div>\n",
              "<style scoped>\n",
              "    .dataframe tbody tr th:only-of-type {\n",
              "        vertical-align: middle;\n",
              "    }\n",
              "\n",
              "    .dataframe tbody tr th {\n",
              "        vertical-align: top;\n",
              "    }\n",
              "\n",
              "    .dataframe thead th {\n",
              "        text-align: right;\n",
              "    }\n",
              "</style>\n",
              "<table border=\"1\" class=\"dataframe\">\n",
              "  <thead>\n",
              "    <tr style=\"text-align: right;\">\n",
              "      <th></th>\n",
              "      <th>ds</th>\n",
              "      <th>yhat</th>\n",
              "      <th>yhat_lower</th>\n",
              "      <th>yhat_upper</th>\n",
              "    </tr>\n",
              "  </thead>\n",
              "  <tbody>\n",
              "    <tr>\n",
              "      <th>248</th>\n",
              "      <td>2020-09-26</td>\n",
              "      <td>3.241260e+07</td>\n",
              "      <td>3.233298e+07</td>\n",
              "      <td>3.249502e+07</td>\n",
              "    </tr>\n",
              "    <tr>\n",
              "      <th>249</th>\n",
              "      <td>2020-09-27</td>\n",
              "      <td>3.265962e+07</td>\n",
              "      <td>3.257718e+07</td>\n",
              "      <td>3.273693e+07</td>\n",
              "    </tr>\n",
              "    <tr>\n",
              "      <th>250</th>\n",
              "      <td>2020-09-28</td>\n",
              "      <td>3.291001e+07</td>\n",
              "      <td>3.282133e+07</td>\n",
              "      <td>3.300015e+07</td>\n",
              "    </tr>\n",
              "    <tr>\n",
              "      <th>251</th>\n",
              "      <td>2020-09-29</td>\n",
              "      <td>3.317134e+07</td>\n",
              "      <td>3.305149e+07</td>\n",
              "      <td>3.327768e+07</td>\n",
              "    </tr>\n",
              "    <tr>\n",
              "      <th>252</th>\n",
              "      <td>2020-09-30</td>\n",
              "      <td>3.344034e+07</td>\n",
              "      <td>3.330365e+07</td>\n",
              "      <td>3.356140e+07</td>\n",
              "    </tr>\n",
              "  </tbody>\n",
              "</table>\n",
              "</div>"
            ],
            "text/plain": [
              "            ds          yhat    yhat_lower    yhat_upper\n",
              "248 2020-09-26  3.241260e+07  3.233298e+07  3.249502e+07\n",
              "249 2020-09-27  3.265962e+07  3.257718e+07  3.273693e+07\n",
              "250 2020-09-28  3.291001e+07  3.282133e+07  3.300015e+07\n",
              "251 2020-09-29  3.317134e+07  3.305149e+07  3.327768e+07\n",
              "252 2020-09-30  3.344034e+07  3.330365e+07  3.356140e+07"
            ]
          },
          "metadata": {
            "tags": []
          },
          "execution_count": 92
        }
      ]
    },
    {
      "cell_type": "code",
      "metadata": {
        "id": "ePoOz6wwU3c0",
        "outputId": "c06f4243-f597-41c3-da06-a9d9dd3ab11f",
        "colab": {
          "base_uri": "https://localhost:8080/",
          "height": 441
        }
      },
      "source": [
        "confirmed_forecast_plot = m.plot(forecast)"
      ],
      "execution_count": 93,
      "outputs": [
        {
          "output_type": "display_data",
          "data": {
            "image/png": "[encoded data removed]",
            "text/plain": [
              "<Figure size 720x432 with 1 Axes>"
            ]
          },
          "metadata": {
            "tags": []
          }
        }
      ]
    },
    {
      "cell_type": "code",
      "metadata": {
        "id": "UDv_-qMRepkF",
        "outputId": "c608e941-1151-4f54-a921-5352c52a34b9",
        "colab": {
          "base_uri": "https://localhost:8080/",
          "height": 441
        }
      },
      "source": [
        "confirmed_forecast_plot =m.plot_components(forecast)"
      ],
      "execution_count": 94,
      "outputs": [
        {
          "output_type": "display_data",
          "data": {
            "image/png": "[encoded data removed]",
            "text/plain": [
              "<Figure size 648x432 with 2 Axes>"
            ]
          },
          "metadata": {
            "tags": []
          }
        }
      ]
    },
    {
      "cell_type": "markdown",
      "metadata": {
        "id": "BEo4E8R8dy0_"
      },
      "source": [
        "## Predicting Worldwide Recovered Cases with Prophet (Base model)"
      ]
    },
    {
      "cell_type": "code",
      "metadata": {
        "id": "Z1keUssrdvYN"
      },
      "source": [
        "recovered.columns = ['ds','y']\n",
        "recovered['ds'] = pd.to_datetime(recovered['ds'])"
      ],
      "execution_count": 100,
      "outputs": []
    },
    {
      "cell_type": "code",
      "metadata": {
        "id": "EaggMuv7d-1D",
        "outputId": "3c8da427-fc71-4ca0-fcb1-dea68e3ba807",
        "colab": {
          "base_uri": "https://localhost:8080/",
          "height": 238
        }
      },
      "source": [
        "m = Prophet(interval_width=0.95)\n",
        "m.fit(recovered)\n",
        "future = m.make_future_dataframe(periods=7)\n",
        "future.tail()"
      ],
      "execution_count": 101,
      "outputs": [
        {
          "output_type": "stream",
          "text": [
            "INFO:fbprophet:Disabling yearly seasonality. Run prophet with yearly_seasonality=True to override this.\n",
            "INFO:fbprophet:Disabling daily seasonality. Run prophet with daily_seasonality=True to override this.\n"
          ],
          "name": "stderr"
        },
        {
          "output_type": "execute_result",
          "data": {
            "text/html": [
              "<div>\n",
              "<style scoped>\n",
              "    .dataframe tbody tr th:only-of-type {\n",
              "        vertical-align: middle;\n",
              "    }\n",
              "\n",
              "    .dataframe tbody tr th {\n",
              "        vertical-align: top;\n",
              "    }\n",
              "\n",
              "    .dataframe thead th {\n",
              "        text-align: right;\n",
              "    }\n",
              "</style>\n",
              "<table border=\"1\" class=\"dataframe\">\n",
              "  <thead>\n",
              "    <tr style=\"text-align: right;\">\n",
              "      <th></th>\n",
              "      <th>ds</th>\n",
              "    </tr>\n",
              "  </thead>\n",
              "  <tbody>\n",
              "    <tr>\n",
              "      <th>248</th>\n",
              "      <td>2020-09-26</td>\n",
              "    </tr>\n",
              "    <tr>\n",
              "      <th>249</th>\n",
              "      <td>2020-09-27</td>\n",
              "    </tr>\n",
              "    <tr>\n",
              "      <th>250</th>\n",
              "      <td>2020-09-28</td>\n",
              "    </tr>\n",
              "    <tr>\n",
              "      <th>251</th>\n",
              "      <td>2020-09-29</td>\n",
              "    </tr>\n",
              "    <tr>\n",
              "      <th>252</th>\n",
              "      <td>2020-09-30</td>\n",
              "    </tr>\n",
              "  </tbody>\n",
              "</table>\n",
              "</div>"
            ],
            "text/plain": [
              "            ds\n",
              "248 2020-09-26\n",
              "249 2020-09-27\n",
              "250 2020-09-28\n",
              "251 2020-09-29\n",
              "252 2020-09-30"
            ]
          },
          "metadata": {
            "tags": []
          },
          "execution_count": 101
        }
      ]
    },
    {
      "cell_type": "code",
      "metadata": {
        "id": "QwTHSHVheAYS",
        "outputId": "fce185c1-0ce9-4d36-8565-1006db0a455e",
        "colab": {
          "base_uri": "https://localhost:8080/",
          "height": 204
        }
      },
      "source": [
        "forecast = m.predict(future)\n",
        "forecast[['ds', 'yhat', 'yhat_lower', 'yhat_upper']].tail()"
      ],
      "execution_count": 102,
      "outputs": [
        {
          "output_type": "execute_result",
          "data": {
            "text/html": [
              "<div>\n",
              "<style scoped>\n",
              "    .dataframe tbody tr th:only-of-type {\n",
              "        vertical-align: middle;\n",
              "    }\n",
              "\n",
              "    .dataframe tbody tr th {\n",
              "        vertical-align: top;\n",
              "    }\n",
              "\n",
              "    .dataframe thead th {\n",
              "        text-align: right;\n",
              "    }\n",
              "</style>\n",
              "<table border=\"1\" class=\"dataframe\">\n",
              "  <thead>\n",
              "    <tr style=\"text-align: right;\">\n",
              "      <th></th>\n",
              "      <th>ds</th>\n",
              "      <th>yhat</th>\n",
              "      <th>yhat_lower</th>\n",
              "      <th>yhat_upper</th>\n",
              "    </tr>\n",
              "  </thead>\n",
              "  <tbody>\n",
              "    <tr>\n",
              "      <th>248</th>\n",
              "      <td>2020-09-26</td>\n",
              "      <td>2.241481e+07</td>\n",
              "      <td>2.236811e+07</td>\n",
              "      <td>2.246070e+07</td>\n",
              "    </tr>\n",
              "    <tr>\n",
              "      <th>249</th>\n",
              "      <td>2020-09-27</td>\n",
              "      <td>2.261581e+07</td>\n",
              "      <td>2.256189e+07</td>\n",
              "      <td>2.266851e+07</td>\n",
              "    </tr>\n",
              "    <tr>\n",
              "      <th>250</th>\n",
              "      <td>2020-09-28</td>\n",
              "      <td>2.282627e+07</td>\n",
              "      <td>2.276734e+07</td>\n",
              "      <td>2.289375e+07</td>\n",
              "    </tr>\n",
              "    <tr>\n",
              "      <th>251</th>\n",
              "      <td>2020-09-29</td>\n",
              "      <td>2.304463e+07</td>\n",
              "      <td>2.297203e+07</td>\n",
              "      <td>2.312305e+07</td>\n",
              "    </tr>\n",
              "    <tr>\n",
              "      <th>252</th>\n",
              "      <td>2020-09-30</td>\n",
              "      <td>2.326678e+07</td>\n",
              "      <td>2.317230e+07</td>\n",
              "      <td>2.335647e+07</td>\n",
              "    </tr>\n",
              "  </tbody>\n",
              "</table>\n",
              "</div>"
            ],
            "text/plain": [
              "            ds          yhat    yhat_lower    yhat_upper\n",
              "248 2020-09-26  2.241481e+07  2.236811e+07  2.246070e+07\n",
              "249 2020-09-27  2.261581e+07  2.256189e+07  2.266851e+07\n",
              "250 2020-09-28  2.282627e+07  2.276734e+07  2.289375e+07\n",
              "251 2020-09-29  2.304463e+07  2.297203e+07  2.312305e+07\n",
              "252 2020-09-30  2.326678e+07  2.317230e+07  2.335647e+07"
            ]
          },
          "metadata": {
            "tags": []
          },
          "execution_count": 102
        }
      ]
    },
    {
      "cell_type": "code",
      "metadata": {
        "id": "EAp07XxTeCuy",
        "outputId": "fd20dc00-a97f-4854-e4c5-6bf706f13700",
        "colab": {
          "base_uri": "https://localhost:8080/",
          "height": 441
        }
      },
      "source": [
        "recovered_forecast_plot = m.plot(forecast)"
      ],
      "execution_count": 103,
      "outputs": [
        {
          "output_type": "display_data",
          "data": {
            "image/png": "[encoded data removed]",
            "text/plain": [
              "<Figure size 720x432 with 1 Axes>"
            ]
          },
          "metadata": {
            "tags": []
          }
        }
      ]
    },
    {
      "cell_type": "code",
      "metadata": {
        "id": "UQVIYNZReFSB",
        "outputId": "f0b3db7c-d44d-458c-c888-b5008f98eb58",
        "colab": {
          "base_uri": "https://localhost:8080/",
          "height": 441
        }
      },
      "source": [
        "recovered_forecast_plot = m.plot_components(forecast)\n"
      ],
      "execution_count": 104,
      "outputs": [
        {
          "output_type": "display_data",
          "data": {
            "image/png": "[encoded data removed]",
            "text/plain": [
              "<Figure size 648x432 with 2 Axes>"
            ]
          },
          "metadata": {
            "tags": []
          }
        }
      ]
    },
    {
      "cell_type": "markdown",
      "metadata": {
        "id": "z2zVUbxbJq7d"
      },
      "source": [
        "#**Data Sources:**\n",
        "- https://www.mohfw.gov.in/\n",
        "- https://www.kaggle.com/sudalairajkumar/novel-corona-virus-2019-dataset\n",
        "- https://www.kaggle.com/sudalairajkumar/covid19-in-usa?select=us_covid19_daily.csv\n",
        "- https://www.kaggle.com/imdevskp/covid19-corona-virus-india-dataset\n",
        "\n",
        "The above analysis was done on 25th August\n",
        "\n"
      ]
    }
  ]
}